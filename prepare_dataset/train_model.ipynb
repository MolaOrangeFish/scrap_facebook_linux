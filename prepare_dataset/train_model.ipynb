{
 "cells": [
  {
   "cell_type": "code",
   "execution_count": 19,
   "metadata": {},
   "outputs": [],
   "source": [
    "from sklearn.feature_extraction.text import CountVectorizer,TfidfVectorizer, TfidfTransformer\n",
    "from sklearn.datasets import load_files\n",
    "import pandas as pd\n",
    "import numpy as np\n",
    "from function import str_to_list\n",
    "import re"
   ]
  },
  {
   "cell_type": "code",
   "execution_count": 20,
   "metadata": {},
   "outputs": [],
   "source": [
    "df = pd.read_csv('new_data.csv')\n",
    "size = df.shape[0]\n"
   ]
  },
  {
   "attachments": {},
   "cell_type": "markdown",
   "metadata": {},
   "source": [
    "Data Preparation"
   ]
  },
  {
   "cell_type": "code",
   "execution_count": 21,
   "metadata": {},
   "outputs": [
    {
     "data": {
      "text/html": [
       "<div>\n",
       "<style scoped>\n",
       "    .dataframe tbody tr th:only-of-type {\n",
       "        vertical-align: middle;\n",
       "    }\n",
       "\n",
       "    .dataframe tbody tr th {\n",
       "        vertical-align: top;\n",
       "    }\n",
       "\n",
       "    .dataframe thead th {\n",
       "        text-align: right;\n",
       "    }\n",
       "</style>\n",
       "<table border=\"1\" class=\"dataframe\">\n",
       "  <thead>\n",
       "    <tr style=\"text-align: right;\">\n",
       "      <th></th>\n",
       "      <th>post_type</th>\n",
       "      <th>text</th>\n",
       "      <th>text_replace</th>\n",
       "    </tr>\n",
       "  </thead>\n",
       "  <tbody>\n",
       "    <tr>\n",
       "      <th>0</th>\n",
       "      <td>3</td>\n",
       "      <td>['หา', 'สัญญา', 'หอ', 'มจพ', 'ย้าย', 'ปลาย', '...</td>\n",
       "      <td>หา    สัญญา    หอ    มจพ    ย้าย    ปลาย    ...</td>\n",
       "    </tr>\n",
       "    <tr>\n",
       "      <th>1</th>\n",
       "      <td>1</td>\n",
       "      <td>['ขาย', 'ตั๋วหนัง', 'black', 'panther', 'โรง',...</td>\n",
       "      <td>ขาย    ตั๋วหนัง    black    panther    โรง  ...</td>\n",
       "    </tr>\n",
       "    <tr>\n",
       "      <th>2</th>\n",
       "      <td>1</td>\n",
       "      <td>['กระโปรง', 'ศึกษา', 'เอว', '24', '28', 'เอว',...</td>\n",
       "      <td>กระโปรง    ศึกษา    เอว    24    28    เอว  ...</td>\n",
       "    </tr>\n",
       "    <tr>\n",
       "      <th>3</th>\n",
       "      <td>1</td>\n",
       "      <td>['อนุญาต', 'ขาย', 'ขาย', 'ตู้', 'เย็น', 'Midea...</td>\n",
       "      <td>อนุญาต    ขาย    ขาย    ตู้    เย็น    Midea...</td>\n",
       "    </tr>\n",
       "    <tr>\n",
       "      <th>4</th>\n",
       "      <td>1</td>\n",
       "      <td>['XX', 'คน', 'เช่า', 'XX', 'อนุญาต', 'ประกาศ',...</td>\n",
       "      <td>XX    คน    เช่า    XX    อนุญาต    ประกาศ  ...</td>\n",
       "    </tr>\n",
       "    <tr>\n",
       "      <th>...</th>\n",
       "      <td>...</td>\n",
       "      <td>...</td>\n",
       "      <td>...</td>\n",
       "    </tr>\n",
       "    <tr>\n",
       "      <th>943</th>\n",
       "      <td>0</td>\n",
       "      <td>['เจอ', 'กระเป๋า', 'รูป', 'ฝาก', 'ร้าน']</td>\n",
       "      <td>เจอ    กระเป๋า    รูป    ฝาก    ร้าน</td>\n",
       "    </tr>\n",
       "    <tr>\n",
       "      <th>944</th>\n",
       "      <td>0</td>\n",
       "      <td>['พวง', 'กุญแจ', 'รถ', 'หล่น', 'สะพาน', 'เขียว...</td>\n",
       "      <td>พวง    กุญแจ    รถ    หล่น    สะพาน    เขียว...</td>\n",
       "    </tr>\n",
       "    <tr>\n",
       "      <th>945</th>\n",
       "      <td>0</td>\n",
       "      <td>['เจ้าของ', 'บัตร', 'ลืม', 'ติดต่อ', 'ร้านริมน...</td>\n",
       "      <td>เจ้าของ    บัตร    ลืม    ติดต่อ    ร้านริมน...</td>\n",
       "    </tr>\n",
       "    <tr>\n",
       "      <th>946</th>\n",
       "      <td>0</td>\n",
       "      <td>['อนุญาต', 'ตามหา', 'แมว', 'หาย', 'น้อง', 'รบก...</td>\n",
       "      <td>อนุญาต    ตามหา    แมว    หาย    น้อง    รบก...</td>\n",
       "    </tr>\n",
       "    <tr>\n",
       "      <th>947</th>\n",
       "      <td>0</td>\n",
       "      <td>['เจอ', 'แอพอ', 'ทตก', 'หน้า', 'ร้าน', 'ขาย', ...</td>\n",
       "      <td>เจอ    แอพอ    ทตก    หน้า    ร้าน    ขาย   ...</td>\n",
       "    </tr>\n",
       "  </tbody>\n",
       "</table>\n",
       "<p>948 rows × 3 columns</p>\n",
       "</div>"
      ],
      "text/plain": [
       "     post_type                                               text  \\\n",
       "0            3  ['หา', 'สัญญา', 'หอ', 'มจพ', 'ย้าย', 'ปลาย', '...   \n",
       "1            1  ['ขาย', 'ตั๋วหนัง', 'black', 'panther', 'โรง',...   \n",
       "2            1  ['กระโปรง', 'ศึกษา', 'เอว', '24', '28', 'เอว',...   \n",
       "3            1  ['อนุญาต', 'ขาย', 'ขาย', 'ตู้', 'เย็น', 'Midea...   \n",
       "4            1  ['XX', 'คน', 'เช่า', 'XX', 'อนุญาต', 'ประกาศ',...   \n",
       "..         ...                                                ...   \n",
       "943          0           ['เจอ', 'กระเป๋า', 'รูป', 'ฝาก', 'ร้าน']   \n",
       "944          0  ['พวง', 'กุญแจ', 'รถ', 'หล่น', 'สะพาน', 'เขียว...   \n",
       "945          0  ['เจ้าของ', 'บัตร', 'ลืม', 'ติดต่อ', 'ร้านริมน...   \n",
       "946          0  ['อนุญาต', 'ตามหา', 'แมว', 'หาย', 'น้อง', 'รบก...   \n",
       "947          0  ['เจอ', 'แอพอ', 'ทตก', 'หน้า', 'ร้าน', 'ขาย', ...   \n",
       "\n",
       "                                          text_replace  \n",
       "0      หา    สัญญา    หอ    มจพ    ย้าย    ปลาย    ...  \n",
       "1      ขาย    ตั๋วหนัง    black    panther    โรง  ...  \n",
       "2      กระโปรง    ศึกษา    เอว    24    28    เอว  ...  \n",
       "3      อนุญาต    ขาย    ขาย    ตู้    เย็น    Midea...  \n",
       "4      XX    คน    เช่า    XX    อนุญาต    ประกาศ  ...  \n",
       "..                                                 ...  \n",
       "943             เจอ    กระเป๋า    รูป    ฝาก    ร้าน    \n",
       "944    พวง    กุญแจ    รถ    หล่น    สะพาน    เขียว...  \n",
       "945    เจ้าของ    บัตร    ลืม    ติดต่อ    ร้านริมน...  \n",
       "946    อนุญาต    ตามหา    แมว    หาย    น้อง    รบก...  \n",
       "947    เจอ    แอพอ    ทตก    หน้า    ร้าน    ขาย   ...  \n",
       "\n",
       "[948 rows x 3 columns]"
      ]
     },
     "execution_count": 21,
     "metadata": {},
     "output_type": "execute_result"
    }
   ],
   "source": [
    "def text_process(text):\n",
    "    text = re.sub(\"\\[|\\]|'|,\",\" \",text)\n",
    "    return text\n",
    "    \n",
    "df['text_replace'] = df['text'].apply(text_process)\n",
    "df"
   ]
  },
  {
   "cell_type": "code",
   "execution_count": 22,
   "metadata": {},
   "outputs": [],
   "source": [
    "X = df['text_replace']\n",
    "y = df[\"post_type\"]"
   ]
  },
  {
   "cell_type": "code",
   "execution_count": 23,
   "metadata": {},
   "outputs": [],
   "source": [
    "from sklearn.model_selection import train_test_split\n",
    "\n",
    "X_train, X_test, y_train, y_test = train_test_split(X, y)"
   ]
  },
  {
   "cell_type": "code",
   "execution_count": 24,
   "metadata": {},
   "outputs": [],
   "source": [
    "from sklearn.feature_extraction.text import TfidfVectorizer\n",
    "vectorizer = TfidfVectorizer(max_features=150,decode_error=\"ignore\")\n",
    "X_train_vectorized = vectorizer.fit_transform(X_train)"
   ]
  },
  {
   "attachments": {},
   "cell_type": "markdown",
   "metadata": {},
   "source": [
    "Built model"
   ]
  },
  {
   "cell_type": "code",
   "execution_count": 25,
   "metadata": {},
   "outputs": [
    {
     "name": "stdout",
     "output_type": "stream",
     "text": [
      "0.5021097046413502\n",
      "              precision    recall  f1-score   support\n",
      "\n",
      "           0       0.40      0.38      0.39        52\n",
      "           1       0.51      0.50      0.50        80\n",
      "           3       0.55      0.56      0.55       105\n",
      "\n",
      "    accuracy                           0.50       237\n",
      "   macro avg       0.48      0.48      0.48       237\n",
      "weighted avg       0.50      0.50      0.50       237\n",
      "\n"
     ]
    }
   ],
   "source": [
    "from sklearn.naive_bayes import MultinomialNB\n",
    "cls = MultinomialNB()\n",
    "# transform the list of text to tf-idf before passing it to the model\n",
    "cls.fit(vectorizer.fit_transform(X_train), y_train)\n",
    " \n",
    "from sklearn.metrics import classification_report, accuracy_score\n",
    " \n",
    "y_pred = cls.predict(vectorizer.fit_transform(X_test))\n",
    "print(accuracy_score(y_test, y_pred))\n",
    "print(classification_report(y_test, y_pred))"
   ]
  },
  {
   "cell_type": "code",
   "execution_count": 26,
   "metadata": {},
   "outputs": [],
   "source": [
    "import pickle\n",
    "\n",
    "filename = \"./model/check_type.sav\"\n",
    "filenamevec = \"./model/vectorizer.sav\"\n",
    "\n",
    "#save model\n",
    "pickle.dump(cls,open(filename,\"wb\"))\n",
    "pickle.dump(vectorizer,open(filenamevec,\"wb\"))\n"
   ]
  },
  {
   "cell_type": "code",
   "execution_count": 18,
   "metadata": {},
   "outputs": [],
   "source": [
    "#load model\n",
    "loaded_model = pickle.load(open(filename,\"rb\"))"
   ]
  },
  {
   "cell_type": "code",
   "execution_count": null,
   "metadata": {},
   "outputs": [],
   "source": []
  }
 ],
 "metadata": {
  "kernelspec": {
   "display_name": "Python 3",
   "language": "python",
   "name": "python3"
  },
  "language_info": {
   "codemirror_mode": {
    "name": "ipython",
    "version": 3
   },
   "file_extension": ".py",
   "mimetype": "text/x-python",
   "name": "python",
   "nbconvert_exporter": "python",
   "pygments_lexer": "ipython3",
   "version": "3.11.0"
  },
  "orig_nbformat": 4,
  "vscode": {
   "interpreter": {
    "hash": "5238573367df39f7286bb46f9ff5f08f63a01a80960060ce41e3c79b190280fa"
   }
  }
 },
 "nbformat": 4,
 "nbformat_minor": 2
}
