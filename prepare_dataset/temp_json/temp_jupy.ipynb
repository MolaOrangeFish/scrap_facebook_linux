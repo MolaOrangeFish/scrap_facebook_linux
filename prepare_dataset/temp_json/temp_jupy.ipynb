{
 "cells": [
  {
   "cell_type": "code",
   "execution_count": 11,
   "metadata": {},
   "outputs": [
    {
     "name": "stdout",
     "output_type": "stream",
     "text": [
      "BAG:(101, 6) ML:(61, 6)\n"
     ]
    }
   ],
   "source": [
    "import pandas as pd\n",
    "\n",
    "df_bag = pd.read_csv('bag.csv')\n",
    "df_ml = pd.read_csv('ml.csv')\n",
    "print(f\"BAG:{df_bag.shape} ML:{df_ml.shape}\")"
   ]
  },
  {
   "cell_type": "code",
   "execution_count": 12,
   "metadata": {},
   "outputs": [
    {
     "name": "stdout",
     "output_type": "stream",
     "text": [
      "BAG:(98, 6) ML:(61, 6)\n"
     ]
    }
   ],
   "source": [
    "df_bag.drop_duplicates(subset='text',keep='first', inplace=True)\n",
    "df_ml.drop_duplicates(subset='text',keep='first', inplace=True)\n",
    "print(f\"BAG:{df_bag.shape} ML:{df_ml.shape}\")"
   ]
  },
  {
   "cell_type": "code",
   "execution_count": 13,
   "metadata": {},
   "outputs": [],
   "source": [
    "df_bag = df_bag.replace({'mumu':2, 'ประกาศซื้อขาย':1, 'ประกาศของหาย':0})\n",
    "df_ml = df_ml.replace({'mumu':2, 'ประกาศซื้อขาย':1, 'ประกาศของหาย':0})"
   ]
  },
  {
   "cell_type": "code",
   "execution_count": 14,
   "metadata": {},
   "outputs": [
    {
     "data": {
      "text/html": [
       "<div>\n",
       "<style scoped>\n",
       "    .dataframe tbody tr th:only-of-type {\n",
       "        vertical-align: middle;\n",
       "    }\n",
       "\n",
       "    .dataframe tbody tr th {\n",
       "        vertical-align: top;\n",
       "    }\n",
       "\n",
       "    .dataframe thead th {\n",
       "        text-align: right;\n",
       "    }\n",
       "</style>\n",
       "<table border=\"1\" class=\"dataframe\">\n",
       "  <thead>\n",
       "    <tr style=\"text-align: right;\">\n",
       "      <th></th>\n",
       "      <th>text</th>\n",
       "      <th>post_type</th>\n",
       "    </tr>\n",
       "  </thead>\n",
       "  <tbody>\n",
       "    <tr>\n",
       "      <th>0</th>\n",
       "      <td>['อัพเดท', '01082022', 'แผนที่', 'เดิม', 'ลอง'...</td>\n",
       "      <td>2</td>\n",
       "    </tr>\n",
       "    <tr>\n",
       "      <th>1</th>\n",
       "      <td>['พี่วิน', 'มอ', 'ขับ', 'รถ', 'ตึงจัง', 'คับ',...</td>\n",
       "      <td>2</td>\n",
       "    </tr>\n",
       "    <tr>\n",
       "      <th>2</th>\n",
       "      <td>['Make', 'friend', 'คน', 'นนน']</td>\n",
       "      <td>2</td>\n",
       "    </tr>\n",
       "    <tr>\n",
       "      <th>3</th>\n",
       "      <td>['อย่า', 'ลืม', 'งาน', 'sathaparak', 'สถาปรัก'...</td>\n",
       "      <td>0</td>\n",
       "    </tr>\n",
       "    <tr>\n",
       "      <th>4</th>\n",
       "      <td>['วาน', 'จอง', 'เลออ', 'เลิก', 'ตีฉิ่ง', 'ปิ้ง...</td>\n",
       "      <td>2</td>\n",
       "    </tr>\n",
       "    <tr>\n",
       "      <th>...</th>\n",
       "      <td>...</td>\n",
       "      <td>...</td>\n",
       "    </tr>\n",
       "    <tr>\n",
       "      <th>96</th>\n",
       "      <td>['พบเห็น', 'airpod', 'gen', '1', 'เคส', 'รูป',...</td>\n",
       "      <td>0</td>\n",
       "    </tr>\n",
       "    <tr>\n",
       "      <th>97</th>\n",
       "      <td>['แถว', 'มอ', 'เย็บ', 'พื้น', 'รองเท้า', 'สตั๊...</td>\n",
       "      <td>2</td>\n",
       "    </tr>\n",
       "    <tr>\n",
       "      <th>98</th>\n",
       "      <td>['โอเพ่น', 'แชท', 'Pnet', 'วทอ']</td>\n",
       "      <td>2</td>\n",
       "    </tr>\n",
       "    <tr>\n",
       "      <th>99</th>\n",
       "      <td>['หา', 'เพื่อน', 'คั้บ', 'บบ']</td>\n",
       "      <td>2</td>\n",
       "    </tr>\n",
       "    <tr>\n",
       "      <th>100</th>\n",
       "      <td>['ASB', 'หาเมคเฟรน', 'เพื่อน', 'พี่', 'คณะ', '...</td>\n",
       "      <td>2</td>\n",
       "    </tr>\n",
       "  </tbody>\n",
       "</table>\n",
       "<p>98 rows × 2 columns</p>\n",
       "</div>"
      ],
      "text/plain": [
       "                                                  text  post_type\n",
       "0    ['อัพเดท', '01082022', 'แผนที่', 'เดิม', 'ลอง'...          2\n",
       "1    ['พี่วิน', 'มอ', 'ขับ', 'รถ', 'ตึงจัง', 'คับ',...          2\n",
       "2                      ['Make', 'friend', 'คน', 'นนน']          2\n",
       "3    ['อย่า', 'ลืม', 'งาน', 'sathaparak', 'สถาปรัก'...          0\n",
       "4    ['วาน', 'จอง', 'เลออ', 'เลิก', 'ตีฉิ่ง', 'ปิ้ง...          2\n",
       "..                                                 ...        ...\n",
       "96   ['พบเห็น', 'airpod', 'gen', '1', 'เคส', 'รูป',...          0\n",
       "97   ['แถว', 'มอ', 'เย็บ', 'พื้น', 'รองเท้า', 'สตั๊...          2\n",
       "98                    ['โอเพ่น', 'แชท', 'Pnet', 'วทอ']          2\n",
       "99                      ['หา', 'เพื่อน', 'คั้บ', 'บบ']          2\n",
       "100  ['ASB', 'หาเมคเฟรน', 'เพื่อน', 'พี่', 'คณะ', '...          2\n",
       "\n",
       "[98 rows x 2 columns]"
      ]
     },
     "execution_count": 14,
     "metadata": {},
     "output_type": "execute_result"
    }
   ],
   "source": [
    "df_bag.drop('username', inplace=True, axis=1)\n",
    "df_bag.drop('user_id', inplace=True, axis=1)\n",
    "df_bag.drop('image', inplace=True, axis=1)\n",
    "df_bag.drop('date_time', inplace=True, axis=1)\n",
    "\n",
    "df_ml.drop('username', inplace=True, axis=1)\n",
    "df_ml.drop('user_id', inplace=True, axis=1)\n",
    "df_ml.drop('image', inplace=True, axis=1)\n",
    "df_ml.drop('date_time', inplace=True, axis=1)\n",
    "df_bag"
   ]
  },
  {
   "cell_type": "code",
   "execution_count": 21,
   "metadata": {},
   "outputs": [
    {
     "data": {
      "text/plain": [
       "(61, 2)"
      ]
     },
     "execution_count": 21,
     "metadata": {},
     "output_type": "execute_result"
    }
   ],
   "source": [
    "df_bag= df_bag.iloc[0:61]\n",
    "df_ml.shape"
   ]
  },
  {
   "cell_type": "code",
   "execution_count": 25,
   "metadata": {},
   "outputs": [],
   "source": [
    "df_bag.to_csv(\"origi_bag.csv\",index=False)\n",
    "df_ml.to_csv(\"origi_ml.csv\",index=False)"
   ]
  },
  {
   "attachments": {},
   "cell_type": "markdown",
   "metadata": {},
   "source": [
    "Get check and origi csv"
   ]
  },
  {
   "cell_type": "code",
   "execution_count": 26,
   "metadata": {},
   "outputs": [],
   "source": [
    "check_bag = pd.read_csv('check_bag.csv')\n",
    "check_ml = pd.read_csv('check_ml.csv')\n",
    "origi_bag = pd.read_csv('origi_bag.csv')\n",
    "origi_ml = pd.read_csv('origi_ml.csv')\n"
   ]
  },
  {
   "cell_type": "code",
   "execution_count": 32,
   "metadata": {},
   "outputs": [
    {
     "data": {
      "text/plain": [
       "\"['อัพเดท', '01082022', 'แผนที่', 'เดิม', 'ลอง', 'ทำ', 'แผนที่', 'หอพัก', 'มจพกรุงเทพ', 'แนวทาง', 'น้อง', 'หอ', 'พัก', 'น้อง', 'คน', 'หา', 'หอ', 'พัก', 'ติดต่อ', 'หอ', 'พัก', '…', 'โหลด', 'แผนที่', 'ชัดเจน', 'ภาพ', 'แตก', 'ลิงค์']\""
      ]
     },
     "execution_count": 32,
     "metadata": {},
     "output_type": "execute_result"
    }
   ],
   "source": [
    "check_bag.text[0]"
   ]
  },
  {
   "attachments": {},
   "cell_type": "markdown",
   "metadata": {},
   "source": [
    "Check falut"
   ]
  },
  {
   "cell_type": "code",
   "execution_count": 37,
   "metadata": {},
   "outputs": [],
   "source": [
    "def get_fault(df1,df2):\n",
    "    count=0\n",
    "    size=df1.shape[0]\n",
    "    for i in range(size):\n",
    "        if(df1[\"post_type\"][i]!=df2[\"post_type\"][i]):\n",
    "            print(df1.text[i])\n",
    "            count+=1\n",
    "    return count"
   ]
  },
  {
   "cell_type": "code",
   "execution_count": 41,
   "metadata": {},
   "outputs": [
    {
     "name": "stdout",
     "output_type": "stream",
     "text": [
      "['อย่า', 'ลืม', 'งาน', 'sathaparak', 'สถาปรัก', 'หน้า', 'ตึก', 'สถาปัตวัน', '10', 'กุมภานี้', 'น้า', 'บูธขาย', 'ดนตรี', 'สด', 'ประกวด', 'ดาว', 'เดือน', 'เพียบ', 'ย', 'อย่า', 'ลืม', 'แวะ', 'ร้าน', 'ตัว', 'มารดา', 'ดื่ม', 'น้ำ', 'อิตาเลี่ยน', 'โซดา', 'ชื่นใจ', 'แวะ', 'บูธ', 'สอย', 'ดาวสอยใจ', 'สนุก', 'รางวัล', 'คุ้ม', 'แน่นอน']\n",
      "['ลืมบัตร', 'ยูไลฟ์', 'หน้า', 'ตึกเคมี', 'ติดต่อ']\n",
      "['หลุดจอง', 'เช่า', 'สิรินพาร์ค', '3', 'ม', 'เฟอร์นิเจอร์', 'จอด', 'มอไซต์', 'น้ำ', '4', 'หน่วย', '100', '฿', 'ไฟ', '8', '฿', 'ฟรี', 'WiFi', 'แรง', '5000', '฿', 'เดือน', 'ลด', 'ห้อง', '50', 'เดือน', 'ปล', 'ห้อง', 'รูป', 'นิดนึง', 'สัญญา', '1', 'ปี']\n",
      "['พน', 'งาน', 'กิน', 'ขาย', 'ด', 'นตรี', 'หน้าตึก', '40', 'สวนปาร์ม']\n",
      "['หวาน', 'เย็น', 'หวาน', 'ใจดี', 'ค้า', 'เชิญ', 'พี่', 'น้อง', 'แวะ', 'หา', 'อุดหนุน', 'ร้าน', 'เจอ', 'กั๊นน', '1630', 'น', 'งาน', 'ดนตรี', 'Music', 'Award', '24', 'ลาน', 'สวน', 'ปาล์ม', 'ตึก', '40']\n",
      "['เดี๋ยว', 'ฝาก', 'ยาม']\n",
      "['รู้', 'ตอน', 'เช้า', 'แถว', 'มอ', 'ขาย', 'น้ำ', 'เต้า', 'หู้']\n",
      "['ขาย', 'ตลาด', 'จันทร์', 'มอ', 'ติดต่อ', 'ไห', 'นคะ']\n",
      "['ก๊อก', 'เพื่อน', 'พี่ๆ', 'น้อง', 'ท่าน', 'ใด', 'สนใจ', 'ร้าน', 'ขาย', 'Creative', 'Market', 'คณะสถาปัตย์', '10', 'กุมภาพันธ์', '2566', 'แสกน', 'คิว', 'อาร์', 'โค้ด', 'ทะเบียน', 'จองบูธ', 'น้า', 'รีบ', 'น้า']\n",
      "Total fault : 9  from 61 datasets\n"
     ]
    }
   ],
   "source": [
    "bag_fault = get_fault(origi_bag,check_bag)\n",
    "print(\"Total fault :\",bag_fault,\" from 61 datasets\")"
   ]
  },
  {
   "cell_type": "code",
   "execution_count": 42,
   "metadata": {},
   "outputs": [
    {
     "name": "stdout",
     "output_type": "stream",
     "text": [
      "['หาสัญญา', 'หอ', 'U', 'Life', 'Prime']\n",
      "['ทำ', 'บัตร', 'ศึกษา', 'หาย', 'ชื่อ', 'พุ่มดารา', 'ความทรงจำ', 'นึก', 'กด', 'เงิน', 'ตู้', 'บัวหลวง', 'ไปรษณีย์', 'มอ', '8', 'กพ', 'เวลา', '1532', 'น', 'ขอบ', 'พระคุณ', 'แวะ', 'อ่าน', 'หา']\n",
      "['อนุญาต', 'แอดมิน', 'CON', 'หา', 'ศึกษา', 'คณะ', 'สถาปัตยกรรมศาสตร์', 'ชั้น', 'ปี', '24', 'สนใจ', 'ฝึกฝีมือ', 'หา', 'เสริม', '1', 'ตึก', 'อพาร์ตเมนต์', '58', 'ชั้น', 'จิตนาการ', 'โปรแกรม', 'ถนัด', 'ต้องการ', 'รูป', 'Perspective', '23', 'มุม', '2', 'แปลน', 'พื้น', '1', 'ชั้น', 'คร่าว', '3', 'ตอบแทน', '30005000', '฿', '1', 'งาน', 'งาน', 'ดี', 'บริษัท', 'พิจารณา', 'งาน', 'Portfolio', 'ตัวอย่าง', 'งาน', 'TanyaratLertgmailcom']\n",
      "['หาหอพักงบ', '3500', 'ต้น', 'เดือน', 'มกรา']\n",
      "['ประกาศ', 'ชื่อ', 'วง', 'รอบ', 'ชิง', 'ชนะ', 'เลิศ', '16', 'กุมภาพันธ์', '2566', 'เรียง', 'ลำดับ', 'คะแนน', 'ประกาศ', 'คะแนน', 'รวบรวม', 'คณะกรรมการ', '—', '—', '—', '—', '—', '—', '—', '—', '—', '—', '—', '—', '—', '—', '—', '—', '—', '—', '—', '—', '—', '—', '—', '—', '—', 'ปลขอ', 'วง', 'เตรียม', 'ตัว', 'เจอ', 'รอบ', 'ชิง', 'ชนะ', 'เลิศ', 'kmutnbmusicaward24', 'musicclub', 'kmutnb']\n",
      "['จ้าง', 'ขนข', 'อง', 'หนัก', 'ตู้', 'เย็น', 'ย้าย', 'หอ', 'หอ', 'ห่', '1', 'กม']\n",
      "Total fault : 6  from 61 datasets\n"
     ]
    }
   ],
   "source": [
    "ml_fault = get_fault(origi_ml,check_ml)\n",
    "print(\"Total fault :\",ml_fault,\" from 61 datasets\")"
   ]
  },
  {
   "cell_type": "code",
   "execution_count": 80,
   "metadata": {},
   "outputs": [],
   "source": [
    "def add_check(df):\n",
    "    size = df.shape[0]\n",
    "    for i in range(size):\n",
    "        if(df['post_type'][i]!=df['check_post'][i]):\n",
    "            df[\"fault\"][i]=1\n",
    "            print(df[\"fault\"][i])\n",
    "    return df\n"
   ]
  },
  {
   "cell_type": "code",
   "execution_count": 84,
   "metadata": {},
   "outputs": [
    {
     "name": "stdout",
     "output_type": "stream",
     "text": [
      "1\n",
      "1\n",
      "1\n",
      "1\n",
      "1\n",
      "1\n",
      "1\n",
      "1\n",
      "1\n"
     ]
    },
    {
     "name": "stderr",
     "output_type": "stream",
     "text": [
      "C:\\Users\\Corgi\\AppData\\Local\\Temp\\ipykernel_4804\\3939103320.py:5: SettingWithCopyWarning: \n",
      "A value is trying to be set on a copy of a slice from a DataFrame\n",
      "\n",
      "See the caveats in the documentation: https://pandas.pydata.org/pandas-docs/stable/user_guide/indexing.html#returning-a-view-versus-a-copy\n",
      "  df[\"fault\"][i]=1\n"
     ]
    }
   ],
   "source": [
    "add_bag = origi_bag.assign(check_post=check_bag[\"post_type\"],fault=0)\n",
    "add_ml = origi_ml.assign(check_post=check_ml[\"post_type\"],fault=0)\n",
    "add_bag\n",
    "bag = add_check(add_bag)\n",
    "# ml = add_check(add_ml)\n",
    "bag"
   ]
  },
  {
   "cell_type": "code",
   "execution_count": 70,
   "metadata": {},
   "outputs": [],
   "source": [
    "ml"
   ]
  },
  {
   "cell_type": "code",
   "execution_count": 50,
   "metadata": {},
   "outputs": [],
   "source": [
    "add_bag.to_csv(\"edit_bag.csv\",index=False)\n",
    "add_ml.to_csv(\"edit_ml.csv\",index=False)"
   ]
  },
  {
   "cell_type": "code",
   "execution_count": null,
   "metadata": {},
   "outputs": [],
   "source": []
  }
 ],
 "metadata": {
  "kernelspec": {
   "display_name": "Python 3",
   "language": "python",
   "name": "python3"
  },
  "language_info": {
   "codemirror_mode": {
    "name": "ipython",
    "version": 3
   },
   "file_extension": ".py",
   "mimetype": "text/x-python",
   "name": "python",
   "nbconvert_exporter": "python",
   "pygments_lexer": "ipython3",
   "version": "3.11.0"
  },
  "orig_nbformat": 4,
  "vscode": {
   "interpreter": {
    "hash": "5238573367df39f7286bb46f9ff5f08f63a01a80960060ce41e3c79b190280fa"
   }
  }
 },
 "nbformat": 4,
 "nbformat_minor": 2
}
