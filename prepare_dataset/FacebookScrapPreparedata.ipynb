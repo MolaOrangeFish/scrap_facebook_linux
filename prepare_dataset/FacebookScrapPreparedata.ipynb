{
  "cells": [
    {
      "cell_type": "markdown",
      "metadata": {
        "id": "M82hDRqjEGxL"
      },
      "source": [
        "Add first csv"
      ]
    },
    {
      "cell_type": "code",
      "execution_count": 2,
      "metadata": {
        "colab": {
          "base_uri": "https://localhost:8080/",
          "height": 424
        },
        "id": "BqMuVFxwSULn",
        "outputId": "09688693-6e88-4b71-9d34-46fc6820c85e"
      },
      "outputs": [
        {
          "data": {
            "text/html": [
              "<div>\n",
              "<style scoped>\n",
              "    .dataframe tbody tr th:only-of-type {\n",
              "        vertical-align: middle;\n",
              "    }\n",
              "\n",
              "    .dataframe tbody tr th {\n",
              "        vertical-align: top;\n",
              "    }\n",
              "\n",
              "    .dataframe thead th {\n",
              "        text-align: right;\n",
              "    }\n",
              "</style>\n",
              "<table border=\"1\" class=\"dataframe\">\n",
              "  <thead>\n",
              "    <tr style=\"text-align: right;\">\n",
              "      <th></th>\n",
              "      <th>date_time</th>\n",
              "      <th>username</th>\n",
              "      <th>user_id</th>\n",
              "      <th>text</th>\n",
              "      <th>post_type</th>\n",
              "      <th>image</th>\n",
              "    </tr>\n",
              "  </thead>\n",
              "  <tbody>\n",
              "    <tr>\n",
              "      <th>0</th>\n",
              "      <td>2020-05-10 16:38:42</td>\n",
              "      <td>F'teen Flukey'p</td>\n",
              "      <td>100008420610299</td>\n",
              "      <td>['อัพเดท', '01082022', 'แผนที่', 'เดิม', 'ลอง'...</td>\n",
              "      <td>mumu</td>\n",
              "      <td>['https://m.facebook.com/photo/view_full_size/...</td>\n",
              "    </tr>\n",
              "    <tr>\n",
              "      <th>1</th>\n",
              "      <td>2023-01-21 15:25:29</td>\n",
              "      <td>Tommakorn Ciw</td>\n",
              "      <td>100002958265749</td>\n",
              "      <td>['เครื่อง', 'เลข', 'ปล่อย', 'ขาย']</td>\n",
              "      <td>ประกาศซื้อขาย</td>\n",
              "      <td>['https://m.facebook.com/photo/view_full_size/...</td>\n",
              "    </tr>\n",
              "    <tr>\n",
              "      <th>2</th>\n",
              "      <td>2023-01-21 15:38:31</td>\n",
              "      <td>Run Rahat</td>\n",
              "      <td>100030199384363</td>\n",
              "      <td>['เชิญชาว', 'มจพ', 'สร้าง', 'ตลาด', 'นัด', 'งา...</td>\n",
              "      <td>mumu</td>\n",
              "      <td>['https://m.facebook.com/photo/view_full_size/...</td>\n",
              "    </tr>\n",
              "    <tr>\n",
              "      <th>3</th>\n",
              "      <td>2022-11-11 16:55:46</td>\n",
              "      <td>Bam Worralak</td>\n",
              "      <td>100028538801507</td>\n",
              "      <td>['ขาย', 'เข็มขัด', 'หัว', 'ค้า', 'ซื้อ', '120'...</td>\n",
              "      <td>ประกาศซื้อขาย</td>\n",
              "      <td>['https://m.facebook.com/photo/view_full_size/...</td>\n",
              "    </tr>\n",
              "    <tr>\n",
              "      <th>4</th>\n",
              "      <td>2023-01-19 23:48:08</td>\n",
              "      <td>Chanya Thaworn</td>\n",
              "      <td>100012033094959</td>\n",
              "      <td>['สรุป', 'ENG', 'II', 'midterm', 'ค้าบ']</td>\n",
              "      <td>mumu</td>\n",
              "      <td>['https://m.facebook.com/photo/view_full_size/...</td>\n",
              "    </tr>\n",
              "  </tbody>\n",
              "</table>\n",
              "</div>"
            ],
            "text/plain": [
              "             date_time         username          user_id  \\\n",
              "0  2020-05-10 16:38:42  F'teen Flukey'p  100008420610299   \n",
              "1  2023-01-21 15:25:29    Tommakorn Ciw  100002958265749   \n",
              "2  2023-01-21 15:38:31        Run Rahat  100030199384363   \n",
              "3  2022-11-11 16:55:46     Bam Worralak  100028538801507   \n",
              "4  2023-01-19 23:48:08   Chanya Thaworn  100012033094959   \n",
              "\n",
              "                                                text      post_type  \\\n",
              "0  ['อัพเดท', '01082022', 'แผนที่', 'เดิม', 'ลอง'...           mumu   \n",
              "1                 ['เครื่อง', 'เลข', 'ปล่อย', 'ขาย']  ประกาศซื้อขาย   \n",
              "2  ['เชิญชาว', 'มจพ', 'สร้าง', 'ตลาด', 'นัด', 'งา...           mumu   \n",
              "3  ['ขาย', 'เข็มขัด', 'หัว', 'ค้า', 'ซื้อ', '120'...  ประกาศซื้อขาย   \n",
              "4           ['สรุป', 'ENG', 'II', 'midterm', 'ค้าบ']           mumu   \n",
              "\n",
              "                                               image  \n",
              "0  ['https://m.facebook.com/photo/view_full_size/...  \n",
              "1  ['https://m.facebook.com/photo/view_full_size/...  \n",
              "2  ['https://m.facebook.com/photo/view_full_size/...  \n",
              "3  ['https://m.facebook.com/photo/view_full_size/...  \n",
              "4  ['https://m.facebook.com/photo/view_full_size/...  "
            ]
          },
          "execution_count": 2,
          "metadata": {},
          "output_type": "execute_result"
        }
      ],
      "source": [
        "import pandas as pd\n",
        "\n",
        "df = pd.read_csv('csv/temp_scapping_data.csv')\n",
        "df.head()"
      ]
    },
    {
      "cell_type": "markdown",
      "metadata": {
        "id": "FmrHF1aVEKBw"
      },
      "source": [
        "Drop duplicate"
      ]
    },
    {
      "cell_type": "code",
      "execution_count": 3,
      "metadata": {
        "colab": {
          "base_uri": "https://localhost:8080/"
        },
        "id": "0LcKA-efAdEr",
        "outputId": "cb332cf4-adc9-414a-c097-3d03e16737f4"
      },
      "outputs": [
        {
          "data": {
            "text/plain": [
              "(101, 6)"
            ]
          },
          "execution_count": 3,
          "metadata": {},
          "output_type": "execute_result"
        }
      ],
      "source": [
        "df.drop_duplicates(subset='text',keep='first', inplace=True)\n",
        "df.shape"
      ]
    },
    {
      "cell_type": "markdown",
      "metadata": {
        "id": "nase1KG7ELi_"
      },
      "source": [
        "Check post_type unique"
      ]
    },
    {
      "cell_type": "code",
      "execution_count": 4,
      "metadata": {
        "colab": {
          "base_uri": "https://localhost:8080/"
        },
        "id": "qwFyeHQmBHhd",
        "outputId": "fc9482f5-90c6-424f-e1e9-2555562812ae"
      },
      "outputs": [
        {
          "data": {
            "text/plain": [
              "array(['mumu', 'ประกาศซื้อขาย', 'ประกาศของหาย'], dtype=object)"
            ]
          },
          "execution_count": 4,
          "metadata": {},
          "output_type": "execute_result"
        }
      ],
      "source": [
        "df['post_type'].unique()"
      ]
    },
    {
      "cell_type": "markdown",
      "metadata": {
        "id": "9d-d3yQGEN3V"
      },
      "source": [
        "replace the unique"
      ]
    },
    {
      "cell_type": "code",
      "execution_count": 5,
      "metadata": {
        "id": "zOu9RuwMBW9K"
      },
      "outputs": [],
      "source": [
        "df = df.replace({'mumu':3, 'ประกาศซื้อขาย':1, 'ประกาศของหาย':0})"
      ]
    },
    {
      "cell_type": "code",
      "execution_count": 6,
      "metadata": {
        "colab": {
          "base_uri": "https://localhost:8080/"
        },
        "id": "nw3lHUVtBr_K",
        "outputId": "782bf748-acd4-4fa1-b6a3-370539f6c856"
      },
      "outputs": [
        {
          "data": {
            "text/plain": [
              "array([3, 1, 0], dtype=int64)"
            ]
          },
          "execution_count": 6,
          "metadata": {},
          "output_type": "execute_result"
        }
      ],
      "source": [
        "df['post_type'].unique()\n"
      ]
    },
    {
      "cell_type": "markdown",
      "metadata": {
        "id": "Od9zB3SoEPxv"
      },
      "source": [
        "Drop unwanted data"
      ]
    },
    {
      "cell_type": "code",
      "execution_count": 7,
      "metadata": {
        "colab": {
          "base_uri": "https://localhost:8080/",
          "height": 424
        },
        "id": "oc_kC8DWStjo",
        "outputId": "996012f1-6686-4093-fe99-8194b50f5aa6"
      },
      "outputs": [
        {
          "data": {
            "text/html": [
              "<div>\n",
              "<style scoped>\n",
              "    .dataframe tbody tr th:only-of-type {\n",
              "        vertical-align: middle;\n",
              "    }\n",
              "\n",
              "    .dataframe tbody tr th {\n",
              "        vertical-align: top;\n",
              "    }\n",
              "\n",
              "    .dataframe thead th {\n",
              "        text-align: right;\n",
              "    }\n",
              "</style>\n",
              "<table border=\"1\" class=\"dataframe\">\n",
              "  <thead>\n",
              "    <tr style=\"text-align: right;\">\n",
              "      <th></th>\n",
              "      <th>text</th>\n",
              "      <th>post_type</th>\n",
              "    </tr>\n",
              "  </thead>\n",
              "  <tbody>\n",
              "    <tr>\n",
              "      <th>0</th>\n",
              "      <td>['อัพเดท', '01082022', 'แผนที่', 'เดิม', 'ลอง'...</td>\n",
              "      <td>3</td>\n",
              "    </tr>\n",
              "    <tr>\n",
              "      <th>1</th>\n",
              "      <td>['เครื่อง', 'เลข', 'ปล่อย', 'ขาย']</td>\n",
              "      <td>1</td>\n",
              "    </tr>\n",
              "    <tr>\n",
              "      <th>2</th>\n",
              "      <td>['เชิญชาว', 'มจพ', 'สร้าง', 'ตลาด', 'นัด', 'งา...</td>\n",
              "      <td>3</td>\n",
              "    </tr>\n",
              "    <tr>\n",
              "      <th>3</th>\n",
              "      <td>['ขาย', 'เข็มขัด', 'หัว', 'ค้า', 'ซื้อ', '120'...</td>\n",
              "      <td>1</td>\n",
              "    </tr>\n",
              "    <tr>\n",
              "      <th>4</th>\n",
              "      <td>['สรุป', 'ENG', 'II', 'midterm', 'ค้าบ']</td>\n",
              "      <td>3</td>\n",
              "    </tr>\n",
              "    <tr>\n",
              "      <th>...</th>\n",
              "      <td>...</td>\n",
              "      <td>...</td>\n",
              "    </tr>\n",
              "    <tr>\n",
              "      <th>96</th>\n",
              "      <td>['หา', 'สัญญา', 'หอ', 'S9', 'รีบ', 'เดือน']</td>\n",
              "      <td>3</td>\n",
              "    </tr>\n",
              "    <tr>\n",
              "      <th>97</th>\n",
              "      <td>['หนังสือ', 'สอบ', 'ข้อ', 'มจพ', 'แนะนำ', 'แหล...</td>\n",
              "      <td>3</td>\n",
              "    </tr>\n",
              "    <tr>\n",
              "      <th>98</th>\n",
              "      <td>['ประกาศ', 'ชื่อ', 'น้า']</td>\n",
              "      <td>3</td>\n",
              "    </tr>\n",
              "    <tr>\n",
              "      <th>99</th>\n",
              "      <td>['PnetPE', 'เรื่อง', 'เรียน', 'สังคม', 'พี่', ...</td>\n",
              "      <td>3</td>\n",
              "    </tr>\n",
              "    <tr>\n",
              "      <th>100</th>\n",
              "      <td>['ขาย', 'อนุญาติขาย', 'ตู้', 'เย็น', 'ราคา', '...</td>\n",
              "      <td>1</td>\n",
              "    </tr>\n",
              "  </tbody>\n",
              "</table>\n",
              "<p>101 rows × 2 columns</p>\n",
              "</div>"
            ],
            "text/plain": [
              "                                                  text  post_type\n",
              "0    ['อัพเดท', '01082022', 'แผนที่', 'เดิม', 'ลอง'...          3\n",
              "1                   ['เครื่อง', 'เลข', 'ปล่อย', 'ขาย']          1\n",
              "2    ['เชิญชาว', 'มจพ', 'สร้าง', 'ตลาด', 'นัด', 'งา...          3\n",
              "3    ['ขาย', 'เข็มขัด', 'หัว', 'ค้า', 'ซื้อ', '120'...          1\n",
              "4             ['สรุป', 'ENG', 'II', 'midterm', 'ค้าบ']          3\n",
              "..                                                 ...        ...\n",
              "96         ['หา', 'สัญญา', 'หอ', 'S9', 'รีบ', 'เดือน']          3\n",
              "97   ['หนังสือ', 'สอบ', 'ข้อ', 'มจพ', 'แนะนำ', 'แหล...          3\n",
              "98                           ['ประกาศ', 'ชื่อ', 'น้า']          3\n",
              "99   ['PnetPE', 'เรื่อง', 'เรียน', 'สังคม', 'พี่', ...          3\n",
              "100  ['ขาย', 'อนุญาติขาย', 'ตู้', 'เย็น', 'ราคา', '...          1\n",
              "\n",
              "[101 rows x 2 columns]"
            ]
          },
          "execution_count": 7,
          "metadata": {},
          "output_type": "execute_result"
        }
      ],
      "source": [
        "df.drop('username', inplace=True, axis=1)\n",
        "df.drop('user_id', inplace=True, axis=1)\n",
        "df.drop('image', inplace=True, axis=1)\n",
        "df.drop('date_time', inplace=True, axis=1)\n",
        "df\n"
      ]
    },
    {
      "attachments": {},
      "cell_type": "markdown",
      "metadata": {},
      "source": [
        "Check label"
      ]
    },
    {
      "cell_type": "code",
      "execution_count": 8,
      "metadata": {},
      "outputs": [],
      "source": [
        "df.to_csv(\"csv/check_label.csv\")"
      ]
    },
    {
      "attachments": {},
      "cell_type": "markdown",
      "metadata": {},
      "source": [
        "add checked csv"
      ]
    },
    {
      "cell_type": "code",
      "execution_count": 11,
      "metadata": {},
      "outputs": [
        {
          "data": {
            "text/html": [
              "<div>\n",
              "<style scoped>\n",
              "    .dataframe tbody tr th:only-of-type {\n",
              "        vertical-align: middle;\n",
              "    }\n",
              "\n",
              "    .dataframe tbody tr th {\n",
              "        vertical-align: top;\n",
              "    }\n",
              "\n",
              "    .dataframe thead th {\n",
              "        text-align: right;\n",
              "    }\n",
              "</style>\n",
              "<table border=\"1\" class=\"dataframe\">\n",
              "  <thead>\n",
              "    <tr style=\"text-align: right;\">\n",
              "      <th></th>\n",
              "      <th>text</th>\n",
              "      <th>post_type</th>\n",
              "    </tr>\n",
              "  </thead>\n",
              "  <tbody>\n",
              "    <tr>\n",
              "      <th>0</th>\n",
              "      <td>['อัพเดท', '01082022', 'แผนที่', 'เดิม', 'ลอง'...</td>\n",
              "      <td>3</td>\n",
              "    </tr>\n",
              "    <tr>\n",
              "      <th>1</th>\n",
              "      <td>['เครื่อง', 'เลข', 'ปล่อย', 'ขาย']</td>\n",
              "      <td>1</td>\n",
              "    </tr>\n",
              "    <tr>\n",
              "      <th>2</th>\n",
              "      <td>['เชิญชาว', 'มจพ', 'สร้าง', 'ตลาด', 'นัด', 'งา...</td>\n",
              "      <td>3</td>\n",
              "    </tr>\n",
              "    <tr>\n",
              "      <th>3</th>\n",
              "      <td>['ขาย', 'เข็มขัด', 'หัว', 'ค้า', 'ซื้อ', '120'...</td>\n",
              "      <td>1</td>\n",
              "    </tr>\n",
              "    <tr>\n",
              "      <th>4</th>\n",
              "      <td>['สรุป', 'ENG', 'II', 'midterm', 'ค้าบ']</td>\n",
              "      <td>3</td>\n",
              "    </tr>\n",
              "    <tr>\n",
              "      <th>...</th>\n",
              "      <td>...</td>\n",
              "      <td>...</td>\n",
              "    </tr>\n",
              "    <tr>\n",
              "      <th>96</th>\n",
              "      <td>['หา', 'สัญญา', 'หอ', 'S9', 'รีบ', 'เดือน']</td>\n",
              "      <td>3</td>\n",
              "    </tr>\n",
              "    <tr>\n",
              "      <th>97</th>\n",
              "      <td>['หนังสือ', 'สอบ', 'ข้อ', 'มจพ', 'แนะนำ', 'แหล...</td>\n",
              "      <td>3</td>\n",
              "    </tr>\n",
              "    <tr>\n",
              "      <th>98</th>\n",
              "      <td>['ประกาศ', 'ชื่อ', 'น้า']</td>\n",
              "      <td>3</td>\n",
              "    </tr>\n",
              "    <tr>\n",
              "      <th>99</th>\n",
              "      <td>['PnetPE', 'เรื่อง', 'เรียน', 'สังคม', 'พี่', ...</td>\n",
              "      <td>3</td>\n",
              "    </tr>\n",
              "    <tr>\n",
              "      <th>100</th>\n",
              "      <td>['ขาย', 'อนุญาติขาย', 'ตู้', 'เย็น', 'ราคา', '...</td>\n",
              "      <td>1</td>\n",
              "    </tr>\n",
              "  </tbody>\n",
              "</table>\n",
              "<p>101 rows × 2 columns</p>\n",
              "</div>"
            ],
            "text/plain": [
              "                                                  text  post_type\n",
              "0    ['อัพเดท', '01082022', 'แผนที่', 'เดิม', 'ลอง'...          3\n",
              "1                   ['เครื่อง', 'เลข', 'ปล่อย', 'ขาย']          1\n",
              "2    ['เชิญชาว', 'มจพ', 'สร้าง', 'ตลาด', 'นัด', 'งา...          3\n",
              "3    ['ขาย', 'เข็มขัด', 'หัว', 'ค้า', 'ซื้อ', '120'...          1\n",
              "4             ['สรุป', 'ENG', 'II', 'midterm', 'ค้าบ']          3\n",
              "..                                                 ...        ...\n",
              "96         ['หา', 'สัญญา', 'หอ', 'S9', 'รีบ', 'เดือน']          3\n",
              "97   ['หนังสือ', 'สอบ', 'ข้อ', 'มจพ', 'แนะนำ', 'แหล...          3\n",
              "98                           ['ประกาศ', 'ชื่อ', 'น้า']          3\n",
              "99   ['PnetPE', 'เรื่อง', 'เรียน', 'สังคม', 'พี่', ...          3\n",
              "100  ['ขาย', 'อนุญาติขาย', 'ตู้', 'เย็น', 'ราคา', '...          1\n",
              "\n",
              "[101 rows x 2 columns]"
            ]
          },
          "execution_count": 11,
          "metadata": {},
          "output_type": "execute_result"
        }
      ],
      "source": [
        "df = pd.read_csv('csv/check_label.csv', index_col=0)\n",
        "df"
      ]
    },
    {
      "cell_type": "markdown",
      "metadata": {
        "id": "JPOE14LKCbzi"
      },
      "source": [
        "-------------------------------------------"
      ]
    },
    {
      "cell_type": "markdown",
      "metadata": {
        "id": "wj7C3_rQD5Fj"
      },
      "source": [
        "Add second data frame"
      ]
    },
    {
      "cell_type": "code",
      "execution_count": 13,
      "metadata": {
        "colab": {
          "base_uri": "https://localhost:8080/",
          "height": 424
        },
        "id": "D0ISEsSRCbX7",
        "outputId": "369866db-9f02-41bb-8824-d02cd7e78769"
      },
      "outputs": [
        {
          "data": {
            "text/html": [
              "<div>\n",
              "<style scoped>\n",
              "    .dataframe tbody tr th:only-of-type {\n",
              "        vertical-align: middle;\n",
              "    }\n",
              "\n",
              "    .dataframe tbody tr th {\n",
              "        vertical-align: top;\n",
              "    }\n",
              "\n",
              "    .dataframe thead th {\n",
              "        text-align: right;\n",
              "    }\n",
              "</style>\n",
              "<table border=\"1\" class=\"dataframe\">\n",
              "  <thead>\n",
              "    <tr style=\"text-align: right;\">\n",
              "      <th></th>\n",
              "      <th>post_type</th>\n",
              "      <th>text</th>\n",
              "    </tr>\n",
              "  </thead>\n",
              "  <tbody>\n",
              "    <tr>\n",
              "      <th>0</th>\n",
              "      <td>3</td>\n",
              "      <td>['หา', 'สัญญา', 'หอ', 'มจพ', 'ย้าย', 'ปลาย', '...</td>\n",
              "    </tr>\n",
              "    <tr>\n",
              "      <th>1</th>\n",
              "      <td>1</td>\n",
              "      <td>['ขาย', 'ตั๋วหนัง', 'black', 'panther', 'โรง',...</td>\n",
              "    </tr>\n",
              "    <tr>\n",
              "      <th>2</th>\n",
              "      <td>1</td>\n",
              "      <td>['กระโปรง', 'ศึกษา', 'เอว', '24', '28', 'เอว',...</td>\n",
              "    </tr>\n",
              "    <tr>\n",
              "      <th>3</th>\n",
              "      <td>1</td>\n",
              "      <td>['อนุญาต', 'ขาย', 'ขาย', 'ตู้', 'เย็น', 'Midea...</td>\n",
              "    </tr>\n",
              "    <tr>\n",
              "      <th>4</th>\n",
              "      <td>1</td>\n",
              "      <td>['XX', 'คน', 'เช่า', 'XX', 'อนุญาต', 'ประกาศ',...</td>\n",
              "    </tr>\n",
              "    <tr>\n",
              "      <th>...</th>\n",
              "      <td>...</td>\n",
              "      <td>...</td>\n",
              "    </tr>\n",
              "    <tr>\n",
              "      <th>1032</th>\n",
              "      <td>3</td>\n",
              "      <td>['หา', 'คน', 'ติว', 'วิชา', 'fluid', 'mechanic...</td>\n",
              "    </tr>\n",
              "    <tr>\n",
              "      <th>1033</th>\n",
              "      <td>3</td>\n",
              "      <td>['น้อง', 'สนใจ']</td>\n",
              "    </tr>\n",
              "    <tr>\n",
              "      <th>1034</th>\n",
              "      <td>3</td>\n",
              "      <td>['คัด', 'ศึกษา', 'รหัส', '65', 'ปี', 'พศ', '25...</td>\n",
              "    </tr>\n",
              "    <tr>\n",
              "      <th>1035</th>\n",
              "      <td>1</td>\n",
              "      <td>['ขาย', 'สัญญา', 'เช่า', 'คอนโด', 'รีเจนท์โฮม'...</td>\n",
              "    </tr>\n",
              "    <tr>\n",
              "      <th>1036</th>\n",
              "      <td>0</td>\n",
              "      <td>['ทำ', 'โทรศัพท์', 'ตก', 'หน้า', 'ulife', 'pri...</td>\n",
              "    </tr>\n",
              "  </tbody>\n",
              "</table>\n",
              "<p>1037 rows × 2 columns</p>\n",
              "</div>"
            ],
            "text/plain": [
              "      post_type                                               text\n",
              "0             3  ['หา', 'สัญญา', 'หอ', 'มจพ', 'ย้าย', 'ปลาย', '...\n",
              "1             1  ['ขาย', 'ตั๋วหนัง', 'black', 'panther', 'โรง',...\n",
              "2             1  ['กระโปรง', 'ศึกษา', 'เอว', '24', '28', 'เอว',...\n",
              "3             1  ['อนุญาต', 'ขาย', 'ขาย', 'ตู้', 'เย็น', 'Midea...\n",
              "4             1  ['XX', 'คน', 'เช่า', 'XX', 'อนุญาต', 'ประกาศ',...\n",
              "...         ...                                                ...\n",
              "1032          3  ['หา', 'คน', 'ติว', 'วิชา', 'fluid', 'mechanic...\n",
              "1033          3                                   ['น้อง', 'สนใจ']\n",
              "1034          3  ['คัด', 'ศึกษา', 'รหัส', '65', 'ปี', 'พศ', '25...\n",
              "1035          1  ['ขาย', 'สัญญา', 'เช่า', 'คอนโด', 'รีเจนท์โฮม'...\n",
              "1036          0  ['ทำ', 'โทรศัพท์', 'ตก', 'หน้า', 'ulife', 'pri...\n",
              "\n",
              "[1037 rows x 2 columns]"
            ]
          },
          "execution_count": 13,
          "metadata": {},
          "output_type": "execute_result"
        }
      ],
      "source": [
        "df2 = pd.read_csv('csv/new_data.csv')\n",
        "df2"
      ]
    },
    {
      "cell_type": "markdown",
      "metadata": {
        "id": "5JIyARqQD2JV"
      },
      "source": [
        "APPEND 2 data frame"
      ]
    },
    {
      "cell_type": "code",
      "execution_count": 14,
      "metadata": {
        "colab": {
          "base_uri": "https://localhost:8080/"
        },
        "id": "JOUS-B9XTq-B",
        "outputId": "dbb4e9ea-7490-497c-bb57-30d50edc8907"
      },
      "outputs": [
        {
          "name": "stderr",
          "output_type": "stream",
          "text": [
            "C:\\Users\\Corgi\\AppData\\Local\\Temp\\ipykernel_24400\\3369879948.py:1: FutureWarning: The frame.append method is deprecated and will be removed from pandas in a future version. Use pandas.concat instead.\n",
            "  append_data = df2.append(df)\n"
          ]
        },
        {
          "data": {
            "text/plain": [
              "(1138, 2)"
            ]
          },
          "execution_count": 14,
          "metadata": {},
          "output_type": "execute_result"
        }
      ],
      "source": [
        "append_data = df2.append(df)\n",
        "append_data.shape"
      ]
    },
    {
      "cell_type": "code",
      "execution_count": 15,
      "metadata": {
        "colab": {
          "base_uri": "https://localhost:8080/",
          "height": 424
        },
        "id": "6DXJAW1uClV2",
        "outputId": "b570ad41-da67-4226-f542-882ccd94256d"
      },
      "outputs": [
        {
          "data": {
            "text/html": [
              "<div>\n",
              "<style scoped>\n",
              "    .dataframe tbody tr th:only-of-type {\n",
              "        vertical-align: middle;\n",
              "    }\n",
              "\n",
              "    .dataframe tbody tr th {\n",
              "        vertical-align: top;\n",
              "    }\n",
              "\n",
              "    .dataframe thead th {\n",
              "        text-align: right;\n",
              "    }\n",
              "</style>\n",
              "<table border=\"1\" class=\"dataframe\">\n",
              "  <thead>\n",
              "    <tr style=\"text-align: right;\">\n",
              "      <th></th>\n",
              "      <th>post_type</th>\n",
              "      <th>text</th>\n",
              "    </tr>\n",
              "  </thead>\n",
              "  <tbody>\n",
              "    <tr>\n",
              "      <th>0</th>\n",
              "      <td>3</td>\n",
              "      <td>['หา', 'สัญญา', 'หอ', 'มจพ', 'ย้าย', 'ปลาย', '...</td>\n",
              "    </tr>\n",
              "    <tr>\n",
              "      <th>1</th>\n",
              "      <td>1</td>\n",
              "      <td>['ขาย', 'ตั๋วหนัง', 'black', 'panther', 'โรง',...</td>\n",
              "    </tr>\n",
              "    <tr>\n",
              "      <th>2</th>\n",
              "      <td>1</td>\n",
              "      <td>['กระโปรง', 'ศึกษา', 'เอว', '24', '28', 'เอว',...</td>\n",
              "    </tr>\n",
              "    <tr>\n",
              "      <th>3</th>\n",
              "      <td>1</td>\n",
              "      <td>['อนุญาต', 'ขาย', 'ขาย', 'ตู้', 'เย็น', 'Midea...</td>\n",
              "    </tr>\n",
              "    <tr>\n",
              "      <th>4</th>\n",
              "      <td>1</td>\n",
              "      <td>['XX', 'คน', 'เช่า', 'XX', 'อนุญาต', 'ประกาศ',...</td>\n",
              "    </tr>\n",
              "    <tr>\n",
              "      <th>...</th>\n",
              "      <td>...</td>\n",
              "      <td>...</td>\n",
              "    </tr>\n",
              "    <tr>\n",
              "      <th>96</th>\n",
              "      <td>3</td>\n",
              "      <td>['หา', 'สัญญา', 'หอ', 'S9', 'รีบ', 'เดือน']</td>\n",
              "    </tr>\n",
              "    <tr>\n",
              "      <th>97</th>\n",
              "      <td>3</td>\n",
              "      <td>['หนังสือ', 'สอบ', 'ข้อ', 'มจพ', 'แนะนำ', 'แหล...</td>\n",
              "    </tr>\n",
              "    <tr>\n",
              "      <th>98</th>\n",
              "      <td>3</td>\n",
              "      <td>['ประกาศ', 'ชื่อ', 'น้า']</td>\n",
              "    </tr>\n",
              "    <tr>\n",
              "      <th>99</th>\n",
              "      <td>3</td>\n",
              "      <td>['PnetPE', 'เรื่อง', 'เรียน', 'สังคม', 'พี่', ...</td>\n",
              "    </tr>\n",
              "    <tr>\n",
              "      <th>100</th>\n",
              "      <td>1</td>\n",
              "      <td>['ขาย', 'อนุญาติขาย', 'ตู้', 'เย็น', 'ราคา', '...</td>\n",
              "    </tr>\n",
              "  </tbody>\n",
              "</table>\n",
              "<p>1138 rows × 2 columns</p>\n",
              "</div>"
            ],
            "text/plain": [
              "     post_type                                               text\n",
              "0            3  ['หา', 'สัญญา', 'หอ', 'มจพ', 'ย้าย', 'ปลาย', '...\n",
              "1            1  ['ขาย', 'ตั๋วหนัง', 'black', 'panther', 'โรง',...\n",
              "2            1  ['กระโปรง', 'ศึกษา', 'เอว', '24', '28', 'เอว',...\n",
              "3            1  ['อนุญาต', 'ขาย', 'ขาย', 'ตู้', 'เย็น', 'Midea...\n",
              "4            1  ['XX', 'คน', 'เช่า', 'XX', 'อนุญาต', 'ประกาศ',...\n",
              "..         ...                                                ...\n",
              "96           3        ['หา', 'สัญญา', 'หอ', 'S9', 'รีบ', 'เดือน']\n",
              "97           3  ['หนังสือ', 'สอบ', 'ข้อ', 'มจพ', 'แนะนำ', 'แหล...\n",
              "98           3                          ['ประกาศ', 'ชื่อ', 'น้า']\n",
              "99           3  ['PnetPE', 'เรื่อง', 'เรียน', 'สังคม', 'พี่', ...\n",
              "100          1  ['ขาย', 'อนุญาติขาย', 'ตู้', 'เย็น', 'ราคา', '...\n",
              "\n",
              "[1138 rows x 2 columns]"
            ]
          },
          "execution_count": 15,
          "metadata": {},
          "output_type": "execute_result"
        }
      ],
      "source": [
        "append_data"
      ]
    },
    {
      "attachments": {},
      "cell_type": "markdown",
      "metadata": {},
      "source": [
        "Drop duplicate before save"
      ]
    },
    {
      "cell_type": "code",
      "execution_count": 16,
      "metadata": {},
      "outputs": [
        {
          "name": "stdout",
          "output_type": "stream",
          "text": [
            "(1103, 2)\n",
            "[3 1 0]\n"
          ]
        }
      ],
      "source": [
        "append_data.drop_duplicates(subset='text',keep='last', inplace=True,ignore_index = True)\n",
        "print(append_data.shape)\n",
        "print(append_data[\"post_type\"].unique())"
      ]
    },
    {
      "cell_type": "markdown",
      "metadata": {
        "id": "qVMDkIxOEEII"
      },
      "source": [
        "Save to csv "
      ]
    },
    {
      "cell_type": "code",
      "execution_count": 17,
      "metadata": {
        "id": "ULfxg-79Tp3m"
      },
      "outputs": [],
      "source": [
        "append_data.to_csv(\"csv/new_data.csv\",index=False)"
      ]
    },
    {
      "cell_type": "code",
      "execution_count": null,
      "metadata": {
        "id": "VpoqCmK4ECmY"
      },
      "outputs": [],
      "source": []
    }
  ],
  "metadata": {
    "colab": {
      "provenance": []
    },
    "kernelspec": {
      "display_name": "Python 3",
      "language": "python",
      "name": "python3"
    },
    "language_info": {
      "codemirror_mode": {
        "name": "ipython",
        "version": 3
      },
      "file_extension": ".py",
      "mimetype": "text/x-python",
      "name": "python",
      "nbconvert_exporter": "python",
      "pygments_lexer": "ipython3",
      "version": "3.11.0 (main, Oct 24 2022, 18:26:48) [MSC v.1933 64 bit (AMD64)]"
    },
    "vscode": {
      "interpreter": {
        "hash": "5238573367df39f7286bb46f9ff5f08f63a01a80960060ce41e3c79b190280fa"
      }
    }
  },
  "nbformat": 4,
  "nbformat_minor": 0
}
