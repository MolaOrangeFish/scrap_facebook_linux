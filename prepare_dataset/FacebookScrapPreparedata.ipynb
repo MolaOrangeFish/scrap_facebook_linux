{
  "cells": [
    {
      "cell_type": "markdown",
      "metadata": {
        "id": "M82hDRqjEGxL"
      },
      "source": [
        "Add first csv"
      ]
    },
    {
      "cell_type": "code",
      "execution_count": 22,
      "metadata": {
        "colab": {
          "base_uri": "https://localhost:8080/",
          "height": 424
        },
        "id": "BqMuVFxwSULn",
        "outputId": "09688693-6e88-4b71-9d34-46fc6820c85e"
      },
      "outputs": [
        {
          "data": {
            "text/html": [
              "<div>\n",
              "<style scoped>\n",
              "    .dataframe tbody tr th:only-of-type {\n",
              "        vertical-align: middle;\n",
              "    }\n",
              "\n",
              "    .dataframe tbody tr th {\n",
              "        vertical-align: top;\n",
              "    }\n",
              "\n",
              "    .dataframe thead th {\n",
              "        text-align: right;\n",
              "    }\n",
              "</style>\n",
              "<table border=\"1\" class=\"dataframe\">\n",
              "  <thead>\n",
              "    <tr style=\"text-align: right;\">\n",
              "      <th></th>\n",
              "      <th>text</th>\n",
              "      <th>post_type</th>\n",
              "    </tr>\n",
              "  </thead>\n",
              "  <tbody>\n",
              "    <tr>\n",
              "      <th>0</th>\n",
              "      <td>['อนุญาติ', 'ขาย', 'Macbook', 'pro', '13', 'in...</td>\n",
              "      <td>1</td>\n",
              "    </tr>\n",
              "    <tr>\n",
              "      <th>1</th>\n",
              "      <td>['ทำ', 'หาย', 'ติดต่อ']</td>\n",
              "      <td>0</td>\n",
              "    </tr>\n",
              "    <tr>\n",
              "      <th>2</th>\n",
              "      <td>['อนุญาต', 'หา', 'แมว', 'น้อง', 'ชื่อ', 'บัมกิ...</td>\n",
              "      <td>0</td>\n",
              "    </tr>\n",
              "    <tr>\n",
              "      <th>3</th>\n",
              "      <td>['อนุญาต', 'รบกวน', 'รับผิดชอบ', 'คน', 'ทำ', '...</td>\n",
              "      <td>3</td>\n",
              "    </tr>\n",
              "    <tr>\n",
              "      <th>4</th>\n",
              "      <td>['สอบถาม', 'ผม', 'ทำ', 'บัตร', 'ศึกษา', 'หาย',...</td>\n",
              "      <td>3</td>\n",
              "    </tr>\n",
              "    <tr>\n",
              "      <th>...</th>\n",
              "      <td>...</td>\n",
              "      <td>...</td>\n",
              "    </tr>\n",
              "    <tr>\n",
              "      <th>126</th>\n",
              "      <td>['ประกาศ', 'ขาย', 'สัญญา', 'หอ', 'ST', 'Place'...</td>\n",
              "      <td>1</td>\n",
              "    </tr>\n",
              "    <tr>\n",
              "      <th>127</th>\n",
              "      <td>['ขาย', 'สัญญา', 'หออรอ', 'นงค์', 'ตึก', 'เฟอร...</td>\n",
              "      <td>1</td>\n",
              "    </tr>\n",
              "    <tr>\n",
              "      <th>128</th>\n",
              "      <td>['ขาย', 'สัญญา', 'หอ', 'พัก', 'บ้าน', 'ร่มเย็น...</td>\n",
              "      <td>1</td>\n",
              "    </tr>\n",
              "    <tr>\n",
              "      <th>129</th>\n",
              "      <td>['ญาต', 'ฝาก', 'ขาย', 'ตู้', 'เย็น', 'สภาพ', '...</td>\n",
              "      <td>1</td>\n",
              "    </tr>\n",
              "    <tr>\n",
              "      <th>130</th>\n",
              "      <td>['ขาย', 'สัญญาหอ', 'RS', '5000', 'บาท', 'ตึก',...</td>\n",
              "      <td>1</td>\n",
              "    </tr>\n",
              "  </tbody>\n",
              "</table>\n",
              "<p>131 rows × 2 columns</p>\n",
              "</div>"
            ],
            "text/plain": [
              "                                                  text  post_type\n",
              "0    ['อนุญาติ', 'ขาย', 'Macbook', 'pro', '13', 'in...          1\n",
              "1                              ['ทำ', 'หาย', 'ติดต่อ']          0\n",
              "2    ['อนุญาต', 'หา', 'แมว', 'น้อง', 'ชื่อ', 'บัมกิ...          0\n",
              "3    ['อนุญาต', 'รบกวน', 'รับผิดชอบ', 'คน', 'ทำ', '...          3\n",
              "4    ['สอบถาม', 'ผม', 'ทำ', 'บัตร', 'ศึกษา', 'หาย',...          3\n",
              "..                                                 ...        ...\n",
              "126  ['ประกาศ', 'ขาย', 'สัญญา', 'หอ', 'ST', 'Place'...          1\n",
              "127  ['ขาย', 'สัญญา', 'หออรอ', 'นงค์', 'ตึก', 'เฟอร...          1\n",
              "128  ['ขาย', 'สัญญา', 'หอ', 'พัก', 'บ้าน', 'ร่มเย็น...          1\n",
              "129  ['ญาต', 'ฝาก', 'ขาย', 'ตู้', 'เย็น', 'สภาพ', '...          1\n",
              "130  ['ขาย', 'สัญญาหอ', 'RS', '5000', 'บาท', 'ตึก',...          1\n",
              "\n",
              "[131 rows x 2 columns]"
            ]
          },
          "execution_count": 22,
          "metadata": {},
          "output_type": "execute_result"
        }
      ],
      "source": [
        "import pandas as pd\n",
        "\n",
        "df = pd.read_csv('by_hand_new_data2.csv')\n",
        "df"
      ]
    },
    {
      "cell_type": "markdown",
      "metadata": {
        "id": "FmrHF1aVEKBw"
      },
      "source": [
        "Drop duplicate"
      ]
    },
    {
      "cell_type": "code",
      "execution_count": 23,
      "metadata": {
        "colab": {
          "base_uri": "https://localhost:8080/"
        },
        "id": "0LcKA-efAdEr",
        "outputId": "cb332cf4-adc9-414a-c097-3d03e16737f4"
      },
      "outputs": [
        {
          "data": {
            "text/plain": [
              "(127, 2)"
            ]
          },
          "execution_count": 23,
          "metadata": {},
          "output_type": "execute_result"
        }
      ],
      "source": [
        "df.drop_duplicates(keep='first', inplace=True)\n",
        "df.shape"
      ]
    },
    {
      "cell_type": "markdown",
      "metadata": {
        "id": "nase1KG7ELi_"
      },
      "source": [
        "Check post_type unique"
      ]
    },
    {
      "cell_type": "code",
      "execution_count": 24,
      "metadata": {
        "colab": {
          "base_uri": "https://localhost:8080/"
        },
        "id": "qwFyeHQmBHhd",
        "outputId": "fc9482f5-90c6-424f-e1e9-2555562812ae"
      },
      "outputs": [
        {
          "data": {
            "text/plain": [
              "array([1, 0, 3], dtype=int64)"
            ]
          },
          "execution_count": 24,
          "metadata": {},
          "output_type": "execute_result"
        }
      ],
      "source": [
        "df['post_type'].unique()"
      ]
    },
    {
      "cell_type": "markdown",
      "metadata": {
        "id": "9d-d3yQGEN3V"
      },
      "source": [
        "replace the unique"
      ]
    },
    {
      "cell_type": "code",
      "execution_count": 13,
      "metadata": {
        "id": "zOu9RuwMBW9K"
      },
      "outputs": [],
      "source": [
        "df = df.replace({'mumu':3, 'ประกาศซื้อขาย':1, 'ประกาศของหาย':0})"
      ]
    },
    {
      "cell_type": "code",
      "execution_count": 14,
      "metadata": {
        "colab": {
          "base_uri": "https://localhost:8080/"
        },
        "id": "nw3lHUVtBr_K",
        "outputId": "782bf748-acd4-4fa1-b6a3-370539f6c856"
      },
      "outputs": [
        {
          "data": {
            "text/plain": [
              "array([3, 0, 1], dtype=int64)"
            ]
          },
          "execution_count": 14,
          "metadata": {},
          "output_type": "execute_result"
        }
      ],
      "source": [
        "df['post_type'].unique()\n"
      ]
    },
    {
      "cell_type": "markdown",
      "metadata": {
        "id": "Od9zB3SoEPxv"
      },
      "source": [
        "Drop unwanted data"
      ]
    },
    {
      "cell_type": "code",
      "execution_count": 15,
      "metadata": {
        "colab": {
          "base_uri": "https://localhost:8080/",
          "height": 424
        },
        "id": "oc_kC8DWStjo",
        "outputId": "996012f1-6686-4093-fe99-8194b50f5aa6"
      },
      "outputs": [
        {
          "data": {
            "text/html": [
              "<div>\n",
              "<style scoped>\n",
              "    .dataframe tbody tr th:only-of-type {\n",
              "        vertical-align: middle;\n",
              "    }\n",
              "\n",
              "    .dataframe tbody tr th {\n",
              "        vertical-align: top;\n",
              "    }\n",
              "\n",
              "    .dataframe thead th {\n",
              "        text-align: right;\n",
              "    }\n",
              "</style>\n",
              "<table border=\"1\" class=\"dataframe\">\n",
              "  <thead>\n",
              "    <tr style=\"text-align: right;\">\n",
              "      <th></th>\n",
              "      <th>text</th>\n",
              "      <th>post_type</th>\n",
              "    </tr>\n",
              "  </thead>\n",
              "  <tbody>\n",
              "    <tr>\n",
              "      <th>0</th>\n",
              "      <td>['อัพเดท', '01082022', 'แผนที่', 'เดิม', 'ลอง'...</td>\n",
              "      <td>3</td>\n",
              "    </tr>\n",
              "    <tr>\n",
              "      <th>1</th>\n",
              "      <td>['สอบถาม', 'รู้', 'โดน', 'รีไทร์', 'ดู', 'เลข'...</td>\n",
              "      <td>3</td>\n",
              "    </tr>\n",
              "    <tr>\n",
              "      <th>2</th>\n",
              "      <td>['ไอแพด', 'ลืม', 'ห้อง', 'ปฏิบัติการ', 'ฟิสิกส...</td>\n",
              "      <td>0</td>\n",
              "    </tr>\n",
              "    <tr>\n",
              "      <th>3</th>\n",
              "      <td>['แนะนำ', 'สอบ', 'สัมภาษณ์', 'รุ่น', 'พี่', 'B...</td>\n",
              "      <td>3</td>\n",
              "    </tr>\n",
              "    <tr>\n",
              "      <th>4</th>\n",
              "      <td>['แนะนำ', 'หนังสือ', 'อ่าน', 'สอบ', 'สอบ', 'วท...</td>\n",
              "      <td>3</td>\n",
              "    </tr>\n",
              "    <tr>\n",
              "      <th>...</th>\n",
              "      <td>...</td>\n",
              "      <td>...</td>\n",
              "    </tr>\n",
              "    <tr>\n",
              "      <th>88</th>\n",
              "      <td>['บุญ', 'เบื้องหลัง', 'สุข', 'สำเร็จ', 'ชีวิต'...</td>\n",
              "      <td>3</td>\n",
              "    </tr>\n",
              "    <tr>\n",
              "      <th>89</th>\n",
              "      <td>['เจอ', 'กุญแจ', 'มอไซต์', 'xmax', 'สี', 'ดำ',...</td>\n",
              "      <td>0</td>\n",
              "    </tr>\n",
              "    <tr>\n",
              "      <th>90</th>\n",
              "      <td>['มอ', 'แมลง', 'ทอด', 'ขาย', 'กิน']</td>\n",
              "      <td>1</td>\n",
              "    </tr>\n",
              "    <tr>\n",
              "      <th>91</th>\n",
              "      <td>['ผม', 'สอบถาม', 'พี่', 'สำหรับ', 'PnET', 'PE'...</td>\n",
              "      <td>3</td>\n",
              "    </tr>\n",
              "    <tr>\n",
              "      <th>92</th>\n",
              "      <td>['อนุญาต', 'สอบถาม', 'แถว', 'มอเรา', 'คลินิก',...</td>\n",
              "      <td>3</td>\n",
              "    </tr>\n",
              "  </tbody>\n",
              "</table>\n",
              "<p>93 rows × 2 columns</p>\n",
              "</div>"
            ],
            "text/plain": [
              "                                                 text  post_type\n",
              "0   ['อัพเดท', '01082022', 'แผนที่', 'เดิม', 'ลอง'...          3\n",
              "1   ['สอบถาม', 'รู้', 'โดน', 'รีไทร์', 'ดู', 'เลข'...          3\n",
              "2   ['ไอแพด', 'ลืม', 'ห้อง', 'ปฏิบัติการ', 'ฟิสิกส...          0\n",
              "3   ['แนะนำ', 'สอบ', 'สัมภาษณ์', 'รุ่น', 'พี่', 'B...          3\n",
              "4   ['แนะนำ', 'หนังสือ', 'อ่าน', 'สอบ', 'สอบ', 'วท...          3\n",
              "..                                                ...        ...\n",
              "88  ['บุญ', 'เบื้องหลัง', 'สุข', 'สำเร็จ', 'ชีวิต'...          3\n",
              "89  ['เจอ', 'กุญแจ', 'มอไซต์', 'xmax', 'สี', 'ดำ',...          0\n",
              "90                ['มอ', 'แมลง', 'ทอด', 'ขาย', 'กิน']          1\n",
              "91  ['ผม', 'สอบถาม', 'พี่', 'สำหรับ', 'PnET', 'PE'...          3\n",
              "92  ['อนุญาต', 'สอบถาม', 'แถว', 'มอเรา', 'คลินิก',...          3\n",
              "\n",
              "[93 rows x 2 columns]"
            ]
          },
          "execution_count": 15,
          "metadata": {},
          "output_type": "execute_result"
        }
      ],
      "source": [
        "df.drop('username', inplace=True, axis=1)\n",
        "df.drop('user_id', inplace=True, axis=1)\n",
        "df.drop('image', inplace=True, axis=1)\n",
        "df.drop('date_time', inplace=True, axis=1)\n",
        "df\n"
      ]
    },
    {
      "cell_type": "markdown",
      "metadata": {
        "id": "JPOE14LKCbzi"
      },
      "source": [
        "-------------------------------------------"
      ]
    },
    {
      "cell_type": "markdown",
      "metadata": {
        "id": "wj7C3_rQD5Fj"
      },
      "source": [
        "Add second data frame"
      ]
    },
    {
      "cell_type": "code",
      "execution_count": 25,
      "metadata": {
        "colab": {
          "base_uri": "https://localhost:8080/",
          "height": 424
        },
        "id": "D0ISEsSRCbX7",
        "outputId": "369866db-9f02-41bb-8824-d02cd7e78769"
      },
      "outputs": [
        {
          "data": {
            "text/html": [
              "<div>\n",
              "<style scoped>\n",
              "    .dataframe tbody tr th:only-of-type {\n",
              "        vertical-align: middle;\n",
              "    }\n",
              "\n",
              "    .dataframe tbody tr th {\n",
              "        vertical-align: top;\n",
              "    }\n",
              "\n",
              "    .dataframe thead th {\n",
              "        text-align: right;\n",
              "    }\n",
              "</style>\n",
              "<table border=\"1\" class=\"dataframe\">\n",
              "  <thead>\n",
              "    <tr style=\"text-align: right;\">\n",
              "      <th></th>\n",
              "      <th>Unnamed: 0</th>\n",
              "      <th>post_type</th>\n",
              "      <th>text</th>\n",
              "    </tr>\n",
              "  </thead>\n",
              "  <tbody>\n",
              "    <tr>\n",
              "      <th>0</th>\n",
              "      <td>0</td>\n",
              "      <td>1</td>\n",
              "      <td>['หา', 'สัญญา', 'หอ', 'มจพ', 'ย้าย', 'ปลาย', '...</td>\n",
              "    </tr>\n",
              "    <tr>\n",
              "      <th>1</th>\n",
              "      <td>1</td>\n",
              "      <td>1</td>\n",
              "      <td>['ขาย', 'ตั๋วหนัง', 'black', 'panther', 'โรง',...</td>\n",
              "    </tr>\n",
              "    <tr>\n",
              "      <th>2</th>\n",
              "      <td>2</td>\n",
              "      <td>1</td>\n",
              "      <td>['กระโปรง', 'ศึกษา', 'เอว', '24', '28', 'เอว',...</td>\n",
              "    </tr>\n",
              "    <tr>\n",
              "      <th>3</th>\n",
              "      <td>3</td>\n",
              "      <td>1</td>\n",
              "      <td>['อนุญาต', 'ขาย', 'ขาย', 'ตู้', 'เย็น', 'Midea...</td>\n",
              "    </tr>\n",
              "    <tr>\n",
              "      <th>4</th>\n",
              "      <td>4</td>\n",
              "      <td>1</td>\n",
              "      <td>['XX', 'คน', 'เช่า', 'XX', 'อนุญาต', 'ประกาศ',...</td>\n",
              "    </tr>\n",
              "    <tr>\n",
              "      <th>...</th>\n",
              "      <td>...</td>\n",
              "      <td>...</td>\n",
              "      <td>...</td>\n",
              "    </tr>\n",
              "    <tr>\n",
              "      <th>849</th>\n",
              "      <td>849</td>\n",
              "      <td>3</td>\n",
              "      <td>['สอบถาม', 'เอกสาร', 'เบิก', 'เทอม', 'ปี', '58...</td>\n",
              "    </tr>\n",
              "    <tr>\n",
              "      <th>850</th>\n",
              "      <td>850</td>\n",
              "      <td>3</td>\n",
              "      <td>['แถว', 'มอ', 'ร้าน', 'ถ่าย', 'รูป', 'ศึกษา', ...</td>\n",
              "    </tr>\n",
              "    <tr>\n",
              "      <th>851</th>\n",
              "      <td>851</td>\n",
              "      <td>3</td>\n",
              "      <td>['รบกวน', 'นิดนึง', 'เรื่อง', 'ดูดพอต', 'มอ', ...</td>\n",
              "    </tr>\n",
              "    <tr>\n",
              "      <th>852</th>\n",
              "      <td>852</td>\n",
              "      <td>0</td>\n",
              "      <td>['แอร์พอต', 'เจน', '2', 'ขวา', 'ร่วง', 'มอบ้าง...</td>\n",
              "    </tr>\n",
              "    <tr>\n",
              "      <th>853</th>\n",
              "      <td>853</td>\n",
              "      <td>3</td>\n",
              "      <td>['พี่', 'รี', 'วิว', 'วิชา', 'สาขา', 'เซรามิก'...</td>\n",
              "    </tr>\n",
              "  </tbody>\n",
              "</table>\n",
              "<p>854 rows × 3 columns</p>\n",
              "</div>"
            ],
            "text/plain": [
              "     Unnamed: 0  post_type                                               text\n",
              "0             0          1  ['หา', 'สัญญา', 'หอ', 'มจพ', 'ย้าย', 'ปลาย', '...\n",
              "1             1          1  ['ขาย', 'ตั๋วหนัง', 'black', 'panther', 'โรง',...\n",
              "2             2          1  ['กระโปรง', 'ศึกษา', 'เอว', '24', '28', 'เอว',...\n",
              "3             3          1  ['อนุญาต', 'ขาย', 'ขาย', 'ตู้', 'เย็น', 'Midea...\n",
              "4             4          1  ['XX', 'คน', 'เช่า', 'XX', 'อนุญาต', 'ประกาศ',...\n",
              "..          ...        ...                                                ...\n",
              "849         849          3  ['สอบถาม', 'เอกสาร', 'เบิก', 'เทอม', 'ปี', '58...\n",
              "850         850          3  ['แถว', 'มอ', 'ร้าน', 'ถ่าย', 'รูป', 'ศึกษา', ...\n",
              "851         851          3  ['รบกวน', 'นิดนึง', 'เรื่อง', 'ดูดพอต', 'มอ', ...\n",
              "852         852          0  ['แอร์พอต', 'เจน', '2', 'ขวา', 'ร่วง', 'มอบ้าง...\n",
              "853         853          3  ['พี่', 'รี', 'วิว', 'วิชา', 'สาขา', 'เซรามิก'...\n",
              "\n",
              "[854 rows x 3 columns]"
            ]
          },
          "execution_count": 25,
          "metadata": {},
          "output_type": "execute_result"
        }
      ],
      "source": [
        "df2 = pd.read_csv('new_data.csv')\n",
        "df2"
      ]
    },
    {
      "attachments": {},
      "cell_type": "markdown",
      "metadata": {},
      "source": [
        "Drop \"\tUnnamed: 0 \""
      ]
    },
    {
      "cell_type": "code",
      "execution_count": 26,
      "metadata": {},
      "outputs": [
        {
          "data": {
            "text/html": [
              "<div>\n",
              "<style scoped>\n",
              "    .dataframe tbody tr th:only-of-type {\n",
              "        vertical-align: middle;\n",
              "    }\n",
              "\n",
              "    .dataframe tbody tr th {\n",
              "        vertical-align: top;\n",
              "    }\n",
              "\n",
              "    .dataframe thead th {\n",
              "        text-align: right;\n",
              "    }\n",
              "</style>\n",
              "<table border=\"1\" class=\"dataframe\">\n",
              "  <thead>\n",
              "    <tr style=\"text-align: right;\">\n",
              "      <th></th>\n",
              "      <th>post_type</th>\n",
              "      <th>text</th>\n",
              "    </tr>\n",
              "  </thead>\n",
              "  <tbody>\n",
              "    <tr>\n",
              "      <th>0</th>\n",
              "      <td>1</td>\n",
              "      <td>['หา', 'สัญญา', 'หอ', 'มจพ', 'ย้าย', 'ปลาย', '...</td>\n",
              "    </tr>\n",
              "    <tr>\n",
              "      <th>1</th>\n",
              "      <td>1</td>\n",
              "      <td>['ขาย', 'ตั๋วหนัง', 'black', 'panther', 'โรง',...</td>\n",
              "    </tr>\n",
              "    <tr>\n",
              "      <th>2</th>\n",
              "      <td>1</td>\n",
              "      <td>['กระโปรง', 'ศึกษา', 'เอว', '24', '28', 'เอว',...</td>\n",
              "    </tr>\n",
              "    <tr>\n",
              "      <th>3</th>\n",
              "      <td>1</td>\n",
              "      <td>['อนุญาต', 'ขาย', 'ขาย', 'ตู้', 'เย็น', 'Midea...</td>\n",
              "    </tr>\n",
              "    <tr>\n",
              "      <th>4</th>\n",
              "      <td>1</td>\n",
              "      <td>['XX', 'คน', 'เช่า', 'XX', 'อนุญาต', 'ประกาศ',...</td>\n",
              "    </tr>\n",
              "    <tr>\n",
              "      <th>...</th>\n",
              "      <td>...</td>\n",
              "      <td>...</td>\n",
              "    </tr>\n",
              "    <tr>\n",
              "      <th>849</th>\n",
              "      <td>3</td>\n",
              "      <td>['สอบถาม', 'เอกสาร', 'เบิก', 'เทอม', 'ปี', '58...</td>\n",
              "    </tr>\n",
              "    <tr>\n",
              "      <th>850</th>\n",
              "      <td>3</td>\n",
              "      <td>['แถว', 'มอ', 'ร้าน', 'ถ่าย', 'รูป', 'ศึกษา', ...</td>\n",
              "    </tr>\n",
              "    <tr>\n",
              "      <th>851</th>\n",
              "      <td>3</td>\n",
              "      <td>['รบกวน', 'นิดนึง', 'เรื่อง', 'ดูดพอต', 'มอ', ...</td>\n",
              "    </tr>\n",
              "    <tr>\n",
              "      <th>852</th>\n",
              "      <td>0</td>\n",
              "      <td>['แอร์พอต', 'เจน', '2', 'ขวา', 'ร่วง', 'มอบ้าง...</td>\n",
              "    </tr>\n",
              "    <tr>\n",
              "      <th>853</th>\n",
              "      <td>3</td>\n",
              "      <td>['พี่', 'รี', 'วิว', 'วิชา', 'สาขา', 'เซรามิก'...</td>\n",
              "    </tr>\n",
              "  </tbody>\n",
              "</table>\n",
              "<p>854 rows × 2 columns</p>\n",
              "</div>"
            ],
            "text/plain": [
              "     post_type                                               text\n",
              "0            1  ['หา', 'สัญญา', 'หอ', 'มจพ', 'ย้าย', 'ปลาย', '...\n",
              "1            1  ['ขาย', 'ตั๋วหนัง', 'black', 'panther', 'โรง',...\n",
              "2            1  ['กระโปรง', 'ศึกษา', 'เอว', '24', '28', 'เอว',...\n",
              "3            1  ['อนุญาต', 'ขาย', 'ขาย', 'ตู้', 'เย็น', 'Midea...\n",
              "4            1  ['XX', 'คน', 'เช่า', 'XX', 'อนุญาต', 'ประกาศ',...\n",
              "..         ...                                                ...\n",
              "849          3  ['สอบถาม', 'เอกสาร', 'เบิก', 'เทอม', 'ปี', '58...\n",
              "850          3  ['แถว', 'มอ', 'ร้าน', 'ถ่าย', 'รูป', 'ศึกษา', ...\n",
              "851          3  ['รบกวน', 'นิดนึง', 'เรื่อง', 'ดูดพอต', 'มอ', ...\n",
              "852          0  ['แอร์พอต', 'เจน', '2', 'ขวา', 'ร่วง', 'มอบ้าง...\n",
              "853          3  ['พี่', 'รี', 'วิว', 'วิชา', 'สาขา', 'เซรามิก'...\n",
              "\n",
              "[854 rows x 2 columns]"
            ]
          },
          "execution_count": 26,
          "metadata": {},
          "output_type": "execute_result"
        }
      ],
      "source": [
        "df2.drop('Unnamed: 0', inplace=True, axis=1)\n",
        "df2"
      ]
    },
    {
      "cell_type": "markdown",
      "metadata": {
        "id": "5JIyARqQD2JV"
      },
      "source": [
        "APPEND 2 data frame"
      ]
    },
    {
      "cell_type": "code",
      "execution_count": 27,
      "metadata": {
        "colab": {
          "base_uri": "https://localhost:8080/"
        },
        "id": "JOUS-B9XTq-B",
        "outputId": "dbb4e9ea-7490-497c-bb57-30d50edc8907"
      },
      "outputs": [
        {
          "name": "stderr",
          "output_type": "stream",
          "text": [
            "C:\\Users\\Corgi\\AppData\\Local\\Temp\\ipykernel_6492\\556518295.py:1: FutureWarning: The frame.append method is deprecated and will be removed from pandas in a future version. Use pandas.concat instead.\n",
            "  append_data = df2.append(df,ignore_index = True)\n"
          ]
        },
        {
          "data": {
            "text/plain": [
              "(981, 2)"
            ]
          },
          "execution_count": 27,
          "metadata": {},
          "output_type": "execute_result"
        }
      ],
      "source": [
        "append_data = df2.append(df,ignore_index = True)\n",
        "append_data.shape"
      ]
    },
    {
      "cell_type": "code",
      "execution_count": 19,
      "metadata": {
        "colab": {
          "base_uri": "https://localhost:8080/",
          "height": 424
        },
        "id": "6DXJAW1uClV2",
        "outputId": "b570ad41-da67-4226-f542-882ccd94256d"
      },
      "outputs": [
        {
          "data": {
            "text/html": [
              "<div>\n",
              "<style scoped>\n",
              "    .dataframe tbody tr th:only-of-type {\n",
              "        vertical-align: middle;\n",
              "    }\n",
              "\n",
              "    .dataframe tbody tr th {\n",
              "        vertical-align: top;\n",
              "    }\n",
              "\n",
              "    .dataframe thead th {\n",
              "        text-align: right;\n",
              "    }\n",
              "</style>\n",
              "<table border=\"1\" class=\"dataframe\">\n",
              "  <thead>\n",
              "    <tr style=\"text-align: right;\">\n",
              "      <th></th>\n",
              "      <th>post_type</th>\n",
              "      <th>text</th>\n",
              "    </tr>\n",
              "  </thead>\n",
              "  <tbody>\n",
              "    <tr>\n",
              "      <th>0</th>\n",
              "      <td>1</td>\n",
              "      <td>['หา', 'สัญญา', 'หอ', 'มจพ', 'ย้าย', 'ปลาย', '...</td>\n",
              "    </tr>\n",
              "    <tr>\n",
              "      <th>1</th>\n",
              "      <td>1</td>\n",
              "      <td>['ขาย', 'ตั๋วหนัง', 'black', 'panther', 'โรง',...</td>\n",
              "    </tr>\n",
              "    <tr>\n",
              "      <th>2</th>\n",
              "      <td>1</td>\n",
              "      <td>['กระโปรง', 'ศึกษา', 'เอว', '24', '28', 'เอว',...</td>\n",
              "    </tr>\n",
              "    <tr>\n",
              "      <th>3</th>\n",
              "      <td>1</td>\n",
              "      <td>['อนุญาต', 'ขาย', 'ขาย', 'ตู้', 'เย็น', 'Midea...</td>\n",
              "    </tr>\n",
              "    <tr>\n",
              "      <th>4</th>\n",
              "      <td>1</td>\n",
              "      <td>['XX', 'คน', 'เช่า', 'XX', 'อนุญาต', 'ประกาศ',...</td>\n",
              "    </tr>\n",
              "    <tr>\n",
              "      <th>...</th>\n",
              "      <td>...</td>\n",
              "      <td>...</td>\n",
              "    </tr>\n",
              "    <tr>\n",
              "      <th>910</th>\n",
              "      <td>3</td>\n",
              "      <td>['บุญ', 'เบื้องหลัง', 'สุข', 'สำเร็จ', 'ชีวิต'...</td>\n",
              "    </tr>\n",
              "    <tr>\n",
              "      <th>911</th>\n",
              "      <td>0</td>\n",
              "      <td>['เจอ', 'กุญแจ', 'มอไซต์', 'xmax', 'สี', 'ดำ',...</td>\n",
              "    </tr>\n",
              "    <tr>\n",
              "      <th>912</th>\n",
              "      <td>1</td>\n",
              "      <td>['มอ', 'แมลง', 'ทอด', 'ขาย', 'กิน']</td>\n",
              "    </tr>\n",
              "    <tr>\n",
              "      <th>913</th>\n",
              "      <td>3</td>\n",
              "      <td>['ผม', 'สอบถาม', 'พี่', 'สำหรับ', 'PnET', 'PE'...</td>\n",
              "    </tr>\n",
              "    <tr>\n",
              "      <th>914</th>\n",
              "      <td>3</td>\n",
              "      <td>['อนุญาต', 'สอบถาม', 'แถว', 'มอเรา', 'คลินิก',...</td>\n",
              "    </tr>\n",
              "  </tbody>\n",
              "</table>\n",
              "<p>915 rows × 2 columns</p>\n",
              "</div>"
            ],
            "text/plain": [
              "     post_type                                               text\n",
              "0            1  ['หา', 'สัญญา', 'หอ', 'มจพ', 'ย้าย', 'ปลาย', '...\n",
              "1            1  ['ขาย', 'ตั๋วหนัง', 'black', 'panther', 'โรง',...\n",
              "2            1  ['กระโปรง', 'ศึกษา', 'เอว', '24', '28', 'เอว',...\n",
              "3            1  ['อนุญาต', 'ขาย', 'ขาย', 'ตู้', 'เย็น', 'Midea...\n",
              "4            1  ['XX', 'คน', 'เช่า', 'XX', 'อนุญาต', 'ประกาศ',...\n",
              "..         ...                                                ...\n",
              "910          3  ['บุญ', 'เบื้องหลัง', 'สุข', 'สำเร็จ', 'ชีวิต'...\n",
              "911          0  ['เจอ', 'กุญแจ', 'มอไซต์', 'xmax', 'สี', 'ดำ',...\n",
              "912          1                ['มอ', 'แมลง', 'ทอด', 'ขาย', 'กิน']\n",
              "913          3  ['ผม', 'สอบถาม', 'พี่', 'สำหรับ', 'PnET', 'PE'...\n",
              "914          3  ['อนุญาต', 'สอบถาม', 'แถว', 'มอเรา', 'คลินิก',...\n",
              "\n",
              "[915 rows x 2 columns]"
            ]
          },
          "execution_count": 19,
          "metadata": {},
          "output_type": "execute_result"
        }
      ],
      "source": [
        "append_data"
      ]
    },
    {
      "attachments": {},
      "cell_type": "markdown",
      "metadata": {},
      "source": [
        "Drop duplicate before save"
      ]
    },
    {
      "cell_type": "code",
      "execution_count": 28,
      "metadata": {},
      "outputs": [
        {
          "data": {
            "text/plain": [
              "(854, 2)"
            ]
          },
          "execution_count": 28,
          "metadata": {},
          "output_type": "execute_result"
        }
      ],
      "source": [
        "append_data.drop_duplicates(keep='first', inplace=True,ignore_index = True)\n",
        "append_data.shape"
      ]
    },
    {
      "cell_type": "markdown",
      "metadata": {
        "id": "qVMDkIxOEEII"
      },
      "source": [
        "Save to csv "
      ]
    },
    {
      "cell_type": "code",
      "execution_count": 29,
      "metadata": {
        "id": "ULfxg-79Tp3m"
      },
      "outputs": [],
      "source": [
        "append_data.to_csv(\"new_data.csv\")"
      ]
    },
    {
      "cell_type": "code",
      "execution_count": null,
      "metadata": {
        "id": "VpoqCmK4ECmY"
      },
      "outputs": [],
      "source": []
    }
  ],
  "metadata": {
    "colab": {
      "provenance": []
    },
    "kernelspec": {
      "display_name": "Python 3",
      "language": "python",
      "name": "python3"
    },
    "language_info": {
      "codemirror_mode": {
        "name": "ipython",
        "version": 3
      },
      "file_extension": ".py",
      "mimetype": "text/x-python",
      "name": "python",
      "nbconvert_exporter": "python",
      "pygments_lexer": "ipython3",
      "version": "3.11.0"
    },
    "vscode": {
      "interpreter": {
        "hash": "5238573367df39f7286bb46f9ff5f08f63a01a80960060ce41e3c79b190280fa"
      }
    }
  },
  "nbformat": 4,
  "nbformat_minor": 0
}
