{
  "cells": [
    {
      "cell_type": "markdown",
      "metadata": {
        "id": "M82hDRqjEGxL"
      },
      "source": [
        "Add first csv"
      ]
    },
    {
      "cell_type": "code",
      "execution_count": 1,
      "metadata": {
        "colab": {
          "base_uri": "https://localhost:8080/",
          "height": 424
        },
        "id": "BqMuVFxwSULn",
        "outputId": "09688693-6e88-4b71-9d34-46fc6820c85e"
      },
      "outputs": [
        {
          "data": {
            "text/html": [
              "<div>\n",
              "<style scoped>\n",
              "    .dataframe tbody tr th:only-of-type {\n",
              "        vertical-align: middle;\n",
              "    }\n",
              "\n",
              "    .dataframe tbody tr th {\n",
              "        vertical-align: top;\n",
              "    }\n",
              "\n",
              "    .dataframe thead th {\n",
              "        text-align: right;\n",
              "    }\n",
              "</style>\n",
              "<table border=\"1\" class=\"dataframe\">\n",
              "  <thead>\n",
              "    <tr style=\"text-align: right;\">\n",
              "      <th></th>\n",
              "      <th>date_time</th>\n",
              "      <th>username</th>\n",
              "      <th>user_id</th>\n",
              "      <th>text</th>\n",
              "      <th>post_type</th>\n",
              "      <th>image</th>\n",
              "    </tr>\n",
              "  </thead>\n",
              "  <tbody>\n",
              "    <tr>\n",
              "      <th>0</th>\n",
              "      <td>2020-05-10 16:38:42</td>\n",
              "      <td>F'teen Flukey'p</td>\n",
              "      <td>100008420610299</td>\n",
              "      <td>['อัพเดท', '01082022', 'แผนที่', 'เดิม', 'ลอง'...</td>\n",
              "      <td>mumu</td>\n",
              "      <td>['https://m.facebook.com/photo/view_full_size/...</td>\n",
              "    </tr>\n",
              "    <tr>\n",
              "      <th>1</th>\n",
              "      <td>2023-01-18 20:13:43</td>\n",
              "      <td>Thapakorn Thongdee</td>\n",
              "      <td>100014472098591</td>\n",
              "      <td>['ขายคีย์บอร์ด', 'Maxfit108', 'ราคา', '1000', ...</td>\n",
              "      <td>mumu</td>\n",
              "      <td>['https://m.facebook.com/photo/view_full_size/...</td>\n",
              "    </tr>\n",
              "    <tr>\n",
              "      <th>2</th>\n",
              "      <td>2023-01-18 20:21:17</td>\n",
              "      <td>Gate Natcha</td>\n",
              "      <td>100005539629130</td>\n",
              "      <td>['ประกาศ', 'ชื่อ', 'น้า']</td>\n",
              "      <td>mumu</td>\n",
              "      <td>['https://m.facebook.com/photo/view_full_size/...</td>\n",
              "    </tr>\n",
              "    <tr>\n",
              "      <th>3</th>\n",
              "      <td>2023-01-18 20:31:54</td>\n",
              "      <td>Mew Sopha</td>\n",
              "      <td>100030046732835</td>\n",
              "      <td>['แนว', 'ข้อ', 'สอบ', 'รอบ', 'สอบตรง', 'สำหรับ...</td>\n",
              "      <td>mumu</td>\n",
              "      <td>[]</td>\n",
              "    </tr>\n",
              "    <tr>\n",
              "      <th>4</th>\n",
              "      <td>2023-01-18 20:36:08</td>\n",
              "      <td>Mix Tanakorn</td>\n",
              "      <td>100013036141752</td>\n",
              "      <td>['หา', 'เพื่อน', 'ติว', 'แมท', '2']</td>\n",
              "      <td>mumu</td>\n",
              "      <td>[]</td>\n",
              "    </tr>\n",
              "    <tr>\n",
              "      <th>...</th>\n",
              "      <td>...</td>\n",
              "      <td>...</td>\n",
              "      <td>...</td>\n",
              "      <td>...</td>\n",
              "      <td>...</td>\n",
              "      <td>...</td>\n",
              "    </tr>\n",
              "    <tr>\n",
              "      <th>15295</th>\n",
              "      <td>2023-01-03 17:02:44</td>\n",
              "      <td>KMUTNB Community</td>\n",
              "      <td>614037150224795</td>\n",
              "      <td>['รบกวน', 'นิดนึง', 'เรื่อง', 'ดูดพอต', 'มอ', ...</td>\n",
              "      <td>mumu</td>\n",
              "      <td>[]</td>\n",
              "    </tr>\n",
              "    <tr>\n",
              "      <th>15296</th>\n",
              "      <td>2023-01-16 19:36:39</td>\n",
              "      <td>KMUTNB Community</td>\n",
              "      <td>842762133658774</td>\n",
              "      <td>['รุ่น', 'พี่', 'CE', 'แนะนำ', 'เรียน', 'สังคม...</td>\n",
              "      <td>mumu</td>\n",
              "      <td>[]</td>\n",
              "    </tr>\n",
              "    <tr>\n",
              "      <th>15297</th>\n",
              "      <td>2023-01-16 16:53:04</td>\n",
              "      <td>Thanawat Jangthanong</td>\n",
              "      <td>100006158616381</td>\n",
              "      <td>['Iphone', 'ทิ้ง', 'ห้องน้ำ', 'ชาย', 'ฝาก', 'ป...</td>\n",
              "      <td>mumu</td>\n",
              "      <td>['https://m.facebook.com/photo/view_full_size/...</td>\n",
              "    </tr>\n",
              "    <tr>\n",
              "      <th>15298</th>\n",
              "      <td>2023-01-16 20:27:45</td>\n",
              "      <td>Autairat Rujithanasombut</td>\n",
              "      <td>100014104568801</td>\n",
              "      <td>['แอร์พอต', 'เจน', '2', 'ขวา', 'ร่วง', 'มอบ้าง...</td>\n",
              "      <td>ประกาศของหาย</td>\n",
              "      <td>[]</td>\n",
              "    </tr>\n",
              "    <tr>\n",
              "      <th>15299</th>\n",
              "      <td>2023-01-12 15:38:10</td>\n",
              "      <td>Auntika Thongnuangam</td>\n",
              "      <td>100001862112262</td>\n",
              "      <td>['สอบถาม', 'วิชา', 'เสรี', 'science', 'daily',...</td>\n",
              "      <td>mumu</td>\n",
              "      <td>[]</td>\n",
              "    </tr>\n",
              "  </tbody>\n",
              "</table>\n",
              "<p>15300 rows × 6 columns</p>\n",
              "</div>"
            ],
            "text/plain": [
              "                 date_time                  username          user_id  \\\n",
              "0      2020-05-10 16:38:42           F'teen Flukey'p  100008420610299   \n",
              "1      2023-01-18 20:13:43        Thapakorn Thongdee  100014472098591   \n",
              "2      2023-01-18 20:21:17               Gate Natcha  100005539629130   \n",
              "3      2023-01-18 20:31:54                 Mew Sopha  100030046732835   \n",
              "4      2023-01-18 20:36:08              Mix Tanakorn  100013036141752   \n",
              "...                    ...                       ...              ...   \n",
              "15295  2023-01-03 17:02:44          KMUTNB Community  614037150224795   \n",
              "15296  2023-01-16 19:36:39          KMUTNB Community  842762133658774   \n",
              "15297  2023-01-16 16:53:04      Thanawat Jangthanong  100006158616381   \n",
              "15298  2023-01-16 20:27:45  Autairat Rujithanasombut  100014104568801   \n",
              "15299  2023-01-12 15:38:10      Auntika Thongnuangam  100001862112262   \n",
              "\n",
              "                                                    text     post_type  \\\n",
              "0      ['อัพเดท', '01082022', 'แผนที่', 'เดิม', 'ลอง'...          mumu   \n",
              "1      ['ขายคีย์บอร์ด', 'Maxfit108', 'ราคา', '1000', ...          mumu   \n",
              "2                              ['ประกาศ', 'ชื่อ', 'น้า']          mumu   \n",
              "3      ['แนว', 'ข้อ', 'สอบ', 'รอบ', 'สอบตรง', 'สำหรับ...          mumu   \n",
              "4                    ['หา', 'เพื่อน', 'ติว', 'แมท', '2']          mumu   \n",
              "...                                                  ...           ...   \n",
              "15295  ['รบกวน', 'นิดนึง', 'เรื่อง', 'ดูดพอต', 'มอ', ...          mumu   \n",
              "15296  ['รุ่น', 'พี่', 'CE', 'แนะนำ', 'เรียน', 'สังคม...          mumu   \n",
              "15297  ['Iphone', 'ทิ้ง', 'ห้องน้ำ', 'ชาย', 'ฝาก', 'ป...          mumu   \n",
              "15298  ['แอร์พอต', 'เจน', '2', 'ขวา', 'ร่วง', 'มอบ้าง...  ประกาศของหาย   \n",
              "15299  ['สอบถาม', 'วิชา', 'เสรี', 'science', 'daily',...          mumu   \n",
              "\n",
              "                                                   image  \n",
              "0      ['https://m.facebook.com/photo/view_full_size/...  \n",
              "1      ['https://m.facebook.com/photo/view_full_size/...  \n",
              "2      ['https://m.facebook.com/photo/view_full_size/...  \n",
              "3                                                     []  \n",
              "4                                                     []  \n",
              "...                                                  ...  \n",
              "15295                                                 []  \n",
              "15296                                                 []  \n",
              "15297  ['https://m.facebook.com/photo/view_full_size/...  \n",
              "15298                                                 []  \n",
              "15299                                                 []  \n",
              "\n",
              "[15300 rows x 6 columns]"
            ]
          },
          "execution_count": 1,
          "metadata": {},
          "output_type": "execute_result"
        }
      ],
      "source": [
        "import pandas as pd\n",
        "\n",
        "df = pd.read_csv('temp_scapping_data.csv', index_col=0)\n",
        "df"
      ]
    },
    {
      "cell_type": "markdown",
      "metadata": {
        "id": "FmrHF1aVEKBw"
      },
      "source": [
        "Drop duplicate"
      ]
    },
    {
      "cell_type": "code",
      "execution_count": 2,
      "metadata": {
        "colab": {
          "base_uri": "https://localhost:8080/"
        },
        "id": "0LcKA-efAdEr",
        "outputId": "cb332cf4-adc9-414a-c097-3d03e16737f4"
      },
      "outputs": [
        {
          "data": {
            "text/plain": [
              "(100, 6)"
            ]
          },
          "execution_count": 2,
          "metadata": {},
          "output_type": "execute_result"
        }
      ],
      "source": [
        "df.drop_duplicates(keep='first', inplace=True)\n",
        "df.shape"
      ]
    },
    {
      "cell_type": "markdown",
      "metadata": {
        "id": "nase1KG7ELi_"
      },
      "source": [
        "Check post_type unique"
      ]
    },
    {
      "cell_type": "code",
      "execution_count": 3,
      "metadata": {
        "colab": {
          "base_uri": "https://localhost:8080/"
        },
        "id": "qwFyeHQmBHhd",
        "outputId": "fc9482f5-90c6-424f-e1e9-2555562812ae"
      },
      "outputs": [
        {
          "data": {
            "text/plain": [
              "array(['mumu', 'ประกาศซื้อขาย', 'ประกาศของหาย'], dtype=object)"
            ]
          },
          "execution_count": 3,
          "metadata": {},
          "output_type": "execute_result"
        }
      ],
      "source": [
        "df['post_type'].unique()"
      ]
    },
    {
      "cell_type": "markdown",
      "metadata": {
        "id": "9d-d3yQGEN3V"
      },
      "source": [
        "replace the unique"
      ]
    },
    {
      "cell_type": "code",
      "execution_count": 4,
      "metadata": {
        "id": "zOu9RuwMBW9K"
      },
      "outputs": [],
      "source": [
        "df = df.replace({'mumu':3, 'ประกาศซื้อขาย':1, 'ประกาศของหาย':0})"
      ]
    },
    {
      "cell_type": "code",
      "execution_count": 5,
      "metadata": {
        "colab": {
          "base_uri": "https://localhost:8080/"
        },
        "id": "nw3lHUVtBr_K",
        "outputId": "782bf748-acd4-4fa1-b6a3-370539f6c856"
      },
      "outputs": [
        {
          "data": {
            "text/plain": [
              "array([3, 1, 0], dtype=int64)"
            ]
          },
          "execution_count": 5,
          "metadata": {},
          "output_type": "execute_result"
        }
      ],
      "source": [
        "df['post_type'].unique()\n"
      ]
    },
    {
      "cell_type": "markdown",
      "metadata": {
        "id": "Od9zB3SoEPxv"
      },
      "source": [
        "Drop unwanted data"
      ]
    },
    {
      "cell_type": "code",
      "execution_count": 6,
      "metadata": {
        "colab": {
          "base_uri": "https://localhost:8080/",
          "height": 424
        },
        "id": "oc_kC8DWStjo",
        "outputId": "996012f1-6686-4093-fe99-8194b50f5aa6"
      },
      "outputs": [
        {
          "data": {
            "text/html": [
              "<div>\n",
              "<style scoped>\n",
              "    .dataframe tbody tr th:only-of-type {\n",
              "        vertical-align: middle;\n",
              "    }\n",
              "\n",
              "    .dataframe tbody tr th {\n",
              "        vertical-align: top;\n",
              "    }\n",
              "\n",
              "    .dataframe thead th {\n",
              "        text-align: right;\n",
              "    }\n",
              "</style>\n",
              "<table border=\"1\" class=\"dataframe\">\n",
              "  <thead>\n",
              "    <tr style=\"text-align: right;\">\n",
              "      <th></th>\n",
              "      <th>text</th>\n",
              "      <th>post_type</th>\n",
              "    </tr>\n",
              "  </thead>\n",
              "  <tbody>\n",
              "    <tr>\n",
              "      <th>0</th>\n",
              "      <td>['อัพเดท', '01082022', 'แผนที่', 'เดิม', 'ลอง'...</td>\n",
              "      <td>3</td>\n",
              "    </tr>\n",
              "    <tr>\n",
              "      <th>1</th>\n",
              "      <td>['ขายคีย์บอร์ด', 'Maxfit108', 'ราคา', '1000', ...</td>\n",
              "      <td>3</td>\n",
              "    </tr>\n",
              "    <tr>\n",
              "      <th>2</th>\n",
              "      <td>['ประกาศ', 'ชื่อ', 'น้า']</td>\n",
              "      <td>3</td>\n",
              "    </tr>\n",
              "    <tr>\n",
              "      <th>3</th>\n",
              "      <td>['แนว', 'ข้อ', 'สอบ', 'รอบ', 'สอบตรง', 'สำหรับ...</td>\n",
              "      <td>3</td>\n",
              "    </tr>\n",
              "    <tr>\n",
              "      <th>4</th>\n",
              "      <td>['หา', 'เพื่อน', 'ติว', 'แมท', '2']</td>\n",
              "      <td>3</td>\n",
              "    </tr>\n",
              "    <tr>\n",
              "      <th>...</th>\n",
              "      <td>...</td>\n",
              "      <td>...</td>\n",
              "    </tr>\n",
              "    <tr>\n",
              "      <th>95</th>\n",
              "      <td>['รบกวน', 'นิดนึง', 'เรื่อง', 'ดูดพอต', 'มอ', ...</td>\n",
              "      <td>3</td>\n",
              "    </tr>\n",
              "    <tr>\n",
              "      <th>96</th>\n",
              "      <td>['รุ่น', 'พี่', 'CE', 'แนะนำ', 'เรียน', 'สังคม...</td>\n",
              "      <td>3</td>\n",
              "    </tr>\n",
              "    <tr>\n",
              "      <th>97</th>\n",
              "      <td>['Iphone', 'ทิ้ง', 'ห้องน้ำ', 'ชาย', 'ฝาก', 'ป...</td>\n",
              "      <td>3</td>\n",
              "    </tr>\n",
              "    <tr>\n",
              "      <th>98</th>\n",
              "      <td>['แอร์พอต', 'เจน', '2', 'ขวา', 'ร่วง', 'มอบ้าง...</td>\n",
              "      <td>0</td>\n",
              "    </tr>\n",
              "    <tr>\n",
              "      <th>99</th>\n",
              "      <td>['สอบถาม', 'วิชา', 'เสรี', 'science', 'daily',...</td>\n",
              "      <td>3</td>\n",
              "    </tr>\n",
              "  </tbody>\n",
              "</table>\n",
              "<p>100 rows × 2 columns</p>\n",
              "</div>"
            ],
            "text/plain": [
              "                                                 text  post_type\n",
              "0   ['อัพเดท', '01082022', 'แผนที่', 'เดิม', 'ลอง'...          3\n",
              "1   ['ขายคีย์บอร์ด', 'Maxfit108', 'ราคา', '1000', ...          3\n",
              "2                           ['ประกาศ', 'ชื่อ', 'น้า']          3\n",
              "3   ['แนว', 'ข้อ', 'สอบ', 'รอบ', 'สอบตรง', 'สำหรับ...          3\n",
              "4                 ['หา', 'เพื่อน', 'ติว', 'แมท', '2']          3\n",
              "..                                                ...        ...\n",
              "95  ['รบกวน', 'นิดนึง', 'เรื่อง', 'ดูดพอต', 'มอ', ...          3\n",
              "96  ['รุ่น', 'พี่', 'CE', 'แนะนำ', 'เรียน', 'สังคม...          3\n",
              "97  ['Iphone', 'ทิ้ง', 'ห้องน้ำ', 'ชาย', 'ฝาก', 'ป...          3\n",
              "98  ['แอร์พอต', 'เจน', '2', 'ขวา', 'ร่วง', 'มอบ้าง...          0\n",
              "99  ['สอบถาม', 'วิชา', 'เสรี', 'science', 'daily',...          3\n",
              "\n",
              "[100 rows x 2 columns]"
            ]
          },
          "execution_count": 6,
          "metadata": {},
          "output_type": "execute_result"
        }
      ],
      "source": [
        "df.drop('username', inplace=True, axis=1)\n",
        "df.drop('user_id', inplace=True, axis=1)\n",
        "df.drop('image', inplace=True, axis=1)\n",
        "df.drop('date_time', inplace=True, axis=1)\n",
        "df\n"
      ]
    },
    {
      "attachments": {},
      "cell_type": "markdown",
      "metadata": {},
      "source": [
        "Check label"
      ]
    },
    {
      "cell_type": "code",
      "execution_count": 7,
      "metadata": {},
      "outputs": [],
      "source": [
        "df.to_csv(\"check_label.csv\")"
      ]
    },
    {
      "attachments": {},
      "cell_type": "markdown",
      "metadata": {},
      "source": [
        "add checked csv"
      ]
    },
    {
      "cell_type": "code",
      "execution_count": 14,
      "metadata": {},
      "outputs": [
        {
          "data": {
            "text/html": [
              "<div>\n",
              "<style scoped>\n",
              "    .dataframe tbody tr th:only-of-type {\n",
              "        vertical-align: middle;\n",
              "    }\n",
              "\n",
              "    .dataframe tbody tr th {\n",
              "        vertical-align: top;\n",
              "    }\n",
              "\n",
              "    .dataframe thead th {\n",
              "        text-align: right;\n",
              "    }\n",
              "</style>\n",
              "<table border=\"1\" class=\"dataframe\">\n",
              "  <thead>\n",
              "    <tr style=\"text-align: right;\">\n",
              "      <th></th>\n",
              "      <th>text</th>\n",
              "      <th>post_type</th>\n",
              "    </tr>\n",
              "  </thead>\n",
              "  <tbody>\n",
              "    <tr>\n",
              "      <th>0</th>\n",
              "      <td>['อัพเดท', '01082022', 'แผนที่', 'เดิม', 'ลอง'...</td>\n",
              "      <td>3</td>\n",
              "    </tr>\n",
              "    <tr>\n",
              "      <th>1</th>\n",
              "      <td>['ขายคีย์บอร์ด', 'Maxfit108', 'ราคา', '1000', ...</td>\n",
              "      <td>1</td>\n",
              "    </tr>\n",
              "    <tr>\n",
              "      <th>2</th>\n",
              "      <td>['ประกาศ', 'ชื่อ', 'น้า']</td>\n",
              "      <td>3</td>\n",
              "    </tr>\n",
              "    <tr>\n",
              "      <th>3</th>\n",
              "      <td>['แนว', 'ข้อ', 'สอบ', 'รอบ', 'สอบตรง', 'สำหรับ...</td>\n",
              "      <td>3</td>\n",
              "    </tr>\n",
              "    <tr>\n",
              "      <th>4</th>\n",
              "      <td>['หา', 'เพื่อน', 'ติว', 'แมท', '2']</td>\n",
              "      <td>3</td>\n",
              "    </tr>\n",
              "    <tr>\n",
              "      <th>...</th>\n",
              "      <td>...</td>\n",
              "      <td>...</td>\n",
              "    </tr>\n",
              "    <tr>\n",
              "      <th>95</th>\n",
              "      <td>['รบกวน', 'นิดนึง', 'เรื่อง', 'ดูดพอต', 'มอ', ...</td>\n",
              "      <td>3</td>\n",
              "    </tr>\n",
              "    <tr>\n",
              "      <th>96</th>\n",
              "      <td>['รุ่น', 'พี่', 'CE', 'แนะนำ', 'เรียน', 'สังคม...</td>\n",
              "      <td>3</td>\n",
              "    </tr>\n",
              "    <tr>\n",
              "      <th>97</th>\n",
              "      <td>['Iphone', 'ทิ้ง', 'ห้องน้ำ', 'ชาย', 'ฝาก', 'ป...</td>\n",
              "      <td>0</td>\n",
              "    </tr>\n",
              "    <tr>\n",
              "      <th>98</th>\n",
              "      <td>['แอร์พอต', 'เจน', '2', 'ขวา', 'ร่วง', 'มอบ้าง...</td>\n",
              "      <td>0</td>\n",
              "    </tr>\n",
              "    <tr>\n",
              "      <th>99</th>\n",
              "      <td>['สอบถาม', 'วิชา', 'เสรี', 'science', 'daily',...</td>\n",
              "      <td>3</td>\n",
              "    </tr>\n",
              "  </tbody>\n",
              "</table>\n",
              "<p>100 rows × 2 columns</p>\n",
              "</div>"
            ],
            "text/plain": [
              "                                                 text  post_type\n",
              "0   ['อัพเดท', '01082022', 'แผนที่', 'เดิม', 'ลอง'...          3\n",
              "1   ['ขายคีย์บอร์ด', 'Maxfit108', 'ราคา', '1000', ...          1\n",
              "2                           ['ประกาศ', 'ชื่อ', 'น้า']          3\n",
              "3   ['แนว', 'ข้อ', 'สอบ', 'รอบ', 'สอบตรง', 'สำหรับ...          3\n",
              "4                 ['หา', 'เพื่อน', 'ติว', 'แมท', '2']          3\n",
              "..                                                ...        ...\n",
              "95  ['รบกวน', 'นิดนึง', 'เรื่อง', 'ดูดพอต', 'มอ', ...          3\n",
              "96  ['รุ่น', 'พี่', 'CE', 'แนะนำ', 'เรียน', 'สังคม...          3\n",
              "97  ['Iphone', 'ทิ้ง', 'ห้องน้ำ', 'ชาย', 'ฝาก', 'ป...          0\n",
              "98  ['แอร์พอต', 'เจน', '2', 'ขวา', 'ร่วง', 'มอบ้าง...          0\n",
              "99  ['สอบถาม', 'วิชา', 'เสรี', 'science', 'daily',...          3\n",
              "\n",
              "[100 rows x 2 columns]"
            ]
          },
          "execution_count": 14,
          "metadata": {},
          "output_type": "execute_result"
        }
      ],
      "source": [
        "df = pd.read_csv('check_label.csv', index_col=0)\n",
        "df"
      ]
    },
    {
      "cell_type": "markdown",
      "metadata": {
        "id": "JPOE14LKCbzi"
      },
      "source": [
        "-------------------------------------------"
      ]
    },
    {
      "cell_type": "markdown",
      "metadata": {
        "id": "wj7C3_rQD5Fj"
      },
      "source": [
        "Add second data frame"
      ]
    },
    {
      "cell_type": "code",
      "execution_count": 15,
      "metadata": {
        "colab": {
          "base_uri": "https://localhost:8080/",
          "height": 424
        },
        "id": "D0ISEsSRCbX7",
        "outputId": "369866db-9f02-41bb-8824-d02cd7e78769"
      },
      "outputs": [
        {
          "data": {
            "text/html": [
              "<div>\n",
              "<style scoped>\n",
              "    .dataframe tbody tr th:only-of-type {\n",
              "        vertical-align: middle;\n",
              "    }\n",
              "\n",
              "    .dataframe tbody tr th {\n",
              "        vertical-align: top;\n",
              "    }\n",
              "\n",
              "    .dataframe thead th {\n",
              "        text-align: right;\n",
              "    }\n",
              "</style>\n",
              "<table border=\"1\" class=\"dataframe\">\n",
              "  <thead>\n",
              "    <tr style=\"text-align: right;\">\n",
              "      <th></th>\n",
              "      <th>post_type</th>\n",
              "      <th>text</th>\n",
              "    </tr>\n",
              "  </thead>\n",
              "  <tbody>\n",
              "    <tr>\n",
              "      <th>0</th>\n",
              "      <td>3</td>\n",
              "      <td>['หา', 'สัญญา', 'หอ', 'มจพ', 'ย้าย', 'ปลาย', '...</td>\n",
              "    </tr>\n",
              "    <tr>\n",
              "      <th>1</th>\n",
              "      <td>1</td>\n",
              "      <td>['ขาย', 'ตั๋วหนัง', 'black', 'panther', 'โรง',...</td>\n",
              "    </tr>\n",
              "    <tr>\n",
              "      <th>2</th>\n",
              "      <td>1</td>\n",
              "      <td>['กระโปรง', 'ศึกษา', 'เอว', '24', '28', 'เอว',...</td>\n",
              "    </tr>\n",
              "    <tr>\n",
              "      <th>3</th>\n",
              "      <td>1</td>\n",
              "      <td>['อนุญาต', 'ขาย', 'ขาย', 'ตู้', 'เย็น', 'Midea...</td>\n",
              "    </tr>\n",
              "    <tr>\n",
              "      <th>4</th>\n",
              "      <td>1</td>\n",
              "      <td>['XX', 'คน', 'เช่า', 'XX', 'อนุญาต', 'ประกาศ',...</td>\n",
              "    </tr>\n",
              "    <tr>\n",
              "      <th>...</th>\n",
              "      <td>...</td>\n",
              "      <td>...</td>\n",
              "    </tr>\n",
              "    <tr>\n",
              "      <th>849</th>\n",
              "      <td>3</td>\n",
              "      <td>['สอบถาม', 'เอกสาร', 'เบิก', 'เทอม', 'ปี', '58...</td>\n",
              "    </tr>\n",
              "    <tr>\n",
              "      <th>850</th>\n",
              "      <td>3</td>\n",
              "      <td>['แถว', 'มอ', 'ร้าน', 'ถ่าย', 'รูป', 'ศึกษา', ...</td>\n",
              "    </tr>\n",
              "    <tr>\n",
              "      <th>851</th>\n",
              "      <td>3</td>\n",
              "      <td>['รบกวน', 'นิดนึง', 'เรื่อง', 'ดูดพอต', 'มอ', ...</td>\n",
              "    </tr>\n",
              "    <tr>\n",
              "      <th>852</th>\n",
              "      <td>0</td>\n",
              "      <td>['แอร์พอต', 'เจน', '2', 'ขวา', 'ร่วง', 'มอบ้าง...</td>\n",
              "    </tr>\n",
              "    <tr>\n",
              "      <th>853</th>\n",
              "      <td>3</td>\n",
              "      <td>['พี่', 'รี', 'วิว', 'วิชา', 'สาขา', 'เซรามิก'...</td>\n",
              "    </tr>\n",
              "  </tbody>\n",
              "</table>\n",
              "<p>854 rows × 2 columns</p>\n",
              "</div>"
            ],
            "text/plain": [
              "     post_type                                               text\n",
              "0            3  ['หา', 'สัญญา', 'หอ', 'มจพ', 'ย้าย', 'ปลาย', '...\n",
              "1            1  ['ขาย', 'ตั๋วหนัง', 'black', 'panther', 'โรง',...\n",
              "2            1  ['กระโปรง', 'ศึกษา', 'เอว', '24', '28', 'เอว',...\n",
              "3            1  ['อนุญาต', 'ขาย', 'ขาย', 'ตู้', 'เย็น', 'Midea...\n",
              "4            1  ['XX', 'คน', 'เช่า', 'XX', 'อนุญาต', 'ประกาศ',...\n",
              "..         ...                                                ...\n",
              "849          3  ['สอบถาม', 'เอกสาร', 'เบิก', 'เทอม', 'ปี', '58...\n",
              "850          3  ['แถว', 'มอ', 'ร้าน', 'ถ่าย', 'รูป', 'ศึกษา', ...\n",
              "851          3  ['รบกวน', 'นิดนึง', 'เรื่อง', 'ดูดพอต', 'มอ', ...\n",
              "852          0  ['แอร์พอต', 'เจน', '2', 'ขวา', 'ร่วง', 'มอบ้าง...\n",
              "853          3  ['พี่', 'รี', 'วิว', 'วิชา', 'สาขา', 'เซรามิก'...\n",
              "\n",
              "[854 rows x 2 columns]"
            ]
          },
          "execution_count": 15,
          "metadata": {},
          "output_type": "execute_result"
        }
      ],
      "source": [
        "df2 = pd.read_csv('new_data.csv', index_col=0)\n",
        "df2"
      ]
    },
    {
      "cell_type": "markdown",
      "metadata": {
        "id": "5JIyARqQD2JV"
      },
      "source": [
        "APPEND 2 data frame"
      ]
    },
    {
      "cell_type": "code",
      "execution_count": 16,
      "metadata": {
        "colab": {
          "base_uri": "https://localhost:8080/"
        },
        "id": "JOUS-B9XTq-B",
        "outputId": "dbb4e9ea-7490-497c-bb57-30d50edc8907"
      },
      "outputs": [
        {
          "name": "stderr",
          "output_type": "stream",
          "text": [
            "C:\\Users\\Corgi\\AppData\\Local\\Temp\\ipykernel_4500\\556518295.py:1: FutureWarning: The frame.append method is deprecated and will be removed from pandas in a future version. Use pandas.concat instead.\n",
            "  append_data = df2.append(df,ignore_index = True)\n"
          ]
        },
        {
          "data": {
            "text/plain": [
              "(954, 2)"
            ]
          },
          "execution_count": 16,
          "metadata": {},
          "output_type": "execute_result"
        }
      ],
      "source": [
        "append_data = df2.append(df,ignore_index = True)\n",
        "append_data.shape"
      ]
    },
    {
      "cell_type": "code",
      "execution_count": 19,
      "metadata": {
        "colab": {
          "base_uri": "https://localhost:8080/",
          "height": 424
        },
        "id": "6DXJAW1uClV2",
        "outputId": "b570ad41-da67-4226-f542-882ccd94256d"
      },
      "outputs": [
        {
          "data": {
            "text/html": [
              "<div>\n",
              "<style scoped>\n",
              "    .dataframe tbody tr th:only-of-type {\n",
              "        vertical-align: middle;\n",
              "    }\n",
              "\n",
              "    .dataframe tbody tr th {\n",
              "        vertical-align: top;\n",
              "    }\n",
              "\n",
              "    .dataframe thead th {\n",
              "        text-align: right;\n",
              "    }\n",
              "</style>\n",
              "<table border=\"1\" class=\"dataframe\">\n",
              "  <thead>\n",
              "    <tr style=\"text-align: right;\">\n",
              "      <th></th>\n",
              "      <th>post_type</th>\n",
              "      <th>text</th>\n",
              "    </tr>\n",
              "  </thead>\n",
              "  <tbody>\n",
              "    <tr>\n",
              "      <th>0</th>\n",
              "      <td>1</td>\n",
              "      <td>['หา', 'สัญญา', 'หอ', 'มจพ', 'ย้าย', 'ปลาย', '...</td>\n",
              "    </tr>\n",
              "    <tr>\n",
              "      <th>1</th>\n",
              "      <td>1</td>\n",
              "      <td>['ขาย', 'ตั๋วหนัง', 'black', 'panther', 'โรง',...</td>\n",
              "    </tr>\n",
              "    <tr>\n",
              "      <th>2</th>\n",
              "      <td>1</td>\n",
              "      <td>['กระโปรง', 'ศึกษา', 'เอว', '24', '28', 'เอว',...</td>\n",
              "    </tr>\n",
              "    <tr>\n",
              "      <th>3</th>\n",
              "      <td>1</td>\n",
              "      <td>['อนุญาต', 'ขาย', 'ขาย', 'ตู้', 'เย็น', 'Midea...</td>\n",
              "    </tr>\n",
              "    <tr>\n",
              "      <th>4</th>\n",
              "      <td>1</td>\n",
              "      <td>['XX', 'คน', 'เช่า', 'XX', 'อนุญาต', 'ประกาศ',...</td>\n",
              "    </tr>\n",
              "    <tr>\n",
              "      <th>...</th>\n",
              "      <td>...</td>\n",
              "      <td>...</td>\n",
              "    </tr>\n",
              "    <tr>\n",
              "      <th>910</th>\n",
              "      <td>3</td>\n",
              "      <td>['บุญ', 'เบื้องหลัง', 'สุข', 'สำเร็จ', 'ชีวิต'...</td>\n",
              "    </tr>\n",
              "    <tr>\n",
              "      <th>911</th>\n",
              "      <td>0</td>\n",
              "      <td>['เจอ', 'กุญแจ', 'มอไซต์', 'xmax', 'สี', 'ดำ',...</td>\n",
              "    </tr>\n",
              "    <tr>\n",
              "      <th>912</th>\n",
              "      <td>1</td>\n",
              "      <td>['มอ', 'แมลง', 'ทอด', 'ขาย', 'กิน']</td>\n",
              "    </tr>\n",
              "    <tr>\n",
              "      <th>913</th>\n",
              "      <td>3</td>\n",
              "      <td>['ผม', 'สอบถาม', 'พี่', 'สำหรับ', 'PnET', 'PE'...</td>\n",
              "    </tr>\n",
              "    <tr>\n",
              "      <th>914</th>\n",
              "      <td>3</td>\n",
              "      <td>['อนุญาต', 'สอบถาม', 'แถว', 'มอเรา', 'คลินิก',...</td>\n",
              "    </tr>\n",
              "  </tbody>\n",
              "</table>\n",
              "<p>915 rows × 2 columns</p>\n",
              "</div>"
            ],
            "text/plain": [
              "     post_type                                               text\n",
              "0            1  ['หา', 'สัญญา', 'หอ', 'มจพ', 'ย้าย', 'ปลาย', '...\n",
              "1            1  ['ขาย', 'ตั๋วหนัง', 'black', 'panther', 'โรง',...\n",
              "2            1  ['กระโปรง', 'ศึกษา', 'เอว', '24', '28', 'เอว',...\n",
              "3            1  ['อนุญาต', 'ขาย', 'ขาย', 'ตู้', 'เย็น', 'Midea...\n",
              "4            1  ['XX', 'คน', 'เช่า', 'XX', 'อนุญาต', 'ประกาศ',...\n",
              "..         ...                                                ...\n",
              "910          3  ['บุญ', 'เบื้องหลัง', 'สุข', 'สำเร็จ', 'ชีวิต'...\n",
              "911          0  ['เจอ', 'กุญแจ', 'มอไซต์', 'xmax', 'สี', 'ดำ',...\n",
              "912          1                ['มอ', 'แมลง', 'ทอด', 'ขาย', 'กิน']\n",
              "913          3  ['ผม', 'สอบถาม', 'พี่', 'สำหรับ', 'PnET', 'PE'...\n",
              "914          3  ['อนุญาต', 'สอบถาม', 'แถว', 'มอเรา', 'คลินิก',...\n",
              "\n",
              "[915 rows x 2 columns]"
            ]
          },
          "execution_count": 19,
          "metadata": {},
          "output_type": "execute_result"
        }
      ],
      "source": [
        "append_data"
      ]
    },
    {
      "attachments": {},
      "cell_type": "markdown",
      "metadata": {},
      "source": [
        "Drop duplicate before save"
      ]
    },
    {
      "cell_type": "code",
      "execution_count": 18,
      "metadata": {},
      "outputs": [
        {
          "data": {
            "text/plain": [
              "(896, 2)"
            ]
          },
          "execution_count": 18,
          "metadata": {},
          "output_type": "execute_result"
        }
      ],
      "source": [
        "append_data.drop_duplicates(subset='text',keep='last', inplace=True,ignore_index = True)\n",
        "append_data.shape"
      ]
    },
    {
      "cell_type": "markdown",
      "metadata": {
        "id": "qVMDkIxOEEII"
      },
      "source": [
        "Save to csv "
      ]
    },
    {
      "cell_type": "code",
      "execution_count": 20,
      "metadata": {
        "id": "ULfxg-79Tp3m"
      },
      "outputs": [],
      "source": [
        "append_data.to_csv(\"new_data.csv\",index=False)"
      ]
    },
    {
      "cell_type": "code",
      "execution_count": null,
      "metadata": {
        "id": "VpoqCmK4ECmY"
      },
      "outputs": [],
      "source": []
    }
  ],
  "metadata": {
    "colab": {
      "provenance": []
    },
    "kernelspec": {
      "display_name": "Python 3",
      "language": "python",
      "name": "python3"
    },
    "language_info": {
      "codemirror_mode": {
        "name": "ipython",
        "version": 3
      },
      "file_extension": ".py",
      "mimetype": "text/x-python",
      "name": "python",
      "nbconvert_exporter": "python",
      "pygments_lexer": "ipython3",
      "version": "3.11.0"
    },
    "vscode": {
      "interpreter": {
        "hash": "5238573367df39f7286bb46f9ff5f08f63a01a80960060ce41e3c79b190280fa"
      }
    }
  },
  "nbformat": 4,
  "nbformat_minor": 0
}
