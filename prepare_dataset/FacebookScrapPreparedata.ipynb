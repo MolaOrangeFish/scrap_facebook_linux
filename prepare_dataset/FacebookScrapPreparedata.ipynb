{
  "cells": [
    {
      "cell_type": "markdown",
      "metadata": {
        "id": "M82hDRqjEGxL"
      },
      "source": [
        "Add first csv"
      ]
    },
    {
      "cell_type": "code",
      "execution_count": 32,
      "metadata": {
        "colab": {
          "base_uri": "https://localhost:8080/",
          "height": 424
        },
        "id": "BqMuVFxwSULn",
        "outputId": "09688693-6e88-4b71-9d34-46fc6820c85e"
      },
      "outputs": [
        {
          "data": {
            "text/html": [
              "<div>\n",
              "<style scoped>\n",
              "    .dataframe tbody tr th:only-of-type {\n",
              "        vertical-align: middle;\n",
              "    }\n",
              "\n",
              "    .dataframe tbody tr th {\n",
              "        vertical-align: top;\n",
              "    }\n",
              "\n",
              "    .dataframe thead th {\n",
              "        text-align: right;\n",
              "    }\n",
              "</style>\n",
              "<table border=\"1\" class=\"dataframe\">\n",
              "  <thead>\n",
              "    <tr style=\"text-align: right;\">\n",
              "      <th></th>\n",
              "      <th>text</th>\n",
              "      <th>post_type</th>\n",
              "    </tr>\n",
              "  </thead>\n",
              "  <tbody>\n",
              "    <tr>\n",
              "      <th>0</th>\n",
              "      <td>['เจอ', 'บัตร', 'นิสิต', 'ตู้', 'กด', 'เงิน', ...</td>\n",
              "      <td>0</td>\n",
              "    </tr>\n",
              "    <tr>\n",
              "      <th>1</th>\n",
              "      <td>['อนุญาต', 'หา', 'กระเป๋า', 'ตังค์', 'สี', 'เท...</td>\n",
              "      <td>0</td>\n",
              "    </tr>\n",
              "    <tr>\n",
              "      <th>2</th>\n",
              "      <td>['อนุญาต', 'หา', 'กระเป๋า', 'ตังค์', 'สี', 'เท...</td>\n",
              "      <td>0</td>\n",
              "    </tr>\n",
              "    <tr>\n",
              "      <th>3</th>\n",
              "      <td>['ติดต่อ', 'เคาน์เตอร์', '711', 'ประตู', '6']</td>\n",
              "      <td>0</td>\n",
              "    </tr>\n",
              "    <tr>\n",
              "      <th>4</th>\n",
              "      <td>['เจอ', 'ตรงสระ', 'ฝั่ง', 'คณะ', 'เภสัชค้าบ', ...</td>\n",
              "      <td>0</td>\n",
              "    </tr>\n",
              "  </tbody>\n",
              "</table>\n",
              "</div>"
            ],
            "text/plain": [
              "                                                text  post_type\n",
              "0  ['เจอ', 'บัตร', 'นิสิต', 'ตู้', 'กด', 'เงิน', ...          0\n",
              "1  ['อนุญาต', 'หา', 'กระเป๋า', 'ตังค์', 'สี', 'เท...          0\n",
              "2  ['อนุญาต', 'หา', 'กระเป๋า', 'ตังค์', 'สี', 'เท...          0\n",
              "3      ['ติดต่อ', 'เคาน์เตอร์', '711', 'ประตู', '6']          0\n",
              "4  ['เจอ', 'ตรงสระ', 'ฝั่ง', 'คณะ', 'เภสัชค้าบ', ...          0"
            ]
          },
          "execution_count": 32,
          "metadata": {},
          "output_type": "execute_result"
        }
      ],
      "source": [
        "import pandas as pd\n",
        "\n",
        "df = pd.read_csv('by_hand_new_data3.csv')\n",
        "df.head()"
      ]
    },
    {
      "cell_type": "markdown",
      "metadata": {
        "id": "FmrHF1aVEKBw"
      },
      "source": [
        "Drop duplicate"
      ]
    },
    {
      "cell_type": "code",
      "execution_count": 33,
      "metadata": {
        "colab": {
          "base_uri": "https://localhost:8080/"
        },
        "id": "0LcKA-efAdEr",
        "outputId": "cb332cf4-adc9-414a-c097-3d03e16737f4"
      },
      "outputs": [],
      "source": [
        "df.drop_duplicates(subset='text',keep='last', inplace=True)"
      ]
    },
    {
      "cell_type": "markdown",
      "metadata": {
        "id": "nase1KG7ELi_"
      },
      "source": [
        "Check post_type unique"
      ]
    },
    {
      "cell_type": "code",
      "execution_count": 34,
      "metadata": {
        "colab": {
          "base_uri": "https://localhost:8080/"
        },
        "id": "qwFyeHQmBHhd",
        "outputId": "fc9482f5-90c6-424f-e1e9-2555562812ae"
      },
      "outputs": [
        {
          "data": {
            "text/plain": [
              "(52, 2)"
            ]
          },
          "execution_count": 34,
          "metadata": {},
          "output_type": "execute_result"
        }
      ],
      "source": [
        "df['post_type'].unique()\n",
        "df.shape"
      ]
    },
    {
      "cell_type": "markdown",
      "metadata": {
        "id": "9d-d3yQGEN3V"
      },
      "source": [
        "replace the unique"
      ]
    },
    {
      "cell_type": "code",
      "execution_count": 4,
      "metadata": {
        "id": "zOu9RuwMBW9K"
      },
      "outputs": [],
      "source": [
        "df = df.replace({'mumu':3, 'ประกาศซื้อขาย':1, 'ประกาศของหาย':0})"
      ]
    },
    {
      "cell_type": "code",
      "execution_count": 35,
      "metadata": {
        "colab": {
          "base_uri": "https://localhost:8080/"
        },
        "id": "nw3lHUVtBr_K",
        "outputId": "782bf748-acd4-4fa1-b6a3-370539f6c856"
      },
      "outputs": [
        {
          "data": {
            "text/plain": [
              "array([0], dtype=int64)"
            ]
          },
          "execution_count": 35,
          "metadata": {},
          "output_type": "execute_result"
        }
      ],
      "source": [
        "df['post_type'].unique()\n"
      ]
    },
    {
      "cell_type": "markdown",
      "metadata": {
        "id": "Od9zB3SoEPxv"
      },
      "source": [
        "Drop unwanted data"
      ]
    },
    {
      "cell_type": "code",
      "execution_count": 6,
      "metadata": {
        "colab": {
          "base_uri": "https://localhost:8080/",
          "height": 424
        },
        "id": "oc_kC8DWStjo",
        "outputId": "996012f1-6686-4093-fe99-8194b50f5aa6"
      },
      "outputs": [
        {
          "data": {
            "text/html": [
              "<div>\n",
              "<style scoped>\n",
              "    .dataframe tbody tr th:only-of-type {\n",
              "        vertical-align: middle;\n",
              "    }\n",
              "\n",
              "    .dataframe tbody tr th {\n",
              "        vertical-align: top;\n",
              "    }\n",
              "\n",
              "    .dataframe thead th {\n",
              "        text-align: right;\n",
              "    }\n",
              "</style>\n",
              "<table border=\"1\" class=\"dataframe\">\n",
              "  <thead>\n",
              "    <tr style=\"text-align: right;\">\n",
              "      <th></th>\n",
              "      <th>text</th>\n",
              "      <th>post_type</th>\n",
              "    </tr>\n",
              "  </thead>\n",
              "  <tbody>\n",
              "    <tr>\n",
              "      <th>0</th>\n",
              "      <td>['อัพเดท', '01082022', 'แผนที่', 'เดิม', 'ลอง'...</td>\n",
              "      <td>3</td>\n",
              "    </tr>\n",
              "    <tr>\n",
              "      <th>1</th>\n",
              "      <td>['ขายคีย์บอร์ด', 'Maxfit108', 'ราคา', '1000', ...</td>\n",
              "      <td>3</td>\n",
              "    </tr>\n",
              "    <tr>\n",
              "      <th>2</th>\n",
              "      <td>['ประกาศ', 'ชื่อ', 'น้า']</td>\n",
              "      <td>3</td>\n",
              "    </tr>\n",
              "    <tr>\n",
              "      <th>3</th>\n",
              "      <td>['แนว', 'ข้อ', 'สอบ', 'รอบ', 'สอบตรง', 'สำหรับ...</td>\n",
              "      <td>3</td>\n",
              "    </tr>\n",
              "    <tr>\n",
              "      <th>4</th>\n",
              "      <td>['หา', 'เพื่อน', 'ติว', 'แมท', '2']</td>\n",
              "      <td>3</td>\n",
              "    </tr>\n",
              "    <tr>\n",
              "      <th>...</th>\n",
              "      <td>...</td>\n",
              "      <td>...</td>\n",
              "    </tr>\n",
              "    <tr>\n",
              "      <th>95</th>\n",
              "      <td>['รบกวน', 'นิดนึง', 'เรื่อง', 'ดูดพอต', 'มอ', ...</td>\n",
              "      <td>3</td>\n",
              "    </tr>\n",
              "    <tr>\n",
              "      <th>96</th>\n",
              "      <td>['รุ่น', 'พี่', 'CE', 'แนะนำ', 'เรียน', 'สังคม...</td>\n",
              "      <td>3</td>\n",
              "    </tr>\n",
              "    <tr>\n",
              "      <th>97</th>\n",
              "      <td>['Iphone', 'ทิ้ง', 'ห้องน้ำ', 'ชาย', 'ฝาก', 'ป...</td>\n",
              "      <td>3</td>\n",
              "    </tr>\n",
              "    <tr>\n",
              "      <th>98</th>\n",
              "      <td>['แอร์พอต', 'เจน', '2', 'ขวา', 'ร่วง', 'มอบ้าง...</td>\n",
              "      <td>0</td>\n",
              "    </tr>\n",
              "    <tr>\n",
              "      <th>99</th>\n",
              "      <td>['สอบถาม', 'วิชา', 'เสรี', 'science', 'daily',...</td>\n",
              "      <td>3</td>\n",
              "    </tr>\n",
              "  </tbody>\n",
              "</table>\n",
              "<p>100 rows × 2 columns</p>\n",
              "</div>"
            ],
            "text/plain": [
              "                                                 text  post_type\n",
              "0   ['อัพเดท', '01082022', 'แผนที่', 'เดิม', 'ลอง'...          3\n",
              "1   ['ขายคีย์บอร์ด', 'Maxfit108', 'ราคา', '1000', ...          3\n",
              "2                           ['ประกาศ', 'ชื่อ', 'น้า']          3\n",
              "3   ['แนว', 'ข้อ', 'สอบ', 'รอบ', 'สอบตรง', 'สำหรับ...          3\n",
              "4                 ['หา', 'เพื่อน', 'ติว', 'แมท', '2']          3\n",
              "..                                                ...        ...\n",
              "95  ['รบกวน', 'นิดนึง', 'เรื่อง', 'ดูดพอต', 'มอ', ...          3\n",
              "96  ['รุ่น', 'พี่', 'CE', 'แนะนำ', 'เรียน', 'สังคม...          3\n",
              "97  ['Iphone', 'ทิ้ง', 'ห้องน้ำ', 'ชาย', 'ฝาก', 'ป...          3\n",
              "98  ['แอร์พอต', 'เจน', '2', 'ขวา', 'ร่วง', 'มอบ้าง...          0\n",
              "99  ['สอบถาม', 'วิชา', 'เสรี', 'science', 'daily',...          3\n",
              "\n",
              "[100 rows x 2 columns]"
            ]
          },
          "execution_count": 6,
          "metadata": {},
          "output_type": "execute_result"
        }
      ],
      "source": [
        "df.drop('username', inplace=True, axis=1)\n",
        "df.drop('user_id', inplace=True, axis=1)\n",
        "df.drop('image', inplace=True, axis=1)\n",
        "df.drop('date_time', inplace=True, axis=1)\n",
        "df\n"
      ]
    },
    {
      "attachments": {},
      "cell_type": "markdown",
      "metadata": {},
      "source": [
        "Check label"
      ]
    },
    {
      "cell_type": "code",
      "execution_count": 7,
      "metadata": {},
      "outputs": [],
      "source": [
        "df.to_csv(\"check_label.csv\")"
      ]
    },
    {
      "attachments": {},
      "cell_type": "markdown",
      "metadata": {},
      "source": [
        "add checked csv"
      ]
    },
    {
      "cell_type": "code",
      "execution_count": 26,
      "metadata": {},
      "outputs": [
        {
          "data": {
            "text/html": [
              "<div>\n",
              "<style scoped>\n",
              "    .dataframe tbody tr th:only-of-type {\n",
              "        vertical-align: middle;\n",
              "    }\n",
              "\n",
              "    .dataframe tbody tr th {\n",
              "        vertical-align: top;\n",
              "    }\n",
              "\n",
              "    .dataframe thead th {\n",
              "        text-align: right;\n",
              "    }\n",
              "</style>\n",
              "<table border=\"1\" class=\"dataframe\">\n",
              "  <thead>\n",
              "    <tr style=\"text-align: right;\">\n",
              "      <th></th>\n",
              "      <th>text</th>\n",
              "      <th>post_type</th>\n",
              "    </tr>\n",
              "  </thead>\n",
              "  <tbody>\n",
              "    <tr>\n",
              "      <th>0</th>\n",
              "      <td>['อัพเดท', '01082022', 'แผนที่', 'เดิม', 'ลอง'...</td>\n",
              "      <td>3</td>\n",
              "    </tr>\n",
              "    <tr>\n",
              "      <th>1</th>\n",
              "      <td>['ขายคีย์บอร์ด', 'Maxfit108', 'ราคา', '1000', ...</td>\n",
              "      <td>1</td>\n",
              "    </tr>\n",
              "    <tr>\n",
              "      <th>2</th>\n",
              "      <td>['ประกาศ', 'ชื่อ', 'น้า']</td>\n",
              "      <td>3</td>\n",
              "    </tr>\n",
              "    <tr>\n",
              "      <th>3</th>\n",
              "      <td>['แนว', 'ข้อ', 'สอบ', 'รอบ', 'สอบตรง', 'สำหรับ...</td>\n",
              "      <td>3</td>\n",
              "    </tr>\n",
              "    <tr>\n",
              "      <th>4</th>\n",
              "      <td>['หา', 'เพื่อน', 'ติว', 'แมท', '2']</td>\n",
              "      <td>3</td>\n",
              "    </tr>\n",
              "    <tr>\n",
              "      <th>...</th>\n",
              "      <td>...</td>\n",
              "      <td>...</td>\n",
              "    </tr>\n",
              "    <tr>\n",
              "      <th>95</th>\n",
              "      <td>['รบกวน', 'นิดนึง', 'เรื่อง', 'ดูดพอต', 'มอ', ...</td>\n",
              "      <td>3</td>\n",
              "    </tr>\n",
              "    <tr>\n",
              "      <th>96</th>\n",
              "      <td>['รุ่น', 'พี่', 'CE', 'แนะนำ', 'เรียน', 'สังคม...</td>\n",
              "      <td>3</td>\n",
              "    </tr>\n",
              "    <tr>\n",
              "      <th>97</th>\n",
              "      <td>['Iphone', 'ทิ้ง', 'ห้องน้ำ', 'ชาย', 'ฝาก', 'ป...</td>\n",
              "      <td>0</td>\n",
              "    </tr>\n",
              "    <tr>\n",
              "      <th>98</th>\n",
              "      <td>['แอร์พอต', 'เจน', '2', 'ขวา', 'ร่วง', 'มอบ้าง...</td>\n",
              "      <td>0</td>\n",
              "    </tr>\n",
              "    <tr>\n",
              "      <th>99</th>\n",
              "      <td>['สอบถาม', 'วิชา', 'เสรี', 'science', 'daily',...</td>\n",
              "      <td>3</td>\n",
              "    </tr>\n",
              "  </tbody>\n",
              "</table>\n",
              "<p>100 rows × 2 columns</p>\n",
              "</div>"
            ],
            "text/plain": [
              "                                                 text  post_type\n",
              "0   ['อัพเดท', '01082022', 'แผนที่', 'เดิม', 'ลอง'...          3\n",
              "1   ['ขายคีย์บอร์ด', 'Maxfit108', 'ราคา', '1000', ...          1\n",
              "2                           ['ประกาศ', 'ชื่อ', 'น้า']          3\n",
              "3   ['แนว', 'ข้อ', 'สอบ', 'รอบ', 'สอบตรง', 'สำหรับ...          3\n",
              "4                 ['หา', 'เพื่อน', 'ติว', 'แมท', '2']          3\n",
              "..                                                ...        ...\n",
              "95  ['รบกวน', 'นิดนึง', 'เรื่อง', 'ดูดพอต', 'มอ', ...          3\n",
              "96  ['รุ่น', 'พี่', 'CE', 'แนะนำ', 'เรียน', 'สังคม...          3\n",
              "97  ['Iphone', 'ทิ้ง', 'ห้องน้ำ', 'ชาย', 'ฝาก', 'ป...          0\n",
              "98  ['แอร์พอต', 'เจน', '2', 'ขวา', 'ร่วง', 'มอบ้าง...          0\n",
              "99  ['สอบถาม', 'วิชา', 'เสรี', 'science', 'daily',...          3\n",
              "\n",
              "[100 rows x 2 columns]"
            ]
          },
          "execution_count": 26,
          "metadata": {},
          "output_type": "execute_result"
        }
      ],
      "source": [
        "df = pd.read_csv('check_label.csv', index_col=0)\n",
        "df"
      ]
    },
    {
      "cell_type": "markdown",
      "metadata": {
        "id": "JPOE14LKCbzi"
      },
      "source": [
        "-------------------------------------------"
      ]
    },
    {
      "cell_type": "markdown",
      "metadata": {
        "id": "wj7C3_rQD5Fj"
      },
      "source": [
        "Add second data frame"
      ]
    },
    {
      "cell_type": "code",
      "execution_count": 36,
      "metadata": {
        "colab": {
          "base_uri": "https://localhost:8080/",
          "height": 424
        },
        "id": "D0ISEsSRCbX7",
        "outputId": "369866db-9f02-41bb-8824-d02cd7e78769"
      },
      "outputs": [
        {
          "data": {
            "text/html": [
              "<div>\n",
              "<style scoped>\n",
              "    .dataframe tbody tr th:only-of-type {\n",
              "        vertical-align: middle;\n",
              "    }\n",
              "\n",
              "    .dataframe tbody tr th {\n",
              "        vertical-align: top;\n",
              "    }\n",
              "\n",
              "    .dataframe thead th {\n",
              "        text-align: right;\n",
              "    }\n",
              "</style>\n",
              "<table border=\"1\" class=\"dataframe\">\n",
              "  <thead>\n",
              "    <tr style=\"text-align: right;\">\n",
              "      <th></th>\n",
              "      <th>post_type</th>\n",
              "      <th>text</th>\n",
              "    </tr>\n",
              "  </thead>\n",
              "  <tbody>\n",
              "    <tr>\n",
              "      <th>0</th>\n",
              "      <td>3</td>\n",
              "      <td>['หา', 'สัญญา', 'หอ', 'มจพ', 'ย้าย', 'ปลาย', '...</td>\n",
              "    </tr>\n",
              "    <tr>\n",
              "      <th>1</th>\n",
              "      <td>1</td>\n",
              "      <td>['ขาย', 'ตั๋วหนัง', 'black', 'panther', 'โรง',...</td>\n",
              "    </tr>\n",
              "    <tr>\n",
              "      <th>2</th>\n",
              "      <td>1</td>\n",
              "      <td>['กระโปรง', 'ศึกษา', 'เอว', '24', '28', 'เอว',...</td>\n",
              "    </tr>\n",
              "    <tr>\n",
              "      <th>3</th>\n",
              "      <td>1</td>\n",
              "      <td>['อนุญาต', 'ขาย', 'ขาย', 'ตู้', 'เย็น', 'Midea...</td>\n",
              "    </tr>\n",
              "    <tr>\n",
              "      <th>4</th>\n",
              "      <td>1</td>\n",
              "      <td>['XX', 'คน', 'เช่า', 'XX', 'อนุญาต', 'ประกาศ',...</td>\n",
              "    </tr>\n",
              "    <tr>\n",
              "      <th>...</th>\n",
              "      <td>...</td>\n",
              "      <td>...</td>\n",
              "    </tr>\n",
              "    <tr>\n",
              "      <th>891</th>\n",
              "      <td>3</td>\n",
              "      <td>['สอบถาม', 'รุ่น', 'พี่', 'Itbl', 'การเรียนการ...</td>\n",
              "    </tr>\n",
              "    <tr>\n",
              "      <th>892</th>\n",
              "      <td>3</td>\n",
              "      <td>['สอบถาม', 'เรื่อง', 'ทุน', 'ศึกษา', 'คณะครุศา...</td>\n",
              "    </tr>\n",
              "    <tr>\n",
              "      <th>893</th>\n",
              "      <td>1</td>\n",
              "      <td>['ปล่อย', 'เช่า', 'แนะนำ', 'ห้อง', 'ว่าง', 'รา...</td>\n",
              "    </tr>\n",
              "    <tr>\n",
              "      <th>894</th>\n",
              "      <td>0</td>\n",
              "      <td>['เจอ', 'แฟ้ม', 'สนาม', 'ฟุตบอล', 'ฝาก', 'ยาม']</td>\n",
              "    </tr>\n",
              "    <tr>\n",
              "      <th>895</th>\n",
              "      <td>1</td>\n",
              "      <td>['อนุญาต', 'แอดมิน', 'ย้าย', 'หอ', 'ขน', 'สนใจ...</td>\n",
              "    </tr>\n",
              "  </tbody>\n",
              "</table>\n",
              "<p>896 rows × 2 columns</p>\n",
              "</div>"
            ],
            "text/plain": [
              "     post_type                                               text\n",
              "0            3  ['หา', 'สัญญา', 'หอ', 'มจพ', 'ย้าย', 'ปลาย', '...\n",
              "1            1  ['ขาย', 'ตั๋วหนัง', 'black', 'panther', 'โรง',...\n",
              "2            1  ['กระโปรง', 'ศึกษา', 'เอว', '24', '28', 'เอว',...\n",
              "3            1  ['อนุญาต', 'ขาย', 'ขาย', 'ตู้', 'เย็น', 'Midea...\n",
              "4            1  ['XX', 'คน', 'เช่า', 'XX', 'อนุญาต', 'ประกาศ',...\n",
              "..         ...                                                ...\n",
              "891          3  ['สอบถาม', 'รุ่น', 'พี่', 'Itbl', 'การเรียนการ...\n",
              "892          3  ['สอบถาม', 'เรื่อง', 'ทุน', 'ศึกษา', 'คณะครุศา...\n",
              "893          1  ['ปล่อย', 'เช่า', 'แนะนำ', 'ห้อง', 'ว่าง', 'รา...\n",
              "894          0    ['เจอ', 'แฟ้ม', 'สนาม', 'ฟุตบอล', 'ฝาก', 'ยาม']\n",
              "895          1  ['อนุญาต', 'แอดมิน', 'ย้าย', 'หอ', 'ขน', 'สนใจ...\n",
              "\n",
              "[896 rows x 2 columns]"
            ]
          },
          "execution_count": 36,
          "metadata": {},
          "output_type": "execute_result"
        }
      ],
      "source": [
        "df2 = pd.read_csv('new_data.csv')\n",
        "df2"
      ]
    },
    {
      "cell_type": "markdown",
      "metadata": {
        "id": "5JIyARqQD2JV"
      },
      "source": [
        "APPEND 2 data frame"
      ]
    },
    {
      "cell_type": "code",
      "execution_count": 37,
      "metadata": {
        "colab": {
          "base_uri": "https://localhost:8080/"
        },
        "id": "JOUS-B9XTq-B",
        "outputId": "dbb4e9ea-7490-497c-bb57-30d50edc8907"
      },
      "outputs": [
        {
          "name": "stderr",
          "output_type": "stream",
          "text": [
            "C:\\Users\\Corgi\\AppData\\Local\\Temp\\ipykernel_2456\\3369879948.py:1: FutureWarning: The frame.append method is deprecated and will be removed from pandas in a future version. Use pandas.concat instead.\n",
            "  append_data = df2.append(df)\n"
          ]
        },
        {
          "data": {
            "text/plain": [
              "(948, 2)"
            ]
          },
          "execution_count": 37,
          "metadata": {},
          "output_type": "execute_result"
        }
      ],
      "source": [
        "append_data = df2.append(df)\n",
        "append_data.shape"
      ]
    },
    {
      "cell_type": "code",
      "execution_count": 38,
      "metadata": {
        "colab": {
          "base_uri": "https://localhost:8080/",
          "height": 424
        },
        "id": "6DXJAW1uClV2",
        "outputId": "b570ad41-da67-4226-f542-882ccd94256d"
      },
      "outputs": [
        {
          "data": {
            "text/html": [
              "<div>\n",
              "<style scoped>\n",
              "    .dataframe tbody tr th:only-of-type {\n",
              "        vertical-align: middle;\n",
              "    }\n",
              "\n",
              "    .dataframe tbody tr th {\n",
              "        vertical-align: top;\n",
              "    }\n",
              "\n",
              "    .dataframe thead th {\n",
              "        text-align: right;\n",
              "    }\n",
              "</style>\n",
              "<table border=\"1\" class=\"dataframe\">\n",
              "  <thead>\n",
              "    <tr style=\"text-align: right;\">\n",
              "      <th></th>\n",
              "      <th>post_type</th>\n",
              "      <th>text</th>\n",
              "    </tr>\n",
              "  </thead>\n",
              "  <tbody>\n",
              "    <tr>\n",
              "      <th>0</th>\n",
              "      <td>3</td>\n",
              "      <td>['หา', 'สัญญา', 'หอ', 'มจพ', 'ย้าย', 'ปลาย', '...</td>\n",
              "    </tr>\n",
              "    <tr>\n",
              "      <th>1</th>\n",
              "      <td>1</td>\n",
              "      <td>['ขาย', 'ตั๋วหนัง', 'black', 'panther', 'โรง',...</td>\n",
              "    </tr>\n",
              "    <tr>\n",
              "      <th>2</th>\n",
              "      <td>1</td>\n",
              "      <td>['กระโปรง', 'ศึกษา', 'เอว', '24', '28', 'เอว',...</td>\n",
              "    </tr>\n",
              "    <tr>\n",
              "      <th>3</th>\n",
              "      <td>1</td>\n",
              "      <td>['อนุญาต', 'ขาย', 'ขาย', 'ตู้', 'เย็น', 'Midea...</td>\n",
              "    </tr>\n",
              "    <tr>\n",
              "      <th>4</th>\n",
              "      <td>1</td>\n",
              "      <td>['XX', 'คน', 'เช่า', 'XX', 'อนุญาต', 'ประกาศ',...</td>\n",
              "    </tr>\n",
              "    <tr>\n",
              "      <th>...</th>\n",
              "      <td>...</td>\n",
              "      <td>...</td>\n",
              "    </tr>\n",
              "    <tr>\n",
              "      <th>50</th>\n",
              "      <td>0</td>\n",
              "      <td>['เจอ', 'กระเป๋า', 'รูป', 'ฝาก', 'ร้าน']</td>\n",
              "    </tr>\n",
              "    <tr>\n",
              "      <th>51</th>\n",
              "      <td>0</td>\n",
              "      <td>['พวง', 'กุญแจ', 'รถ', 'หล่น', 'สะพาน', 'เขียว...</td>\n",
              "    </tr>\n",
              "    <tr>\n",
              "      <th>52</th>\n",
              "      <td>0</td>\n",
              "      <td>['เจ้าของ', 'บัตร', 'ลืม', 'ติดต่อ', 'ร้านริมน...</td>\n",
              "    </tr>\n",
              "    <tr>\n",
              "      <th>53</th>\n",
              "      <td>0</td>\n",
              "      <td>['อนุญาต', 'ตามหา', 'แมว', 'หาย', 'น้อง', 'รบก...</td>\n",
              "    </tr>\n",
              "    <tr>\n",
              "      <th>54</th>\n",
              "      <td>0</td>\n",
              "      <td>['เจอ', 'แอพอ', 'ทตก', 'หน้า', 'ร้าน', 'ขาย', ...</td>\n",
              "    </tr>\n",
              "  </tbody>\n",
              "</table>\n",
              "<p>948 rows × 2 columns</p>\n",
              "</div>"
            ],
            "text/plain": [
              "    post_type                                               text\n",
              "0           3  ['หา', 'สัญญา', 'หอ', 'มจพ', 'ย้าย', 'ปลาย', '...\n",
              "1           1  ['ขาย', 'ตั๋วหนัง', 'black', 'panther', 'โรง',...\n",
              "2           1  ['กระโปรง', 'ศึกษา', 'เอว', '24', '28', 'เอว',...\n",
              "3           1  ['อนุญาต', 'ขาย', 'ขาย', 'ตู้', 'เย็น', 'Midea...\n",
              "4           1  ['XX', 'คน', 'เช่า', 'XX', 'อนุญาต', 'ประกาศ',...\n",
              "..        ...                                                ...\n",
              "50          0           ['เจอ', 'กระเป๋า', 'รูป', 'ฝาก', 'ร้าน']\n",
              "51          0  ['พวง', 'กุญแจ', 'รถ', 'หล่น', 'สะพาน', 'เขียว...\n",
              "52          0  ['เจ้าของ', 'บัตร', 'ลืม', 'ติดต่อ', 'ร้านริมน...\n",
              "53          0  ['อนุญาต', 'ตามหา', 'แมว', 'หาย', 'น้อง', 'รบก...\n",
              "54          0  ['เจอ', 'แอพอ', 'ทตก', 'หน้า', 'ร้าน', 'ขาย', ...\n",
              "\n",
              "[948 rows x 2 columns]"
            ]
          },
          "execution_count": 38,
          "metadata": {},
          "output_type": "execute_result"
        }
      ],
      "source": [
        "append_data"
      ]
    },
    {
      "attachments": {},
      "cell_type": "markdown",
      "metadata": {},
      "source": [
        "Drop duplicate before save"
      ]
    },
    {
      "cell_type": "code",
      "execution_count": 42,
      "metadata": {},
      "outputs": [
        {
          "name": "stdout",
          "output_type": "stream",
          "text": [
            "(948, 2)\n",
            "[3 1 0]\n"
          ]
        }
      ],
      "source": [
        "append_data.drop_duplicates(subset='text',keep='last', inplace=True,ignore_index = True)\n",
        "print(append_data.shape)\n",
        "print(append_data[\"post_type\"].unique())"
      ]
    },
    {
      "cell_type": "markdown",
      "metadata": {
        "id": "qVMDkIxOEEII"
      },
      "source": [
        "Save to csv "
      ]
    },
    {
      "cell_type": "code",
      "execution_count": 43,
      "metadata": {
        "id": "ULfxg-79Tp3m"
      },
      "outputs": [],
      "source": [
        "append_data.to_csv(\"new_data.csv\",index=False)"
      ]
    },
    {
      "cell_type": "code",
      "execution_count": null,
      "metadata": {
        "id": "VpoqCmK4ECmY"
      },
      "outputs": [],
      "source": []
    }
  ],
  "metadata": {
    "colab": {
      "provenance": []
    },
    "kernelspec": {
      "display_name": "Python 3",
      "language": "python",
      "name": "python3"
    },
    "language_info": {
      "codemirror_mode": {
        "name": "ipython",
        "version": 3
      },
      "file_extension": ".py",
      "mimetype": "text/x-python",
      "name": "python",
      "nbconvert_exporter": "python",
      "pygments_lexer": "ipython3",
      "version": "3.11.0"
    },
    "vscode": {
      "interpreter": {
        "hash": "5238573367df39f7286bb46f9ff5f08f63a01a80960060ce41e3c79b190280fa"
      }
    }
  },
  "nbformat": 4,
  "nbformat_minor": 0
}
