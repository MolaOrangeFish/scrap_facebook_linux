{
  "cells": [
    {
      "cell_type": "markdown",
      "metadata": {
        "id": "M82hDRqjEGxL"
      },
      "source": [
        "Add first csv"
      ]
    },
    {
      "cell_type": "code",
      "execution_count": 1,
      "metadata": {
        "colab": {
          "base_uri": "https://localhost:8080/",
          "height": 424
        },
        "id": "BqMuVFxwSULn",
        "outputId": "09688693-6e88-4b71-9d34-46fc6820c85e"
      },
      "outputs": [
        {
          "data": {
            "text/html": [
              "<div>\n",
              "<style scoped>\n",
              "    .dataframe tbody tr th:only-of-type {\n",
              "        vertical-align: middle;\n",
              "    }\n",
              "\n",
              "    .dataframe tbody tr th {\n",
              "        vertical-align: top;\n",
              "    }\n",
              "\n",
              "    .dataframe thead th {\n",
              "        text-align: right;\n",
              "    }\n",
              "</style>\n",
              "<table border=\"1\" class=\"dataframe\">\n",
              "  <thead>\n",
              "    <tr style=\"text-align: right;\">\n",
              "      <th></th>\n",
              "      <th>date_time</th>\n",
              "      <th>username</th>\n",
              "      <th>user_id</th>\n",
              "      <th>text</th>\n",
              "      <th>post_type</th>\n",
              "      <th>image</th>\n",
              "    </tr>\n",
              "  </thead>\n",
              "  <tbody>\n",
              "    <tr>\n",
              "      <th>0</th>\n",
              "      <td>2020-05-10 16:38:42</td>\n",
              "      <td>F'teen Flukey'p</td>\n",
              "      <td>100008420610299</td>\n",
              "      <td>['อัพเดท', '01082022', 'แผนที่', 'เดิม', 'ลอง'...</td>\n",
              "      <td>mumu</td>\n",
              "      <td>['https://m.facebook.com/photo/view_full_size/...</td>\n",
              "    </tr>\n",
              "    <tr>\n",
              "      <th>1</th>\n",
              "      <td>2023-01-25 23:17:00</td>\n",
              "      <td>Kittisak Deeging</td>\n",
              "      <td>1086698072</td>\n",
              "      <td>['ห้อง', 'ผม', 'ฝาก', 'แชร์', 'ประกาศ', 'เช่า'...</td>\n",
              "      <td>ประกาศซื้อขาย</td>\n",
              "      <td>['https://m.facebook.com/photo/view_full_size/...</td>\n",
              "    </tr>\n",
              "    <tr>\n",
              "      <th>2</th>\n",
              "      <td>2023-01-11 16:51:09</td>\n",
              "      <td>Jinjutha Sithornkul</td>\n",
              "      <td>100013709179161</td>\n",
              "      <td>['ขาย', 'สาย', 'ชาร์จไอโฟน', 'usb', 'c', 'ligh...</td>\n",
              "      <td>ประกาศซื้อขาย</td>\n",
              "      <td>['https://m.facebook.com/photo/view_full_size/...</td>\n",
              "    </tr>\n",
              "    <tr>\n",
              "      <th>3</th>\n",
              "      <td>2023-02-01 17:11:33</td>\n",
              "      <td>Panuvit Temjai</td>\n",
              "      <td>100081157561233</td>\n",
              "      <td>['พบเห็น', 'airpod', 'pro', 'หาย', 'ตึก', '82'...</td>\n",
              "      <td>ประกาศของหาย</td>\n",
              "      <td>['https://m.facebook.com/photo/view_full_size/...</td>\n",
              "    </tr>\n",
              "    <tr>\n",
              "      <th>4</th>\n",
              "      <td>2023-01-31 11:55:47</td>\n",
              "      <td>KMUTNB Community</td>\n",
              "      <td>3471662709756839</td>\n",
              "      <td>['สอบถาม', 'พี่', 'ติด', 'IEE', 'วิศวะ', 'PnET...</td>\n",
              "      <td>mumu</td>\n",
              "      <td>[]</td>\n",
              "    </tr>\n",
              "  </tbody>\n",
              "</table>\n",
              "</div>"
            ],
            "text/plain": [
              "             date_time             username           user_id  \\\n",
              "0  2020-05-10 16:38:42      F'teen Flukey'p   100008420610299   \n",
              "1  2023-01-25 23:17:00     Kittisak Deeging        1086698072   \n",
              "2  2023-01-11 16:51:09  Jinjutha Sithornkul   100013709179161   \n",
              "3  2023-02-01 17:11:33       Panuvit Temjai   100081157561233   \n",
              "4  2023-01-31 11:55:47     KMUTNB Community  3471662709756839   \n",
              "\n",
              "                                                text      post_type  \\\n",
              "0  ['อัพเดท', '01082022', 'แผนที่', 'เดิม', 'ลอง'...           mumu   \n",
              "1  ['ห้อง', 'ผม', 'ฝาก', 'แชร์', 'ประกาศ', 'เช่า'...  ประกาศซื้อขาย   \n",
              "2  ['ขาย', 'สาย', 'ชาร์จไอโฟน', 'usb', 'c', 'ligh...  ประกาศซื้อขาย   \n",
              "3  ['พบเห็น', 'airpod', 'pro', 'หาย', 'ตึก', '82'...   ประกาศของหาย   \n",
              "4  ['สอบถาม', 'พี่', 'ติด', 'IEE', 'วิศวะ', 'PnET...           mumu   \n",
              "\n",
              "                                               image  \n",
              "0  ['https://m.facebook.com/photo/view_full_size/...  \n",
              "1  ['https://m.facebook.com/photo/view_full_size/...  \n",
              "2  ['https://m.facebook.com/photo/view_full_size/...  \n",
              "3  ['https://m.facebook.com/photo/view_full_size/...  \n",
              "4                                                 []  "
            ]
          },
          "execution_count": 1,
          "metadata": {},
          "output_type": "execute_result"
        }
      ],
      "source": [
        "import pandas as pd\n",
        "\n",
        "df = pd.read_csv('csv/temp_scapping_data.csv')\n",
        "df.head()"
      ]
    },
    {
      "cell_type": "markdown",
      "metadata": {
        "id": "FmrHF1aVEKBw"
      },
      "source": [
        "Drop duplicate"
      ]
    },
    {
      "cell_type": "code",
      "execution_count": 2,
      "metadata": {
        "colab": {
          "base_uri": "https://localhost:8080/"
        },
        "id": "0LcKA-efAdEr",
        "outputId": "cb332cf4-adc9-414a-c097-3d03e16737f4"
      },
      "outputs": [
        {
          "data": {
            "text/plain": [
              "(532, 6)"
            ]
          },
          "execution_count": 2,
          "metadata": {},
          "output_type": "execute_result"
        }
      ],
      "source": [
        "df.drop_duplicates(subset='text',keep='first', inplace=True)\n",
        "df.shape"
      ]
    },
    {
      "cell_type": "markdown",
      "metadata": {
        "id": "nase1KG7ELi_"
      },
      "source": [
        "Check post_type unique"
      ]
    },
    {
      "cell_type": "code",
      "execution_count": 3,
      "metadata": {
        "colab": {
          "base_uri": "https://localhost:8080/"
        },
        "id": "qwFyeHQmBHhd",
        "outputId": "fc9482f5-90c6-424f-e1e9-2555562812ae"
      },
      "outputs": [
        {
          "data": {
            "text/plain": [
              "array(['mumu', 'ประกาศซื้อขาย', 'ประกาศของหาย', 'post_type'], dtype=object)"
            ]
          },
          "execution_count": 3,
          "metadata": {},
          "output_type": "execute_result"
        }
      ],
      "source": [
        "df['post_type'].unique()"
      ]
    },
    {
      "cell_type": "markdown",
      "metadata": {
        "id": "9d-d3yQGEN3V"
      },
      "source": [
        "replace the unique"
      ]
    },
    {
      "cell_type": "code",
      "execution_count": 4,
      "metadata": {
        "id": "zOu9RuwMBW9K"
      },
      "outputs": [],
      "source": [
        "df = df.replace({'mumu':2, 'ประกาศซื้อขาย':1, 'ประกาศของหาย':0})"
      ]
    },
    {
      "cell_type": "code",
      "execution_count": 5,
      "metadata": {
        "colab": {
          "base_uri": "https://localhost:8080/"
        },
        "id": "nw3lHUVtBr_K",
        "outputId": "782bf748-acd4-4fa1-b6a3-370539f6c856"
      },
      "outputs": [
        {
          "data": {
            "text/plain": [
              "array([2, 1, 0, 'post_type'], dtype=object)"
            ]
          },
          "execution_count": 5,
          "metadata": {},
          "output_type": "execute_result"
        }
      ],
      "source": [
        "df['post_type'].unique()\n"
      ]
    },
    {
      "cell_type": "markdown",
      "metadata": {
        "id": "Od9zB3SoEPxv"
      },
      "source": [
        "Drop unwanted data"
      ]
    },
    {
      "cell_type": "code",
      "execution_count": 6,
      "metadata": {
        "colab": {
          "base_uri": "https://localhost:8080/",
          "height": 424
        },
        "id": "oc_kC8DWStjo",
        "outputId": "996012f1-6686-4093-fe99-8194b50f5aa6"
      },
      "outputs": [
        {
          "data": {
            "text/html": [
              "<div>\n",
              "<style scoped>\n",
              "    .dataframe tbody tr th:only-of-type {\n",
              "        vertical-align: middle;\n",
              "    }\n",
              "\n",
              "    .dataframe tbody tr th {\n",
              "        vertical-align: top;\n",
              "    }\n",
              "\n",
              "    .dataframe thead th {\n",
              "        text-align: right;\n",
              "    }\n",
              "</style>\n",
              "<table border=\"1\" class=\"dataframe\">\n",
              "  <thead>\n",
              "    <tr style=\"text-align: right;\">\n",
              "      <th></th>\n",
              "      <th>text</th>\n",
              "      <th>post_type</th>\n",
              "    </tr>\n",
              "  </thead>\n",
              "  <tbody>\n",
              "    <tr>\n",
              "      <th>0</th>\n",
              "      <td>['อัพเดท', '01082022', 'แผนที่', 'เดิม', 'ลอง'...</td>\n",
              "      <td>2</td>\n",
              "    </tr>\n",
              "    <tr>\n",
              "      <th>1</th>\n",
              "      <td>['ห้อง', 'ผม', 'ฝาก', 'แชร์', 'ประกาศ', 'เช่า'...</td>\n",
              "      <td>1</td>\n",
              "    </tr>\n",
              "    <tr>\n",
              "      <th>2</th>\n",
              "      <td>['ขาย', 'สาย', 'ชาร์จไอโฟน', 'usb', 'c', 'ligh...</td>\n",
              "      <td>1</td>\n",
              "    </tr>\n",
              "    <tr>\n",
              "      <th>3</th>\n",
              "      <td>['พบเห็น', 'airpod', 'pro', 'หาย', 'ตึก', '82'...</td>\n",
              "      <td>0</td>\n",
              "    </tr>\n",
              "    <tr>\n",
              "      <th>4</th>\n",
              "      <td>['สอบถาม', 'พี่', 'ติด', 'IEE', 'วิศวะ', 'PnET...</td>\n",
              "      <td>2</td>\n",
              "    </tr>\n",
              "    <tr>\n",
              "      <th>...</th>\n",
              "      <td>...</td>\n",
              "      <td>...</td>\n",
              "    </tr>\n",
              "    <tr>\n",
              "      <th>3267</th>\n",
              "      <td>['ขาย', 'สัญญา', 'S9', 'Residence', 'ชั้น', '9...</td>\n",
              "      <td>1</td>\n",
              "    </tr>\n",
              "    <tr>\n",
              "      <th>3268</th>\n",
              "      <td>['แนว', 'ข้อ', 'สอบ', 'รอบ', 'สอบตรง', 'สำหรับ...</td>\n",
              "      <td>2</td>\n",
              "    </tr>\n",
              "    <tr>\n",
              "      <th>3269</th>\n",
              "      <td>['คน', 'ลืม', 'ศาลยีราฟ', 'ฝาก', 'ร้าน', 'ถ่าย...</td>\n",
              "      <td>0</td>\n",
              "    </tr>\n",
              "    <tr>\n",
              "      <th>3270</th>\n",
              "      <td>['พี่', 'คน', 'รอบ', '2', 'สอบ', 'ข้อ', 'แนะนำ...</td>\n",
              "      <td>2</td>\n",
              "    </tr>\n",
              "    <tr>\n",
              "      <th>3271</th>\n",
              "      <td>['รบกวน', 'แนวทาง', 'สอบ', 'ข้อ', 'รอบ', '2', ...</td>\n",
              "      <td>2</td>\n",
              "    </tr>\n",
              "  </tbody>\n",
              "</table>\n",
              "<p>532 rows × 2 columns</p>\n",
              "</div>"
            ],
            "text/plain": [
              "                                                   text post_type\n",
              "0     ['อัพเดท', '01082022', 'แผนที่', 'เดิม', 'ลอง'...         2\n",
              "1     ['ห้อง', 'ผม', 'ฝาก', 'แชร์', 'ประกาศ', 'เช่า'...         1\n",
              "2     ['ขาย', 'สาย', 'ชาร์จไอโฟน', 'usb', 'c', 'ligh...         1\n",
              "3     ['พบเห็น', 'airpod', 'pro', 'หาย', 'ตึก', '82'...         0\n",
              "4     ['สอบถาม', 'พี่', 'ติด', 'IEE', 'วิศวะ', 'PnET...         2\n",
              "...                                                 ...       ...\n",
              "3267  ['ขาย', 'สัญญา', 'S9', 'Residence', 'ชั้น', '9...         1\n",
              "3268  ['แนว', 'ข้อ', 'สอบ', 'รอบ', 'สอบตรง', 'สำหรับ...         2\n",
              "3269  ['คน', 'ลืม', 'ศาลยีราฟ', 'ฝาก', 'ร้าน', 'ถ่าย...         0\n",
              "3270  ['พี่', 'คน', 'รอบ', '2', 'สอบ', 'ข้อ', 'แนะนำ...         2\n",
              "3271  ['รบกวน', 'แนวทาง', 'สอบ', 'ข้อ', 'รอบ', '2', ...         2\n",
              "\n",
              "[532 rows x 2 columns]"
            ]
          },
          "execution_count": 6,
          "metadata": {},
          "output_type": "execute_result"
        }
      ],
      "source": [
        "df.drop('username', inplace=True, axis=1)\n",
        "df.drop('user_id', inplace=True, axis=1)\n",
        "df.drop('image', inplace=True, axis=1)\n",
        "df.drop('date_time', inplace=True, axis=1)\n",
        "df\n"
      ]
    },
    {
      "attachments": {},
      "cell_type": "markdown",
      "metadata": {},
      "source": [
        "Check label"
      ]
    },
    {
      "cell_type": "code",
      "execution_count": 7,
      "metadata": {},
      "outputs": [],
      "source": [
        "df.to_csv(\"csv/check_label.csv\")"
      ]
    },
    {
      "attachments": {},
      "cell_type": "markdown",
      "metadata": {},
      "source": [
        "add checked csv"
      ]
    },
    {
      "cell_type": "code",
      "execution_count": 2,
      "metadata": {},
      "outputs": [
        {
          "data": {
            "text/html": [
              "<div>\n",
              "<style scoped>\n",
              "    .dataframe tbody tr th:only-of-type {\n",
              "        vertical-align: middle;\n",
              "    }\n",
              "\n",
              "    .dataframe tbody tr th {\n",
              "        vertical-align: top;\n",
              "    }\n",
              "\n",
              "    .dataframe thead th {\n",
              "        text-align: right;\n",
              "    }\n",
              "</style>\n",
              "<table border=\"1\" class=\"dataframe\">\n",
              "  <thead>\n",
              "    <tr style=\"text-align: right;\">\n",
              "      <th></th>\n",
              "      <th>text</th>\n",
              "      <th>post_type</th>\n",
              "    </tr>\n",
              "  </thead>\n",
              "  <tbody>\n",
              "    <tr>\n",
              "      <th>0</th>\n",
              "      <td>['อัพเดท', '01082022', 'แผนที่', 'เดิม', 'ลอง'...</td>\n",
              "      <td>2</td>\n",
              "    </tr>\n",
              "    <tr>\n",
              "      <th>1</th>\n",
              "      <td>['ห้อง', 'ผม', 'ฝาก', 'แชร์', 'ประกาศ', 'เช่า'...</td>\n",
              "      <td>1</td>\n",
              "    </tr>\n",
              "    <tr>\n",
              "      <th>2</th>\n",
              "      <td>['ขาย', 'สาย', 'ชาร์จไอโฟน', 'usb', 'c', 'ligh...</td>\n",
              "      <td>2</td>\n",
              "    </tr>\n",
              "    <tr>\n",
              "      <th>3</th>\n",
              "      <td>['พบเห็น', 'airpod', 'pro', 'หาย', 'ตึก', '82'...</td>\n",
              "      <td>0</td>\n",
              "    </tr>\n",
              "    <tr>\n",
              "      <th>4</th>\n",
              "      <td>['สอบถาม', 'พี่', 'ติด', 'IEE', 'วิศวะ', 'PnET...</td>\n",
              "      <td>2</td>\n",
              "    </tr>\n",
              "    <tr>\n",
              "      <th>...</th>\n",
              "      <td>...</td>\n",
              "      <td>...</td>\n",
              "    </tr>\n",
              "    <tr>\n",
              "      <th>3267</th>\n",
              "      <td>['ขาย', 'สัญญา', 'S9', 'Residence', 'ชั้น', '9...</td>\n",
              "      <td>1</td>\n",
              "    </tr>\n",
              "    <tr>\n",
              "      <th>3268</th>\n",
              "      <td>['แนว', 'ข้อ', 'สอบ', 'รอบ', 'สอบตรง', 'สำหรับ...</td>\n",
              "      <td>2</td>\n",
              "    </tr>\n",
              "    <tr>\n",
              "      <th>3269</th>\n",
              "      <td>['คน', 'ลืม', 'ศาลยีราฟ', 'ฝาก', 'ร้าน', 'ถ่าย...</td>\n",
              "      <td>0</td>\n",
              "    </tr>\n",
              "    <tr>\n",
              "      <th>3270</th>\n",
              "      <td>['พี่', 'คน', 'รอบ', '2', 'สอบ', 'ข้อ', 'แนะนำ...</td>\n",
              "      <td>2</td>\n",
              "    </tr>\n",
              "    <tr>\n",
              "      <th>3271</th>\n",
              "      <td>['รบกวน', 'แนวทาง', 'สอบ', 'ข้อ', 'รอบ', '2', ...</td>\n",
              "      <td>2</td>\n",
              "    </tr>\n",
              "  </tbody>\n",
              "</table>\n",
              "<p>531 rows × 2 columns</p>\n",
              "</div>"
            ],
            "text/plain": [
              "                                                   text  post_type\n",
              "0     ['อัพเดท', '01082022', 'แผนที่', 'เดิม', 'ลอง'...          2\n",
              "1     ['ห้อง', 'ผม', 'ฝาก', 'แชร์', 'ประกาศ', 'เช่า'...          1\n",
              "2     ['ขาย', 'สาย', 'ชาร์จไอโฟน', 'usb', 'c', 'ligh...          2\n",
              "3     ['พบเห็น', 'airpod', 'pro', 'หาย', 'ตึก', '82'...          0\n",
              "4     ['สอบถาม', 'พี่', 'ติด', 'IEE', 'วิศวะ', 'PnET...          2\n",
              "...                                                 ...        ...\n",
              "3267  ['ขาย', 'สัญญา', 'S9', 'Residence', 'ชั้น', '9...          1\n",
              "3268  ['แนว', 'ข้อ', 'สอบ', 'รอบ', 'สอบตรง', 'สำหรับ...          2\n",
              "3269  ['คน', 'ลืม', 'ศาลยีราฟ', 'ฝาก', 'ร้าน', 'ถ่าย...          0\n",
              "3270  ['พี่', 'คน', 'รอบ', '2', 'สอบ', 'ข้อ', 'แนะนำ...          2\n",
              "3271  ['รบกวน', 'แนวทาง', 'สอบ', 'ข้อ', 'รอบ', '2', ...          2\n",
              "\n",
              "[531 rows x 2 columns]"
            ]
          },
          "execution_count": 2,
          "metadata": {},
          "output_type": "execute_result"
        }
      ],
      "source": [
        "df = pd.read_csv('csv/check_label.csv', index_col=0)\n",
        "df"
      ]
    },
    {
      "cell_type": "markdown",
      "metadata": {
        "id": "JPOE14LKCbzi"
      },
      "source": [
        "-------------------------------------------"
      ]
    },
    {
      "cell_type": "markdown",
      "metadata": {
        "id": "wj7C3_rQD5Fj"
      },
      "source": [
        "Add second data frame"
      ]
    },
    {
      "cell_type": "code",
      "execution_count": 3,
      "metadata": {
        "colab": {
          "base_uri": "https://localhost:8080/",
          "height": 424
        },
        "id": "D0ISEsSRCbX7",
        "outputId": "369866db-9f02-41bb-8824-d02cd7e78769"
      },
      "outputs": [
        {
          "data": {
            "text/html": [
              "<div>\n",
              "<style scoped>\n",
              "    .dataframe tbody tr th:only-of-type {\n",
              "        vertical-align: middle;\n",
              "    }\n",
              "\n",
              "    .dataframe tbody tr th {\n",
              "        vertical-align: top;\n",
              "    }\n",
              "\n",
              "    .dataframe thead th {\n",
              "        text-align: right;\n",
              "    }\n",
              "</style>\n",
              "<table border=\"1\" class=\"dataframe\">\n",
              "  <thead>\n",
              "    <tr style=\"text-align: right;\">\n",
              "      <th></th>\n",
              "      <th>post_type</th>\n",
              "      <th>text</th>\n",
              "    </tr>\n",
              "  </thead>\n",
              "  <tbody>\n",
              "    <tr>\n",
              "      <th>0</th>\n",
              "      <td>2</td>\n",
              "      <td>['หา', 'สัญญา', 'หอ', 'มจพ', 'ย้าย', 'ปลาย', '...</td>\n",
              "    </tr>\n",
              "    <tr>\n",
              "      <th>1</th>\n",
              "      <td>1</td>\n",
              "      <td>['ขาย', 'ตั๋วหนัง', 'black', 'panther', 'โรง',...</td>\n",
              "    </tr>\n",
              "    <tr>\n",
              "      <th>2</th>\n",
              "      <td>1</td>\n",
              "      <td>['อนุญาต', 'ขาย', 'ขาย', 'ตู้', 'เย็น', 'Midea...</td>\n",
              "    </tr>\n",
              "    <tr>\n",
              "      <th>3</th>\n",
              "      <td>1</td>\n",
              "      <td>['XX', 'คน', 'เช่า', 'XX', 'อนุญาต', 'ประกาศ',...</td>\n",
              "    </tr>\n",
              "    <tr>\n",
              "      <th>4</th>\n",
              "      <td>1</td>\n",
              "      <td>['ขาย', 'สัญญา', 'หอ', 'หมู่บ้าน', 'สิ', 'ริน'...</td>\n",
              "    </tr>\n",
              "    <tr>\n",
              "      <th>...</th>\n",
              "      <td>...</td>\n",
              "      <td>...</td>\n",
              "    </tr>\n",
              "    <tr>\n",
              "      <th>1404</th>\n",
              "      <td>2</td>\n",
              "      <td>['แนว', 'ข้อ', 'สอบ', 'รอบ', 'สอบตรง', 'สำหรับ...</td>\n",
              "    </tr>\n",
              "    <tr>\n",
              "      <th>1405</th>\n",
              "      <td>0</td>\n",
              "      <td>['คน', 'ลืม', 'ศาลยีราฟ', 'ฝาก', 'ร้าน', 'ถ่าย...</td>\n",
              "    </tr>\n",
              "    <tr>\n",
              "      <th>1406</th>\n",
              "      <td>2</td>\n",
              "      <td>['พี่', 'คน', 'รอบ', '2', 'สอบ', 'ข้อ', 'แนะนำ...</td>\n",
              "    </tr>\n",
              "    <tr>\n",
              "      <th>1407</th>\n",
              "      <td>2</td>\n",
              "      <td>['รบกวน', 'แนวทาง', 'สอบ', 'ข้อ', 'รอบ', '2', ...</td>\n",
              "    </tr>\n",
              "    <tr>\n",
              "      <th>1408</th>\n",
              "      <td>0</td>\n",
              "      <td>['คน', 'ทำ', 'กุญแจ', 'ตก', 'เวที', 'สวน', 'ปา...</td>\n",
              "    </tr>\n",
              "  </tbody>\n",
              "</table>\n",
              "<p>1409 rows × 2 columns</p>\n",
              "</div>"
            ],
            "text/plain": [
              "      post_type                                               text\n",
              "0             2  ['หา', 'สัญญา', 'หอ', 'มจพ', 'ย้าย', 'ปลาย', '...\n",
              "1             1  ['ขาย', 'ตั๋วหนัง', 'black', 'panther', 'โรง',...\n",
              "2             1  ['อนุญาต', 'ขาย', 'ขาย', 'ตู้', 'เย็น', 'Midea...\n",
              "3             1  ['XX', 'คน', 'เช่า', 'XX', 'อนุญาต', 'ประกาศ',...\n",
              "4             1  ['ขาย', 'สัญญา', 'หอ', 'หมู่บ้าน', 'สิ', 'ริน'...\n",
              "...         ...                                                ...\n",
              "1404          2  ['แนว', 'ข้อ', 'สอบ', 'รอบ', 'สอบตรง', 'สำหรับ...\n",
              "1405          0  ['คน', 'ลืม', 'ศาลยีราฟ', 'ฝาก', 'ร้าน', 'ถ่าย...\n",
              "1406          2  ['พี่', 'คน', 'รอบ', '2', 'สอบ', 'ข้อ', 'แนะนำ...\n",
              "1407          2  ['รบกวน', 'แนวทาง', 'สอบ', 'ข้อ', 'รอบ', '2', ...\n",
              "1408          0  ['คน', 'ทำ', 'กุญแจ', 'ตก', 'เวที', 'สวน', 'ปา...\n",
              "\n",
              "[1409 rows x 2 columns]"
            ]
          },
          "execution_count": 3,
          "metadata": {},
          "output_type": "execute_result"
        }
      ],
      "source": [
        "df2 = pd.read_csv('csv/new_data.csv')\n",
        "df2"
      ]
    },
    {
      "cell_type": "markdown",
      "metadata": {
        "id": "5JIyARqQD2JV"
      },
      "source": [
        "APPEND 2 data frame"
      ]
    },
    {
      "cell_type": "code",
      "execution_count": 4,
      "metadata": {
        "colab": {
          "base_uri": "https://localhost:8080/"
        },
        "id": "JOUS-B9XTq-B",
        "outputId": "dbb4e9ea-7490-497c-bb57-30d50edc8907"
      },
      "outputs": [
        {
          "name": "stderr",
          "output_type": "stream",
          "text": [
            "C:\\Users\\Corgi\\AppData\\Local\\Temp\\ipykernel_23948\\3369879948.py:1: FutureWarning: The frame.append method is deprecated and will be removed from pandas in a future version. Use pandas.concat instead.\n",
            "  append_data = df2.append(df)\n"
          ]
        },
        {
          "data": {
            "text/plain": [
              "(1940, 2)"
            ]
          },
          "execution_count": 4,
          "metadata": {},
          "output_type": "execute_result"
        }
      ],
      "source": [
        "append_data = df2.append(df)\n",
        "append_data.shape"
      ]
    },
    {
      "cell_type": "code",
      "execution_count": 5,
      "metadata": {
        "colab": {
          "base_uri": "https://localhost:8080/",
          "height": 424
        },
        "id": "6DXJAW1uClV2",
        "outputId": "b570ad41-da67-4226-f542-882ccd94256d"
      },
      "outputs": [
        {
          "data": {
            "text/html": [
              "<div>\n",
              "<style scoped>\n",
              "    .dataframe tbody tr th:only-of-type {\n",
              "        vertical-align: middle;\n",
              "    }\n",
              "\n",
              "    .dataframe tbody tr th {\n",
              "        vertical-align: top;\n",
              "    }\n",
              "\n",
              "    .dataframe thead th {\n",
              "        text-align: right;\n",
              "    }\n",
              "</style>\n",
              "<table border=\"1\" class=\"dataframe\">\n",
              "  <thead>\n",
              "    <tr style=\"text-align: right;\">\n",
              "      <th></th>\n",
              "      <th>post_type</th>\n",
              "      <th>text</th>\n",
              "    </tr>\n",
              "  </thead>\n",
              "  <tbody>\n",
              "    <tr>\n",
              "      <th>0</th>\n",
              "      <td>2</td>\n",
              "      <td>['หา', 'สัญญา', 'หอ', 'มจพ', 'ย้าย', 'ปลาย', '...</td>\n",
              "    </tr>\n",
              "    <tr>\n",
              "      <th>1</th>\n",
              "      <td>1</td>\n",
              "      <td>['ขาย', 'ตั๋วหนัง', 'black', 'panther', 'โรง',...</td>\n",
              "    </tr>\n",
              "    <tr>\n",
              "      <th>2</th>\n",
              "      <td>1</td>\n",
              "      <td>['อนุญาต', 'ขาย', 'ขาย', 'ตู้', 'เย็น', 'Midea...</td>\n",
              "    </tr>\n",
              "    <tr>\n",
              "      <th>3</th>\n",
              "      <td>1</td>\n",
              "      <td>['XX', 'คน', 'เช่า', 'XX', 'อนุญาต', 'ประกาศ',...</td>\n",
              "    </tr>\n",
              "    <tr>\n",
              "      <th>4</th>\n",
              "      <td>1</td>\n",
              "      <td>['ขาย', 'สัญญา', 'หอ', 'หมู่บ้าน', 'สิ', 'ริน'...</td>\n",
              "    </tr>\n",
              "    <tr>\n",
              "      <th>...</th>\n",
              "      <td>...</td>\n",
              "      <td>...</td>\n",
              "    </tr>\n",
              "    <tr>\n",
              "      <th>3267</th>\n",
              "      <td>1</td>\n",
              "      <td>['ขาย', 'สัญญา', 'S9', 'Residence', 'ชั้น', '9...</td>\n",
              "    </tr>\n",
              "    <tr>\n",
              "      <th>3268</th>\n",
              "      <td>2</td>\n",
              "      <td>['แนว', 'ข้อ', 'สอบ', 'รอบ', 'สอบตรง', 'สำหรับ...</td>\n",
              "    </tr>\n",
              "    <tr>\n",
              "      <th>3269</th>\n",
              "      <td>0</td>\n",
              "      <td>['คน', 'ลืม', 'ศาลยีราฟ', 'ฝาก', 'ร้าน', 'ถ่าย...</td>\n",
              "    </tr>\n",
              "    <tr>\n",
              "      <th>3270</th>\n",
              "      <td>2</td>\n",
              "      <td>['พี่', 'คน', 'รอบ', '2', 'สอบ', 'ข้อ', 'แนะนำ...</td>\n",
              "    </tr>\n",
              "    <tr>\n",
              "      <th>3271</th>\n",
              "      <td>2</td>\n",
              "      <td>['รบกวน', 'แนวทาง', 'สอบ', 'ข้อ', 'รอบ', '2', ...</td>\n",
              "    </tr>\n",
              "  </tbody>\n",
              "</table>\n",
              "<p>1940 rows × 2 columns</p>\n",
              "</div>"
            ],
            "text/plain": [
              "      post_type                                               text\n",
              "0             2  ['หา', 'สัญญา', 'หอ', 'มจพ', 'ย้าย', 'ปลาย', '...\n",
              "1             1  ['ขาย', 'ตั๋วหนัง', 'black', 'panther', 'โรง',...\n",
              "2             1  ['อนุญาต', 'ขาย', 'ขาย', 'ตู้', 'เย็น', 'Midea...\n",
              "3             1  ['XX', 'คน', 'เช่า', 'XX', 'อนุญาต', 'ประกาศ',...\n",
              "4             1  ['ขาย', 'สัญญา', 'หอ', 'หมู่บ้าน', 'สิ', 'ริน'...\n",
              "...         ...                                                ...\n",
              "3267          1  ['ขาย', 'สัญญา', 'S9', 'Residence', 'ชั้น', '9...\n",
              "3268          2  ['แนว', 'ข้อ', 'สอบ', 'รอบ', 'สอบตรง', 'สำหรับ...\n",
              "3269          0  ['คน', 'ลืม', 'ศาลยีราฟ', 'ฝาก', 'ร้าน', 'ถ่าย...\n",
              "3270          2  ['พี่', 'คน', 'รอบ', '2', 'สอบ', 'ข้อ', 'แนะนำ...\n",
              "3271          2  ['รบกวน', 'แนวทาง', 'สอบ', 'ข้อ', 'รอบ', '2', ...\n",
              "\n",
              "[1940 rows x 2 columns]"
            ]
          },
          "execution_count": 5,
          "metadata": {},
          "output_type": "execute_result"
        }
      ],
      "source": [
        "append_data"
      ]
    },
    {
      "attachments": {},
      "cell_type": "markdown",
      "metadata": {},
      "source": [
        "Drop duplicate before save"
      ]
    },
    {
      "cell_type": "code",
      "execution_count": 6,
      "metadata": {},
      "outputs": [
        {
          "name": "stdout",
          "output_type": "stream",
          "text": [
            "(1681, 2)\n",
            "[ 2  1  0 20]\n"
          ]
        }
      ],
      "source": [
        "append_data.drop_duplicates(subset='text',keep='last', inplace=True,ignore_index = True)\n",
        "print(append_data.shape)\n",
        "print(append_data[\"post_type\"].unique())"
      ]
    },
    {
      "cell_type": "markdown",
      "metadata": {
        "id": "qVMDkIxOEEII"
      },
      "source": [
        "Save to csv "
      ]
    },
    {
      "cell_type": "code",
      "execution_count": 7,
      "metadata": {
        "id": "ULfxg-79Tp3m"
      },
      "outputs": [],
      "source": [
        "append_data.to_csv(\"csv/new_data.csv\",index=False)"
      ]
    },
    {
      "cell_type": "code",
      "execution_count": null,
      "metadata": {
        "id": "VpoqCmK4ECmY"
      },
      "outputs": [],
      "source": []
    }
  ],
  "metadata": {
    "colab": {
      "provenance": []
    },
    "kernelspec": {
      "display_name": "Python 3",
      "language": "python",
      "name": "python3"
    },
    "language_info": {
      "codemirror_mode": {
        "name": "ipython",
        "version": 3
      },
      "file_extension": ".py",
      "mimetype": "text/x-python",
      "name": "python",
      "nbconvert_exporter": "python",
      "pygments_lexer": "ipython3",
      "version": "3.11.0"
    },
    "vscode": {
      "interpreter": {
        "hash": "5238573367df39f7286bb46f9ff5f08f63a01a80960060ce41e3c79b190280fa"
      }
    }
  },
  "nbformat": 4,
  "nbformat_minor": 0
}
