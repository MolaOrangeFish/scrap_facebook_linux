{
  "cells": [
    {
      "cell_type": "markdown",
      "metadata": {
        "id": "M82hDRqjEGxL"
      },
      "source": [
        "Add first csv"
      ]
    },
    {
      "cell_type": "code",
      "execution_count": 10,
      "metadata": {
        "colab": {
          "base_uri": "https://localhost:8080/",
          "height": 424
        },
        "id": "BqMuVFxwSULn",
        "outputId": "09688693-6e88-4b71-9d34-46fc6820c85e"
      },
      "outputs": [
        {
          "data": {
            "text/html": [
              "<div>\n",
              "<style scoped>\n",
              "    .dataframe tbody tr th:only-of-type {\n",
              "        vertical-align: middle;\n",
              "    }\n",
              "\n",
              "    .dataframe tbody tr th {\n",
              "        vertical-align: top;\n",
              "    }\n",
              "\n",
              "    .dataframe thead th {\n",
              "        text-align: right;\n",
              "    }\n",
              "</style>\n",
              "<table border=\"1\" class=\"dataframe\">\n",
              "  <thead>\n",
              "    <tr style=\"text-align: right;\">\n",
              "      <th></th>\n",
              "      <th>date_time</th>\n",
              "      <th>username</th>\n",
              "      <th>user_id</th>\n",
              "      <th>text</th>\n",
              "      <th>post_type</th>\n",
              "      <th>image</th>\n",
              "    </tr>\n",
              "  </thead>\n",
              "  <tbody>\n",
              "    <tr>\n",
              "      <th>0</th>\n",
              "      <td>2020-05-10 16:38:42</td>\n",
              "      <td>F'teen Flukey'p</td>\n",
              "      <td>100008420610299</td>\n",
              "      <td>['อัพเดท', '01082022', 'แผนที่', 'เดิม', 'ลอง'...</td>\n",
              "      <td>mumu</td>\n",
              "      <td>['https://m.facebook.com/photo/view_full_size/...</td>\n",
              "    </tr>\n",
              "    <tr>\n",
              "      <th>1</th>\n",
              "      <td>2023-01-17 18:59:20</td>\n",
              "      <td>KMUTNB Community</td>\n",
              "      <td>544869840823013</td>\n",
              "      <td>['สอบถาม', 'รู้', 'โดน', 'รีไทร์', 'ดู', 'เลข'...</td>\n",
              "      <td>mumu</td>\n",
              "      <td>[]</td>\n",
              "    </tr>\n",
              "    <tr>\n",
              "      <th>2</th>\n",
              "      <td>2023-01-17 19:19:07</td>\n",
              "      <td>GusLaws Madeline Tereza Filippe</td>\n",
              "      <td>100004143000484</td>\n",
              "      <td>['ไอแพด', 'ลืม', 'ห้อง', 'ปฏิบัติการ', 'ฟิสิกส...</td>\n",
              "      <td>ประกาศของหาย</td>\n",
              "      <td>['https://m.facebook.com/photo/view_full_size/...</td>\n",
              "    </tr>\n",
              "    <tr>\n",
              "      <th>3</th>\n",
              "      <td>2023-01-17 18:46:39</td>\n",
              "      <td>Palidao Khemkhan</td>\n",
              "      <td>100015352548863</td>\n",
              "      <td>['แนะนำ', 'สอบ', 'สัมภาษณ์', 'รุ่น', 'พี่', 'B...</td>\n",
              "      <td>mumu</td>\n",
              "      <td>[]</td>\n",
              "    </tr>\n",
              "    <tr>\n",
              "      <th>4</th>\n",
              "      <td>2023-01-17 17:56:28</td>\n",
              "      <td>KMUTNB Community</td>\n",
              "      <td>546297487462147</td>\n",
              "      <td>['แนะนำ', 'หนังสือ', 'อ่าน', 'สอบ', 'สอบ', 'วท...</td>\n",
              "      <td>mumu</td>\n",
              "      <td>[]</td>\n",
              "    </tr>\n",
              "    <tr>\n",
              "      <th>...</th>\n",
              "      <td>...</td>\n",
              "      <td>...</td>\n",
              "      <td>...</td>\n",
              "      <td>...</td>\n",
              "      <td>...</td>\n",
              "      <td>...</td>\n",
              "    </tr>\n",
              "    <tr>\n",
              "      <th>12643</th>\n",
              "      <td>2023-01-15 07:24:45</td>\n",
              "      <td>Thanachot Prasittankit</td>\n",
              "      <td>100009023302911</td>\n",
              "      <td>['บุญ', 'เบื้องหลัง', 'สุข', 'สำเร็จ', 'ชีวิต'...</td>\n",
              "      <td>mumu</td>\n",
              "      <td>['https://scontent.fbkk29-9.fna.fbcdn.net/v/t3...</td>\n",
              "    </tr>\n",
              "    <tr>\n",
              "      <th>12644</th>\n",
              "      <td>2023-01-14 23:11:35</td>\n",
              "      <td>ชุติกาญจน์ อ่อนอุ่น</td>\n",
              "      <td>100005272809815</td>\n",
              "      <td>['เจอ', 'กุญแจ', 'มอไซต์', 'xmax', 'สี', 'ดำ',...</td>\n",
              "      <td>ประกาศของหาย</td>\n",
              "      <td>[]</td>\n",
              "    </tr>\n",
              "    <tr>\n",
              "      <th>12645</th>\n",
              "      <td>2023-01-13 15:56:39</td>\n",
              "      <td>KMUTNB Community</td>\n",
              "      <td>440861364834082</td>\n",
              "      <td>['มอ', 'แมลง', 'ทอด', 'ขาย', 'กิน']</td>\n",
              "      <td>ประกาศซื้อขาย</td>\n",
              "      <td>[]</td>\n",
              "    </tr>\n",
              "    <tr>\n",
              "      <th>12646</th>\n",
              "      <td>2023-01-13 20:38:42</td>\n",
              "      <td>KMUTNB Community</td>\n",
              "      <td>720430206353669</td>\n",
              "      <td>['ผม', 'สอบถาม', 'พี่', 'สำหรับ', 'PnET', 'PE'...</td>\n",
              "      <td>mumu</td>\n",
              "      <td>[]</td>\n",
              "    </tr>\n",
              "    <tr>\n",
              "      <th>12647</th>\n",
              "      <td>2023-01-14 03:28:10</td>\n",
              "      <td>KMUTNB Community</td>\n",
              "      <td>1359561544847759</td>\n",
              "      <td>['อนุญาต', 'สอบถาม', 'แถว', 'มอเรา', 'คลินิก',...</td>\n",
              "      <td>mumu</td>\n",
              "      <td>[]</td>\n",
              "    </tr>\n",
              "  </tbody>\n",
              "</table>\n",
              "<p>12648 rows × 6 columns</p>\n",
              "</div>"
            ],
            "text/plain": [
              "                 date_time                         username           user_id  \\\n",
              "0      2020-05-10 16:38:42                  F'teen Flukey'p   100008420610299   \n",
              "1      2023-01-17 18:59:20                 KMUTNB Community   544869840823013   \n",
              "2      2023-01-17 19:19:07  GusLaws Madeline Tereza Filippe   100004143000484   \n",
              "3      2023-01-17 18:46:39                 Palidao Khemkhan   100015352548863   \n",
              "4      2023-01-17 17:56:28                 KMUTNB Community   546297487462147   \n",
              "...                    ...                              ...               ...   \n",
              "12643  2023-01-15 07:24:45           Thanachot Prasittankit   100009023302911   \n",
              "12644  2023-01-14 23:11:35              ชุติกาญจน์ อ่อนอุ่น   100005272809815   \n",
              "12645  2023-01-13 15:56:39                 KMUTNB Community   440861364834082   \n",
              "12646  2023-01-13 20:38:42                 KMUTNB Community   720430206353669   \n",
              "12647  2023-01-14 03:28:10                 KMUTNB Community  1359561544847759   \n",
              "\n",
              "                                                    text      post_type  \\\n",
              "0      ['อัพเดท', '01082022', 'แผนที่', 'เดิม', 'ลอง'...           mumu   \n",
              "1      ['สอบถาม', 'รู้', 'โดน', 'รีไทร์', 'ดู', 'เลข'...           mumu   \n",
              "2      ['ไอแพด', 'ลืม', 'ห้อง', 'ปฏิบัติการ', 'ฟิสิกส...   ประกาศของหาย   \n",
              "3      ['แนะนำ', 'สอบ', 'สัมภาษณ์', 'รุ่น', 'พี่', 'B...           mumu   \n",
              "4      ['แนะนำ', 'หนังสือ', 'อ่าน', 'สอบ', 'สอบ', 'วท...           mumu   \n",
              "...                                                  ...            ...   \n",
              "12643  ['บุญ', 'เบื้องหลัง', 'สุข', 'สำเร็จ', 'ชีวิต'...           mumu   \n",
              "12644  ['เจอ', 'กุญแจ', 'มอไซต์', 'xmax', 'สี', 'ดำ',...   ประกาศของหาย   \n",
              "12645                ['มอ', 'แมลง', 'ทอด', 'ขาย', 'กิน']  ประกาศซื้อขาย   \n",
              "12646  ['ผม', 'สอบถาม', 'พี่', 'สำหรับ', 'PnET', 'PE'...           mumu   \n",
              "12647  ['อนุญาต', 'สอบถาม', 'แถว', 'มอเรา', 'คลินิก',...           mumu   \n",
              "\n",
              "                                                   image  \n",
              "0      ['https://m.facebook.com/photo/view_full_size/...  \n",
              "1                                                     []  \n",
              "2      ['https://m.facebook.com/photo/view_full_size/...  \n",
              "3                                                     []  \n",
              "4                                                     []  \n",
              "...                                                  ...  \n",
              "12643  ['https://scontent.fbkk29-9.fna.fbcdn.net/v/t3...  \n",
              "12644                                                 []  \n",
              "12645                                                 []  \n",
              "12646                                                 []  \n",
              "12647                                                 []  \n",
              "\n",
              "[12648 rows x 6 columns]"
            ]
          },
          "execution_count": 10,
          "metadata": {},
          "output_type": "execute_result"
        }
      ],
      "source": [
        "import pandas as pd\n",
        "\n",
        "df = pd.read_csv('temp_scapping_data.csv')\n",
        "df"
      ]
    },
    {
      "cell_type": "markdown",
      "metadata": {
        "id": "FmrHF1aVEKBw"
      },
      "source": [
        "Drop duplicate"
      ]
    },
    {
      "cell_type": "code",
      "execution_count": 11,
      "metadata": {
        "colab": {
          "base_uri": "https://localhost:8080/"
        },
        "id": "0LcKA-efAdEr",
        "outputId": "cb332cf4-adc9-414a-c097-3d03e16737f4"
      },
      "outputs": [
        {
          "data": {
            "text/plain": [
              "(93, 6)"
            ]
          },
          "execution_count": 11,
          "metadata": {},
          "output_type": "execute_result"
        }
      ],
      "source": [
        "df.drop_duplicates(keep='first', inplace=True)\n",
        "df.shape"
      ]
    },
    {
      "cell_type": "markdown",
      "metadata": {
        "id": "nase1KG7ELi_"
      },
      "source": [
        "Check post_type unique"
      ]
    },
    {
      "cell_type": "code",
      "execution_count": 12,
      "metadata": {
        "colab": {
          "base_uri": "https://localhost:8080/"
        },
        "id": "qwFyeHQmBHhd",
        "outputId": "fc9482f5-90c6-424f-e1e9-2555562812ae"
      },
      "outputs": [
        {
          "data": {
            "text/plain": [
              "array(['mumu', 'ประกาศของหาย', 'ประกาศซื้อขาย'], dtype=object)"
            ]
          },
          "execution_count": 12,
          "metadata": {},
          "output_type": "execute_result"
        }
      ],
      "source": [
        "df['post_type'].unique()"
      ]
    },
    {
      "cell_type": "markdown",
      "metadata": {
        "id": "9d-d3yQGEN3V"
      },
      "source": [
        "replace the unique"
      ]
    },
    {
      "cell_type": "code",
      "execution_count": 13,
      "metadata": {
        "id": "zOu9RuwMBW9K"
      },
      "outputs": [],
      "source": [
        "df = df.replace({'mumu':3, 'ประกาศซื้อขาย':1, 'ประกาศของหาย':0})"
      ]
    },
    {
      "cell_type": "code",
      "execution_count": 14,
      "metadata": {
        "colab": {
          "base_uri": "https://localhost:8080/"
        },
        "id": "nw3lHUVtBr_K",
        "outputId": "782bf748-acd4-4fa1-b6a3-370539f6c856"
      },
      "outputs": [
        {
          "data": {
            "text/plain": [
              "array([3, 0, 1], dtype=int64)"
            ]
          },
          "execution_count": 14,
          "metadata": {},
          "output_type": "execute_result"
        }
      ],
      "source": [
        "df['post_type'].unique()\n"
      ]
    },
    {
      "cell_type": "markdown",
      "metadata": {
        "id": "Od9zB3SoEPxv"
      },
      "source": [
        "Drop unwanted data"
      ]
    },
    {
      "cell_type": "code",
      "execution_count": 15,
      "metadata": {
        "colab": {
          "base_uri": "https://localhost:8080/",
          "height": 424
        },
        "id": "oc_kC8DWStjo",
        "outputId": "996012f1-6686-4093-fe99-8194b50f5aa6"
      },
      "outputs": [
        {
          "data": {
            "text/html": [
              "<div>\n",
              "<style scoped>\n",
              "    .dataframe tbody tr th:only-of-type {\n",
              "        vertical-align: middle;\n",
              "    }\n",
              "\n",
              "    .dataframe tbody tr th {\n",
              "        vertical-align: top;\n",
              "    }\n",
              "\n",
              "    .dataframe thead th {\n",
              "        text-align: right;\n",
              "    }\n",
              "</style>\n",
              "<table border=\"1\" class=\"dataframe\">\n",
              "  <thead>\n",
              "    <tr style=\"text-align: right;\">\n",
              "      <th></th>\n",
              "      <th>text</th>\n",
              "      <th>post_type</th>\n",
              "    </tr>\n",
              "  </thead>\n",
              "  <tbody>\n",
              "    <tr>\n",
              "      <th>0</th>\n",
              "      <td>['อัพเดท', '01082022', 'แผนที่', 'เดิม', 'ลอง'...</td>\n",
              "      <td>3</td>\n",
              "    </tr>\n",
              "    <tr>\n",
              "      <th>1</th>\n",
              "      <td>['สอบถาม', 'รู้', 'โดน', 'รีไทร์', 'ดู', 'เลข'...</td>\n",
              "      <td>3</td>\n",
              "    </tr>\n",
              "    <tr>\n",
              "      <th>2</th>\n",
              "      <td>['ไอแพด', 'ลืม', 'ห้อง', 'ปฏิบัติการ', 'ฟิสิกส...</td>\n",
              "      <td>0</td>\n",
              "    </tr>\n",
              "    <tr>\n",
              "      <th>3</th>\n",
              "      <td>['แนะนำ', 'สอบ', 'สัมภาษณ์', 'รุ่น', 'พี่', 'B...</td>\n",
              "      <td>3</td>\n",
              "    </tr>\n",
              "    <tr>\n",
              "      <th>4</th>\n",
              "      <td>['แนะนำ', 'หนังสือ', 'อ่าน', 'สอบ', 'สอบ', 'วท...</td>\n",
              "      <td>3</td>\n",
              "    </tr>\n",
              "    <tr>\n",
              "      <th>...</th>\n",
              "      <td>...</td>\n",
              "      <td>...</td>\n",
              "    </tr>\n",
              "    <tr>\n",
              "      <th>88</th>\n",
              "      <td>['บุญ', 'เบื้องหลัง', 'สุข', 'สำเร็จ', 'ชีวิต'...</td>\n",
              "      <td>3</td>\n",
              "    </tr>\n",
              "    <tr>\n",
              "      <th>89</th>\n",
              "      <td>['เจอ', 'กุญแจ', 'มอไซต์', 'xmax', 'สี', 'ดำ',...</td>\n",
              "      <td>0</td>\n",
              "    </tr>\n",
              "    <tr>\n",
              "      <th>90</th>\n",
              "      <td>['มอ', 'แมลง', 'ทอด', 'ขาย', 'กิน']</td>\n",
              "      <td>1</td>\n",
              "    </tr>\n",
              "    <tr>\n",
              "      <th>91</th>\n",
              "      <td>['ผม', 'สอบถาม', 'พี่', 'สำหรับ', 'PnET', 'PE'...</td>\n",
              "      <td>3</td>\n",
              "    </tr>\n",
              "    <tr>\n",
              "      <th>92</th>\n",
              "      <td>['อนุญาต', 'สอบถาม', 'แถว', 'มอเรา', 'คลินิก',...</td>\n",
              "      <td>3</td>\n",
              "    </tr>\n",
              "  </tbody>\n",
              "</table>\n",
              "<p>93 rows × 2 columns</p>\n",
              "</div>"
            ],
            "text/plain": [
              "                                                 text  post_type\n",
              "0   ['อัพเดท', '01082022', 'แผนที่', 'เดิม', 'ลอง'...          3\n",
              "1   ['สอบถาม', 'รู้', 'โดน', 'รีไทร์', 'ดู', 'เลข'...          3\n",
              "2   ['ไอแพด', 'ลืม', 'ห้อง', 'ปฏิบัติการ', 'ฟิสิกส...          0\n",
              "3   ['แนะนำ', 'สอบ', 'สัมภาษณ์', 'รุ่น', 'พี่', 'B...          3\n",
              "4   ['แนะนำ', 'หนังสือ', 'อ่าน', 'สอบ', 'สอบ', 'วท...          3\n",
              "..                                                ...        ...\n",
              "88  ['บุญ', 'เบื้องหลัง', 'สุข', 'สำเร็จ', 'ชีวิต'...          3\n",
              "89  ['เจอ', 'กุญแจ', 'มอไซต์', 'xmax', 'สี', 'ดำ',...          0\n",
              "90                ['มอ', 'แมลง', 'ทอด', 'ขาย', 'กิน']          1\n",
              "91  ['ผม', 'สอบถาม', 'พี่', 'สำหรับ', 'PnET', 'PE'...          3\n",
              "92  ['อนุญาต', 'สอบถาม', 'แถว', 'มอเรา', 'คลินิก',...          3\n",
              "\n",
              "[93 rows x 2 columns]"
            ]
          },
          "execution_count": 15,
          "metadata": {},
          "output_type": "execute_result"
        }
      ],
      "source": [
        "df.drop('username', inplace=True, axis=1)\n",
        "df.drop('user_id', inplace=True, axis=1)\n",
        "df.drop('image', inplace=True, axis=1)\n",
        "df.drop('date_time', inplace=True, axis=1)\n",
        "df\n"
      ]
    },
    {
      "cell_type": "markdown",
      "metadata": {
        "id": "JPOE14LKCbzi"
      },
      "source": [
        "-------------------------------------------"
      ]
    },
    {
      "cell_type": "markdown",
      "metadata": {
        "id": "wj7C3_rQD5Fj"
      },
      "source": [
        "Add second data frame"
      ]
    },
    {
      "cell_type": "code",
      "execution_count": 16,
      "metadata": {
        "colab": {
          "base_uri": "https://localhost:8080/",
          "height": 424
        },
        "id": "D0ISEsSRCbX7",
        "outputId": "369866db-9f02-41bb-8824-d02cd7e78769"
      },
      "outputs": [
        {
          "data": {
            "text/html": [
              "<div>\n",
              "<style scoped>\n",
              "    .dataframe tbody tr th:only-of-type {\n",
              "        vertical-align: middle;\n",
              "    }\n",
              "\n",
              "    .dataframe tbody tr th {\n",
              "        vertical-align: top;\n",
              "    }\n",
              "\n",
              "    .dataframe thead th {\n",
              "        text-align: right;\n",
              "    }\n",
              "</style>\n",
              "<table border=\"1\" class=\"dataframe\">\n",
              "  <thead>\n",
              "    <tr style=\"text-align: right;\">\n",
              "      <th></th>\n",
              "      <th>Unnamed: 0</th>\n",
              "      <th>post_type</th>\n",
              "      <th>text</th>\n",
              "    </tr>\n",
              "  </thead>\n",
              "  <tbody>\n",
              "    <tr>\n",
              "      <th>0</th>\n",
              "      <td>0</td>\n",
              "      <td>1</td>\n",
              "      <td>['หา', 'สัญญา', 'หอ', 'มจพ', 'ย้าย', 'ปลาย', '...</td>\n",
              "    </tr>\n",
              "    <tr>\n",
              "      <th>1</th>\n",
              "      <td>1</td>\n",
              "      <td>1</td>\n",
              "      <td>['ขาย', 'ตั๋วหนัง', 'black', 'panther', 'โรง',...</td>\n",
              "    </tr>\n",
              "    <tr>\n",
              "      <th>2</th>\n",
              "      <td>2</td>\n",
              "      <td>1</td>\n",
              "      <td>['กระโปรง', 'ศึกษา', 'เอว', '24', '28', 'เอว',...</td>\n",
              "    </tr>\n",
              "    <tr>\n",
              "      <th>3</th>\n",
              "      <td>3</td>\n",
              "      <td>1</td>\n",
              "      <td>['อนุญาต', 'ขาย', 'ขาย', 'ตู้', 'เย็น', 'Midea...</td>\n",
              "    </tr>\n",
              "    <tr>\n",
              "      <th>4</th>\n",
              "      <td>4</td>\n",
              "      <td>1</td>\n",
              "      <td>['XX', 'คน', 'เช่า', 'XX', 'อนุญาต', 'ประกาศ',...</td>\n",
              "    </tr>\n",
              "    <tr>\n",
              "      <th>...</th>\n",
              "      <td>...</td>\n",
              "      <td>...</td>\n",
              "      <td>...</td>\n",
              "    </tr>\n",
              "    <tr>\n",
              "      <th>817</th>\n",
              "      <td>817</td>\n",
              "      <td>1</td>\n",
              "      <td>['ขาย', 'สัญญา', 'หอ', 'SPApartment', 'ราคา', ...</td>\n",
              "    </tr>\n",
              "    <tr>\n",
              "      <th>818</th>\n",
              "      <td>818</td>\n",
              "      <td>1</td>\n",
              "      <td>['ประกาศ', 'ขาย', 'สัญญา', 'หอ', 'ST', 'Place'...</td>\n",
              "    </tr>\n",
              "    <tr>\n",
              "      <th>819</th>\n",
              "      <td>819</td>\n",
              "      <td>1</td>\n",
              "      <td>['ขาย', 'สัญญา', 'หออรอ', 'นงค์', 'ตึก', 'เฟอร...</td>\n",
              "    </tr>\n",
              "    <tr>\n",
              "      <th>820</th>\n",
              "      <td>820</td>\n",
              "      <td>1</td>\n",
              "      <td>['ญาต', 'ฝาก', 'ขาย', 'ตู้', 'เย็น', 'สภาพ', '...</td>\n",
              "    </tr>\n",
              "    <tr>\n",
              "      <th>821</th>\n",
              "      <td>821</td>\n",
              "      <td>1</td>\n",
              "      <td>['ขาย', 'สัญญาหอ', 'RS', '5000', 'บาท', 'ตึก',...</td>\n",
              "    </tr>\n",
              "  </tbody>\n",
              "</table>\n",
              "<p>822 rows × 3 columns</p>\n",
              "</div>"
            ],
            "text/plain": [
              "     Unnamed: 0  post_type                                               text\n",
              "0             0          1  ['หา', 'สัญญา', 'หอ', 'มจพ', 'ย้าย', 'ปลาย', '...\n",
              "1             1          1  ['ขาย', 'ตั๋วหนัง', 'black', 'panther', 'โรง',...\n",
              "2             2          1  ['กระโปรง', 'ศึกษา', 'เอว', '24', '28', 'เอว',...\n",
              "3             3          1  ['อนุญาต', 'ขาย', 'ขาย', 'ตู้', 'เย็น', 'Midea...\n",
              "4             4          1  ['XX', 'คน', 'เช่า', 'XX', 'อนุญาต', 'ประกาศ',...\n",
              "..          ...        ...                                                ...\n",
              "817         817          1  ['ขาย', 'สัญญา', 'หอ', 'SPApartment', 'ราคา', ...\n",
              "818         818          1  ['ประกาศ', 'ขาย', 'สัญญา', 'หอ', 'ST', 'Place'...\n",
              "819         819          1  ['ขาย', 'สัญญา', 'หออรอ', 'นงค์', 'ตึก', 'เฟอร...\n",
              "820         820          1  ['ญาต', 'ฝาก', 'ขาย', 'ตู้', 'เย็น', 'สภาพ', '...\n",
              "821         821          1  ['ขาย', 'สัญญาหอ', 'RS', '5000', 'บาท', 'ตึก',...\n",
              "\n",
              "[822 rows x 3 columns]"
            ]
          },
          "execution_count": 16,
          "metadata": {},
          "output_type": "execute_result"
        }
      ],
      "source": [
        "df2 = pd.read_csv('new_data.csv')\n",
        "df2"
      ]
    },
    {
      "attachments": {},
      "cell_type": "markdown",
      "metadata": {},
      "source": [
        "Drop \"\tUnnamed: 0 \""
      ]
    },
    {
      "cell_type": "code",
      "execution_count": 17,
      "metadata": {},
      "outputs": [
        {
          "data": {
            "text/html": [
              "<div>\n",
              "<style scoped>\n",
              "    .dataframe tbody tr th:only-of-type {\n",
              "        vertical-align: middle;\n",
              "    }\n",
              "\n",
              "    .dataframe tbody tr th {\n",
              "        vertical-align: top;\n",
              "    }\n",
              "\n",
              "    .dataframe thead th {\n",
              "        text-align: right;\n",
              "    }\n",
              "</style>\n",
              "<table border=\"1\" class=\"dataframe\">\n",
              "  <thead>\n",
              "    <tr style=\"text-align: right;\">\n",
              "      <th></th>\n",
              "      <th>post_type</th>\n",
              "      <th>text</th>\n",
              "    </tr>\n",
              "  </thead>\n",
              "  <tbody>\n",
              "    <tr>\n",
              "      <th>0</th>\n",
              "      <td>1</td>\n",
              "      <td>['หา', 'สัญญา', 'หอ', 'มจพ', 'ย้าย', 'ปลาย', '...</td>\n",
              "    </tr>\n",
              "    <tr>\n",
              "      <th>1</th>\n",
              "      <td>1</td>\n",
              "      <td>['ขาย', 'ตั๋วหนัง', 'black', 'panther', 'โรง',...</td>\n",
              "    </tr>\n",
              "    <tr>\n",
              "      <th>2</th>\n",
              "      <td>1</td>\n",
              "      <td>['กระโปรง', 'ศึกษา', 'เอว', '24', '28', 'เอว',...</td>\n",
              "    </tr>\n",
              "    <tr>\n",
              "      <th>3</th>\n",
              "      <td>1</td>\n",
              "      <td>['อนุญาต', 'ขาย', 'ขาย', 'ตู้', 'เย็น', 'Midea...</td>\n",
              "    </tr>\n",
              "    <tr>\n",
              "      <th>4</th>\n",
              "      <td>1</td>\n",
              "      <td>['XX', 'คน', 'เช่า', 'XX', 'อนุญาต', 'ประกาศ',...</td>\n",
              "    </tr>\n",
              "    <tr>\n",
              "      <th>...</th>\n",
              "      <td>...</td>\n",
              "      <td>...</td>\n",
              "    </tr>\n",
              "    <tr>\n",
              "      <th>817</th>\n",
              "      <td>1</td>\n",
              "      <td>['ขาย', 'สัญญา', 'หอ', 'SPApartment', 'ราคา', ...</td>\n",
              "    </tr>\n",
              "    <tr>\n",
              "      <th>818</th>\n",
              "      <td>1</td>\n",
              "      <td>['ประกาศ', 'ขาย', 'สัญญา', 'หอ', 'ST', 'Place'...</td>\n",
              "    </tr>\n",
              "    <tr>\n",
              "      <th>819</th>\n",
              "      <td>1</td>\n",
              "      <td>['ขาย', 'สัญญา', 'หออรอ', 'นงค์', 'ตึก', 'เฟอร...</td>\n",
              "    </tr>\n",
              "    <tr>\n",
              "      <th>820</th>\n",
              "      <td>1</td>\n",
              "      <td>['ญาต', 'ฝาก', 'ขาย', 'ตู้', 'เย็น', 'สภาพ', '...</td>\n",
              "    </tr>\n",
              "    <tr>\n",
              "      <th>821</th>\n",
              "      <td>1</td>\n",
              "      <td>['ขาย', 'สัญญาหอ', 'RS', '5000', 'บาท', 'ตึก',...</td>\n",
              "    </tr>\n",
              "  </tbody>\n",
              "</table>\n",
              "<p>822 rows × 2 columns</p>\n",
              "</div>"
            ],
            "text/plain": [
              "     post_type                                               text\n",
              "0            1  ['หา', 'สัญญา', 'หอ', 'มจพ', 'ย้าย', 'ปลาย', '...\n",
              "1            1  ['ขาย', 'ตั๋วหนัง', 'black', 'panther', 'โรง',...\n",
              "2            1  ['กระโปรง', 'ศึกษา', 'เอว', '24', '28', 'เอว',...\n",
              "3            1  ['อนุญาต', 'ขาย', 'ขาย', 'ตู้', 'เย็น', 'Midea...\n",
              "4            1  ['XX', 'คน', 'เช่า', 'XX', 'อนุญาต', 'ประกาศ',...\n",
              "..         ...                                                ...\n",
              "817          1  ['ขาย', 'สัญญา', 'หอ', 'SPApartment', 'ราคา', ...\n",
              "818          1  ['ประกาศ', 'ขาย', 'สัญญา', 'หอ', 'ST', 'Place'...\n",
              "819          1  ['ขาย', 'สัญญา', 'หออรอ', 'นงค์', 'ตึก', 'เฟอร...\n",
              "820          1  ['ญาต', 'ฝาก', 'ขาย', 'ตู้', 'เย็น', 'สภาพ', '...\n",
              "821          1  ['ขาย', 'สัญญาหอ', 'RS', '5000', 'บาท', 'ตึก',...\n",
              "\n",
              "[822 rows x 2 columns]"
            ]
          },
          "execution_count": 17,
          "metadata": {},
          "output_type": "execute_result"
        }
      ],
      "source": [
        "df2.drop('Unnamed: 0', inplace=True, axis=1)\n",
        "df2"
      ]
    },
    {
      "cell_type": "markdown",
      "metadata": {
        "id": "5JIyARqQD2JV"
      },
      "source": [
        "APPEND 2 data frame"
      ]
    },
    {
      "cell_type": "code",
      "execution_count": 18,
      "metadata": {
        "colab": {
          "base_uri": "https://localhost:8080/"
        },
        "id": "JOUS-B9XTq-B",
        "outputId": "dbb4e9ea-7490-497c-bb57-30d50edc8907"
      },
      "outputs": [
        {
          "name": "stderr",
          "output_type": "stream",
          "text": [
            "C:\\Users\\Corgi\\AppData\\Local\\Temp\\ipykernel_6492\\556518295.py:1: FutureWarning: The frame.append method is deprecated and will be removed from pandas in a future version. Use pandas.concat instead.\n",
            "  append_data = df2.append(df,ignore_index = True)\n"
          ]
        },
        {
          "data": {
            "text/plain": [
              "(915, 2)"
            ]
          },
          "execution_count": 18,
          "metadata": {},
          "output_type": "execute_result"
        }
      ],
      "source": [
        "append_data = df2.append(df,ignore_index = True)\n",
        "append_data.shape"
      ]
    },
    {
      "cell_type": "code",
      "execution_count": 19,
      "metadata": {
        "colab": {
          "base_uri": "https://localhost:8080/",
          "height": 424
        },
        "id": "6DXJAW1uClV2",
        "outputId": "b570ad41-da67-4226-f542-882ccd94256d"
      },
      "outputs": [
        {
          "data": {
            "text/html": [
              "<div>\n",
              "<style scoped>\n",
              "    .dataframe tbody tr th:only-of-type {\n",
              "        vertical-align: middle;\n",
              "    }\n",
              "\n",
              "    .dataframe tbody tr th {\n",
              "        vertical-align: top;\n",
              "    }\n",
              "\n",
              "    .dataframe thead th {\n",
              "        text-align: right;\n",
              "    }\n",
              "</style>\n",
              "<table border=\"1\" class=\"dataframe\">\n",
              "  <thead>\n",
              "    <tr style=\"text-align: right;\">\n",
              "      <th></th>\n",
              "      <th>post_type</th>\n",
              "      <th>text</th>\n",
              "    </tr>\n",
              "  </thead>\n",
              "  <tbody>\n",
              "    <tr>\n",
              "      <th>0</th>\n",
              "      <td>1</td>\n",
              "      <td>['หา', 'สัญญา', 'หอ', 'มจพ', 'ย้าย', 'ปลาย', '...</td>\n",
              "    </tr>\n",
              "    <tr>\n",
              "      <th>1</th>\n",
              "      <td>1</td>\n",
              "      <td>['ขาย', 'ตั๋วหนัง', 'black', 'panther', 'โรง',...</td>\n",
              "    </tr>\n",
              "    <tr>\n",
              "      <th>2</th>\n",
              "      <td>1</td>\n",
              "      <td>['กระโปรง', 'ศึกษา', 'เอว', '24', '28', 'เอว',...</td>\n",
              "    </tr>\n",
              "    <tr>\n",
              "      <th>3</th>\n",
              "      <td>1</td>\n",
              "      <td>['อนุญาต', 'ขาย', 'ขาย', 'ตู้', 'เย็น', 'Midea...</td>\n",
              "    </tr>\n",
              "    <tr>\n",
              "      <th>4</th>\n",
              "      <td>1</td>\n",
              "      <td>['XX', 'คน', 'เช่า', 'XX', 'อนุญาต', 'ประกาศ',...</td>\n",
              "    </tr>\n",
              "    <tr>\n",
              "      <th>...</th>\n",
              "      <td>...</td>\n",
              "      <td>...</td>\n",
              "    </tr>\n",
              "    <tr>\n",
              "      <th>910</th>\n",
              "      <td>3</td>\n",
              "      <td>['บุญ', 'เบื้องหลัง', 'สุข', 'สำเร็จ', 'ชีวิต'...</td>\n",
              "    </tr>\n",
              "    <tr>\n",
              "      <th>911</th>\n",
              "      <td>0</td>\n",
              "      <td>['เจอ', 'กุญแจ', 'มอไซต์', 'xmax', 'สี', 'ดำ',...</td>\n",
              "    </tr>\n",
              "    <tr>\n",
              "      <th>912</th>\n",
              "      <td>1</td>\n",
              "      <td>['มอ', 'แมลง', 'ทอด', 'ขาย', 'กิน']</td>\n",
              "    </tr>\n",
              "    <tr>\n",
              "      <th>913</th>\n",
              "      <td>3</td>\n",
              "      <td>['ผม', 'สอบถาม', 'พี่', 'สำหรับ', 'PnET', 'PE'...</td>\n",
              "    </tr>\n",
              "    <tr>\n",
              "      <th>914</th>\n",
              "      <td>3</td>\n",
              "      <td>['อนุญาต', 'สอบถาม', 'แถว', 'มอเรา', 'คลินิก',...</td>\n",
              "    </tr>\n",
              "  </tbody>\n",
              "</table>\n",
              "<p>915 rows × 2 columns</p>\n",
              "</div>"
            ],
            "text/plain": [
              "     post_type                                               text\n",
              "0            1  ['หา', 'สัญญา', 'หอ', 'มจพ', 'ย้าย', 'ปลาย', '...\n",
              "1            1  ['ขาย', 'ตั๋วหนัง', 'black', 'panther', 'โรง',...\n",
              "2            1  ['กระโปรง', 'ศึกษา', 'เอว', '24', '28', 'เอว',...\n",
              "3            1  ['อนุญาต', 'ขาย', 'ขาย', 'ตู้', 'เย็น', 'Midea...\n",
              "4            1  ['XX', 'คน', 'เช่า', 'XX', 'อนุญาต', 'ประกาศ',...\n",
              "..         ...                                                ...\n",
              "910          3  ['บุญ', 'เบื้องหลัง', 'สุข', 'สำเร็จ', 'ชีวิต'...\n",
              "911          0  ['เจอ', 'กุญแจ', 'มอไซต์', 'xmax', 'สี', 'ดำ',...\n",
              "912          1                ['มอ', 'แมลง', 'ทอด', 'ขาย', 'กิน']\n",
              "913          3  ['ผม', 'สอบถาม', 'พี่', 'สำหรับ', 'PnET', 'PE'...\n",
              "914          3  ['อนุญาต', 'สอบถาม', 'แถว', 'มอเรา', 'คลินิก',...\n",
              "\n",
              "[915 rows x 2 columns]"
            ]
          },
          "execution_count": 19,
          "metadata": {},
          "output_type": "execute_result"
        }
      ],
      "source": [
        "append_data"
      ]
    },
    {
      "attachments": {},
      "cell_type": "markdown",
      "metadata": {},
      "source": [
        "Drop duplicate before save"
      ]
    },
    {
      "cell_type": "code",
      "execution_count": 20,
      "metadata": {},
      "outputs": [
        {
          "data": {
            "text/plain": [
              "(854, 2)"
            ]
          },
          "execution_count": 20,
          "metadata": {},
          "output_type": "execute_result"
        }
      ],
      "source": [
        "append_data.drop_duplicates(keep='first', inplace=True,ignore_index = True)\n",
        "append_data.shape"
      ]
    },
    {
      "cell_type": "markdown",
      "metadata": {
        "id": "qVMDkIxOEEII"
      },
      "source": [
        "Save to csv "
      ]
    },
    {
      "cell_type": "code",
      "execution_count": 21,
      "metadata": {
        "id": "ULfxg-79Tp3m"
      },
      "outputs": [],
      "source": [
        "append_data.to_csv(\"new_data.csv\")"
      ]
    },
    {
      "cell_type": "code",
      "execution_count": null,
      "metadata": {
        "id": "VpoqCmK4ECmY"
      },
      "outputs": [],
      "source": []
    }
  ],
  "metadata": {
    "colab": {
      "provenance": []
    },
    "kernelspec": {
      "display_name": "Python 3",
      "language": "python",
      "name": "python3"
    },
    "language_info": {
      "codemirror_mode": {
        "name": "ipython",
        "version": 3
      },
      "file_extension": ".py",
      "mimetype": "text/x-python",
      "name": "python",
      "nbconvert_exporter": "python",
      "pygments_lexer": "ipython3",
      "version": "3.11.0"
    },
    "vscode": {
      "interpreter": {
        "hash": "5238573367df39f7286bb46f9ff5f08f63a01a80960060ce41e3c79b190280fa"
      }
    }
  },
  "nbformat": 4,
  "nbformat_minor": 0
}
