{
 "cells": [
  {
   "cell_type": "code",
   "execution_count": 1,
   "metadata": {},
   "outputs": [],
   "source": [
    "from sklearn.feature_extraction.text import CountVectorizer,TfidfVectorizer, TfidfTransformer\n",
    "from sklearn.datasets import load_files\n",
    "import pandas as pd\n",
    "import numpy as np\n",
    "from function import str_to_list\n",
    "import re"
   ]
  },
  {
   "cell_type": "code",
   "execution_count": 2,
   "metadata": {},
   "outputs": [],
   "source": [
    "df = pd.read_csv('csv/new_data.csv')\n",
    "size = df.shape[0]\n"
   ]
  },
  {
   "attachments": {},
   "cell_type": "markdown",
   "metadata": {},
   "source": [
    "Data Preparation"
   ]
  },
  {
   "cell_type": "code",
   "execution_count": 3,
   "metadata": {},
   "outputs": [
    {
     "data": {
      "text/html": [
       "<div>\n",
       "<style scoped>\n",
       "    .dataframe tbody tr th:only-of-type {\n",
       "        vertical-align: middle;\n",
       "    }\n",
       "\n",
       "    .dataframe tbody tr th {\n",
       "        vertical-align: top;\n",
       "    }\n",
       "\n",
       "    .dataframe thead th {\n",
       "        text-align: right;\n",
       "    }\n",
       "</style>\n",
       "<table border=\"1\" class=\"dataframe\">\n",
       "  <thead>\n",
       "    <tr style=\"text-align: right;\">\n",
       "      <th></th>\n",
       "      <th>post_type</th>\n",
       "      <th>text</th>\n",
       "      <th>text_replace</th>\n",
       "    </tr>\n",
       "  </thead>\n",
       "  <tbody>\n",
       "    <tr>\n",
       "      <th>0</th>\n",
       "      <td>3</td>\n",
       "      <td>['หา', 'สัญญา', 'หอ', 'มจพ', 'ย้าย', 'ปลาย', '...</td>\n",
       "      <td>หา    สัญญา    หอ    มจพ    ย้าย    ปลาย    ...</td>\n",
       "    </tr>\n",
       "    <tr>\n",
       "      <th>1</th>\n",
       "      <td>1</td>\n",
       "      <td>['ขาย', 'ตั๋วหนัง', 'black', 'panther', 'โรง',...</td>\n",
       "      <td>ขาย    ตั๋วหนัง    black    panther    โรง  ...</td>\n",
       "    </tr>\n",
       "    <tr>\n",
       "      <th>2</th>\n",
       "      <td>1</td>\n",
       "      <td>['อนุญาต', 'ขาย', 'ขาย', 'ตู้', 'เย็น', 'Midea...</td>\n",
       "      <td>อนุญาต    ขาย    ขาย    ตู้    เย็น    Midea...</td>\n",
       "    </tr>\n",
       "    <tr>\n",
       "      <th>3</th>\n",
       "      <td>1</td>\n",
       "      <td>['XX', 'คน', 'เช่า', 'XX', 'อนุญาต', 'ประกาศ',...</td>\n",
       "      <td>XX    คน    เช่า    XX    อนุญาต    ประกาศ  ...</td>\n",
       "    </tr>\n",
       "    <tr>\n",
       "      <th>4</th>\n",
       "      <td>1</td>\n",
       "      <td>['ขาย', 'สัญญา', 'หอ', 'หมู่บ้าน', 'สิ', 'ริน'...</td>\n",
       "      <td>ขาย    สัญญา    หอ    หมู่บ้าน    สิ    ริน ...</td>\n",
       "    </tr>\n",
       "    <tr>\n",
       "      <th>...</th>\n",
       "      <td>...</td>\n",
       "      <td>...</td>\n",
       "      <td>...</td>\n",
       "    </tr>\n",
       "    <tr>\n",
       "      <th>1403</th>\n",
       "      <td>1</td>\n",
       "      <td>['ขาย', 'สัญญา', 'S9', 'Residence', 'ชั้น', '9...</td>\n",
       "      <td>ขาย    สัญญา    S9    Residence    ชั้น    9...</td>\n",
       "    </tr>\n",
       "    <tr>\n",
       "      <th>1404</th>\n",
       "      <td>3</td>\n",
       "      <td>['แนว', 'ข้อ', 'สอบ', 'รอบ', 'สอบตรง', 'สำหรับ...</td>\n",
       "      <td>แนว    ข้อ    สอบ    รอบ    สอบตรง    สำหรับ...</td>\n",
       "    </tr>\n",
       "    <tr>\n",
       "      <th>1405</th>\n",
       "      <td>0</td>\n",
       "      <td>['คน', 'ลืม', 'ศาลยีราฟ', 'ฝาก', 'ร้าน', 'ถ่าย...</td>\n",
       "      <td>คน    ลืม    ศาลยีราฟ    ฝาก    ร้าน    ถ่าย...</td>\n",
       "    </tr>\n",
       "    <tr>\n",
       "      <th>1406</th>\n",
       "      <td>3</td>\n",
       "      <td>['พี่', 'คน', 'รอบ', '2', 'สอบ', 'ข้อ', 'แนะนำ...</td>\n",
       "      <td>พี่    คน    รอบ    2    สอบ    ข้อ    แนะนำ...</td>\n",
       "    </tr>\n",
       "    <tr>\n",
       "      <th>1407</th>\n",
       "      <td>3</td>\n",
       "      <td>['รบกวน', 'แนวทาง', 'สอบ', 'ข้อ', 'รอบ', '2', ...</td>\n",
       "      <td>รบกวน    แนวทาง    สอบ    ข้อ    รอบ    2   ...</td>\n",
       "    </tr>\n",
       "  </tbody>\n",
       "</table>\n",
       "<p>1408 rows × 3 columns</p>\n",
       "</div>"
      ],
      "text/plain": [
       "      post_type                                               text  \\\n",
       "0             3  ['หา', 'สัญญา', 'หอ', 'มจพ', 'ย้าย', 'ปลาย', '...   \n",
       "1             1  ['ขาย', 'ตั๋วหนัง', 'black', 'panther', 'โรง',...   \n",
       "2             1  ['อนุญาต', 'ขาย', 'ขาย', 'ตู้', 'เย็น', 'Midea...   \n",
       "3             1  ['XX', 'คน', 'เช่า', 'XX', 'อนุญาต', 'ประกาศ',...   \n",
       "4             1  ['ขาย', 'สัญญา', 'หอ', 'หมู่บ้าน', 'สิ', 'ริน'...   \n",
       "...         ...                                                ...   \n",
       "1403          1  ['ขาย', 'สัญญา', 'S9', 'Residence', 'ชั้น', '9...   \n",
       "1404          3  ['แนว', 'ข้อ', 'สอบ', 'รอบ', 'สอบตรง', 'สำหรับ...   \n",
       "1405          0  ['คน', 'ลืม', 'ศาลยีราฟ', 'ฝาก', 'ร้าน', 'ถ่าย...   \n",
       "1406          3  ['พี่', 'คน', 'รอบ', '2', 'สอบ', 'ข้อ', 'แนะนำ...   \n",
       "1407          3  ['รบกวน', 'แนวทาง', 'สอบ', 'ข้อ', 'รอบ', '2', ...   \n",
       "\n",
       "                                           text_replace  \n",
       "0       หา    สัญญา    หอ    มจพ    ย้าย    ปลาย    ...  \n",
       "1       ขาย    ตั๋วหนัง    black    panther    โรง  ...  \n",
       "2       อนุญาต    ขาย    ขาย    ตู้    เย็น    Midea...  \n",
       "3       XX    คน    เช่า    XX    อนุญาต    ประกาศ  ...  \n",
       "4       ขาย    สัญญา    หอ    หมู่บ้าน    สิ    ริน ...  \n",
       "...                                                 ...  \n",
       "1403    ขาย    สัญญา    S9    Residence    ชั้น    9...  \n",
       "1404    แนว    ข้อ    สอบ    รอบ    สอบตรง    สำหรับ...  \n",
       "1405    คน    ลืม    ศาลยีราฟ    ฝาก    ร้าน    ถ่าย...  \n",
       "1406    พี่    คน    รอบ    2    สอบ    ข้อ    แนะนำ...  \n",
       "1407    รบกวน    แนวทาง    สอบ    ข้อ    รอบ    2   ...  \n",
       "\n",
       "[1408 rows x 3 columns]"
      ]
     },
     "execution_count": 3,
     "metadata": {},
     "output_type": "execute_result"
    }
   ],
   "source": [
    "def text_process(text):\n",
    "    text = re.sub(\"\\[|\\]|'|,\",\" \",text)\n",
    "    return text\n",
    "    \n",
    "df['text_replace'] = df['text'].apply(text_process)\n",
    "df"
   ]
  },
  {
   "cell_type": "code",
   "execution_count": 4,
   "metadata": {},
   "outputs": [],
   "source": [
    "X = df['text_replace']\n",
    "y = df[\"post_type\"]"
   ]
  },
  {
   "cell_type": "code",
   "execution_count": 5,
   "metadata": {},
   "outputs": [
    {
     "data": {
      "text/plain": [
       "'  หา    สัญญา    หอ    มจพ    ย้าย    ปลาย    พฤศ    จิ    ธันวา    เรท    ราคา    ห้อง    6000    บาท  '"
      ]
     },
     "execution_count": 5,
     "metadata": {},
     "output_type": "execute_result"
    }
   ],
   "source": [
    "X[0]"
   ]
  },
  {
   "cell_type": "code",
   "execution_count": 6,
   "metadata": {},
   "outputs": [],
   "source": [
    "from sklearn.model_selection import train_test_split\n",
    "\n",
    "X_train, X_test, y_train, y_test = train_test_split(X, y,test_size=0.25, random_state=0)"
   ]
  },
  {
   "cell_type": "code",
   "execution_count": 33,
   "metadata": {},
   "outputs": [],
   "source": [
    "from sklearn.feature_extraction.text import TfidfVectorizer\n",
    "vectorizer = TfidfVectorizer(\n",
    "  ngram_range=(2, 4),              # อยากวิเคราะห์แบบ 2 และ 3 คำ ติดกัน\n",
    "  min_df=5,                        # ขั้นต่ำของ Doc Freq ของ Term\n",
    "  max_features=3000,               # ใช้แค่ 3,000 Term แรก\n",
    "  decode_error='ignore'\n",
    "  )\n",
    "X_train_vectorized = vectorizer.fit_transform(X_train)"
   ]
  },
  {
   "cell_type": "code",
   "execution_count": 34,
   "metadata": {},
   "outputs": [],
   "source": [
    "first_vector_tfidfvectorizer=X_train_vectorized[0] \n",
    "df = pd.DataFrame(first_vector_tfidfvectorizer.T.todense(), index=vectorizer.get_feature_names_out(), columns=[\"tfidf\"])"
   ]
  },
  {
   "cell_type": "code",
   "execution_count": 39,
   "metadata": {},
   "outputs": [
    {
     "ename": "NameError",
     "evalue": "name 'vectorizer' is not defined",
     "output_type": "error",
     "traceback": [
      "\u001b[1;31m---------------------------------------------------------------------------\u001b[0m",
      "\u001b[1;31mNameError\u001b[0m                                 Traceback (most recent call last)",
      "Cell \u001b[1;32mIn[39], line 1\u001b[0m\n\u001b[1;32m----> 1\u001b[0m \u001b[39mprint\u001b[39m(\u001b[39mtype\u001b[39m(vectorizer\u001b[39m.\u001b[39mvocabulary_))\n\u001b[0;32m      2\u001b[0m \u001b[39mprint\u001b[39m(vectorizer\u001b[39m.\u001b[39midf_)\n",
      "\u001b[1;31mNameError\u001b[0m: name 'vectorizer' is not defined"
     ]
    }
   ],
   "source": [
    "print(type(vectorizer.vocabulary_))\n",
    "print(vectorizer.idf_)"
   ]
  },
  {
   "attachments": {},
   "cell_type": "markdown",
   "metadata": {},
   "source": [
    "Built model"
   ]
  },
  {
   "cell_type": "code",
   "execution_count": 27,
   "metadata": {},
   "outputs": [
    {
     "name": "stdout",
     "output_type": "stream",
     "text": [
      "0.5568181818181818\n",
      "              precision    recall  f1-score   support\n",
      "\n",
      "           0       0.44      0.25      0.31        57\n",
      "           1       0.54      0.33      0.41       125\n",
      "           3       0.58      0.83      0.68       170\n",
      "\n",
      "    accuracy                           0.56       352\n",
      "   macro avg       0.52      0.47      0.47       352\n",
      "weighted avg       0.54      0.56      0.52       352\n",
      "\n"
     ]
    }
   ],
   "source": [
    "from sklearn.naive_bayes import MultinomialNB\n",
    "cls = MultinomialNB(alpha=1.0, fit_prior=True)\n",
    "# transform the list of text to tf-idf before passing it to the model\n",
    "cls.fit(vectorizer.fit_transform(X_train), y_train)\n",
    " \n",
    "from sklearn.metrics import classification_report, accuracy_score\n",
    " \n",
    "y_pred = cls.predict(vectorizer.fit_transform(X_test))\n",
    "print(accuracy_score(y_test, y_pred))\n",
    "print(classification_report(y_test, y_pred))"
   ]
  },
  {
   "cell_type": "code",
   "execution_count": 15,
   "metadata": {},
   "outputs": [],
   "source": [
    "import pickle\n",
    "\n",
    "filename = \"./model/check_type.sav\"\n",
    "filenamevec = \"./model/vectorizer.sav\"\n",
    "\n",
    "#save model\n",
    "pickle.dump(cls,open(filename,\"wb\"))\n",
    "pickle.dump(vectorizer,open(filenamevec,\"wb\"))\n"
   ]
  },
  {
   "cell_type": "code",
   "execution_count": null,
   "metadata": {},
   "outputs": [],
   "source": []
  }
 ],
 "metadata": {
  "kernelspec": {
   "display_name": "tf",
   "language": "python",
   "name": "python3"
  },
  "language_info": {
   "codemirror_mode": {
    "name": "ipython",
    "version": 3
   },
   "file_extension": ".py",
   "mimetype": "text/x-python",
   "name": "python",
   "nbconvert_exporter": "python",
   "pygments_lexer": "ipython3",
   "version": "3.9.15"
  },
  "orig_nbformat": 4,
  "vscode": {
   "interpreter": {
    "hash": "d1f79c32e0dc99645d5239244e42d95b73c74a9d279704f22e5c6c432f25fb04"
   }
  }
 },
 "nbformat": 4,
 "nbformat_minor": 2
}
