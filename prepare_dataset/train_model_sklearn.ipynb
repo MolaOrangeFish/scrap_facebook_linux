{
 "cells": [
  {
   "cell_type": "code",
   "execution_count": 2,
   "metadata": {},
   "outputs": [],
   "source": [
    "from sklearn.feature_extraction.text import CountVectorizer,TfidfVectorizer, TfidfTransformer\n",
    "from sklearn.datasets import load_files\n",
    "import pandas as pd\n",
    "import numpy as np\n",
    "from function import str_to_list\n",
    "import re"
   ]
  },
  {
   "cell_type": "code",
   "execution_count": 3,
   "metadata": {},
   "outputs": [],
   "source": [
    "df = pd.read_csv('csv/new_data.csv')\n",
    "size = df.shape[0]\n"
   ]
  },
  {
   "attachments": {},
   "cell_type": "markdown",
   "metadata": {},
   "source": [
    "Data Preparation"
   ]
  },
  {
   "cell_type": "code",
   "execution_count": 4,
   "metadata": {},
   "outputs": [
    {
     "data": {
      "text/html": [
       "<div>\n",
       "<style scoped>\n",
       "    .dataframe tbody tr th:only-of-type {\n",
       "        vertical-align: middle;\n",
       "    }\n",
       "\n",
       "    .dataframe tbody tr th {\n",
       "        vertical-align: top;\n",
       "    }\n",
       "\n",
       "    .dataframe thead th {\n",
       "        text-align: right;\n",
       "    }\n",
       "</style>\n",
       "<table border=\"1\" class=\"dataframe\">\n",
       "  <thead>\n",
       "    <tr style=\"text-align: right;\">\n",
       "      <th></th>\n",
       "      <th>post_type</th>\n",
       "      <th>text</th>\n",
       "      <th>text_replace</th>\n",
       "    </tr>\n",
       "  </thead>\n",
       "  <tbody>\n",
       "    <tr>\n",
       "      <th>0</th>\n",
       "      <td>3</td>\n",
       "      <td>['หา', 'สัญญา', 'หอ', 'มจพ', 'ย้าย', 'ปลาย', '...</td>\n",
       "      <td>หา    สัญญา    หอ    มจพ    ย้าย    ปลาย    ...</td>\n",
       "    </tr>\n",
       "    <tr>\n",
       "      <th>1</th>\n",
       "      <td>1</td>\n",
       "      <td>['ขาย', 'ตั๋วหนัง', 'black', 'panther', 'โรง',...</td>\n",
       "      <td>ขาย    ตั๋วหนัง    black    panther    โรง  ...</td>\n",
       "    </tr>\n",
       "    <tr>\n",
       "      <th>2</th>\n",
       "      <td>1</td>\n",
       "      <td>['อนุญาต', 'ขาย', 'ขาย', 'ตู้', 'เย็น', 'Midea...</td>\n",
       "      <td>อนุญาต    ขาย    ขาย    ตู้    เย็น    Midea...</td>\n",
       "    </tr>\n",
       "    <tr>\n",
       "      <th>3</th>\n",
       "      <td>1</td>\n",
       "      <td>['XX', 'คน', 'เช่า', 'XX', 'อนุญาต', 'ประกาศ',...</td>\n",
       "      <td>XX    คน    เช่า    XX    อนุญาต    ประกาศ  ...</td>\n",
       "    </tr>\n",
       "    <tr>\n",
       "      <th>4</th>\n",
       "      <td>1</td>\n",
       "      <td>['ขาย', 'สัญญา', 'หอ', 'หมู่บ้าน', 'สิ', 'ริน'...</td>\n",
       "      <td>ขาย    สัญญา    หอ    หมู่บ้าน    สิ    ริน ...</td>\n",
       "    </tr>\n",
       "    <tr>\n",
       "      <th>...</th>\n",
       "      <td>...</td>\n",
       "      <td>...</td>\n",
       "      <td>...</td>\n",
       "    </tr>\n",
       "    <tr>\n",
       "      <th>1098</th>\n",
       "      <td>3</td>\n",
       "      <td>['หา', 'สัญญา', 'หอ', 'S9', 'รีบ', 'เดือน']</td>\n",
       "      <td>หา    สัญญา    หอ    S9    รีบ    เดือน</td>\n",
       "    </tr>\n",
       "    <tr>\n",
       "      <th>1099</th>\n",
       "      <td>3</td>\n",
       "      <td>['หนังสือ', 'สอบ', 'ข้อ', 'มจพ', 'แนะนำ', 'แหล...</td>\n",
       "      <td>หนังสือ    สอบ    ข้อ    มจพ    แนะนำ    แหล...</td>\n",
       "    </tr>\n",
       "    <tr>\n",
       "      <th>1100</th>\n",
       "      <td>3</td>\n",
       "      <td>['ประกาศ', 'ชื่อ', 'น้า']</td>\n",
       "      <td>ประกาศ    ชื่อ    น้า</td>\n",
       "    </tr>\n",
       "    <tr>\n",
       "      <th>1101</th>\n",
       "      <td>3</td>\n",
       "      <td>['PnetPE', 'เรื่อง', 'เรียน', 'สังคม', 'พี่', ...</td>\n",
       "      <td>PnetPE    เรื่อง    เรียน    สังคม    พี่   ...</td>\n",
       "    </tr>\n",
       "    <tr>\n",
       "      <th>1102</th>\n",
       "      <td>1</td>\n",
       "      <td>['ขาย', 'อนุญาติขาย', 'ตู้', 'เย็น', 'ราคา', '...</td>\n",
       "      <td>ขาย    อนุญาติขาย    ตู้    เย็น    ราคา    ...</td>\n",
       "    </tr>\n",
       "  </tbody>\n",
       "</table>\n",
       "<p>1103 rows × 3 columns</p>\n",
       "</div>"
      ],
      "text/plain": [
       "      post_type                                               text  \\\n",
       "0             3  ['หา', 'สัญญา', 'หอ', 'มจพ', 'ย้าย', 'ปลาย', '...   \n",
       "1             1  ['ขาย', 'ตั๋วหนัง', 'black', 'panther', 'โรง',...   \n",
       "2             1  ['อนุญาต', 'ขาย', 'ขาย', 'ตู้', 'เย็น', 'Midea...   \n",
       "3             1  ['XX', 'คน', 'เช่า', 'XX', 'อนุญาต', 'ประกาศ',...   \n",
       "4             1  ['ขาย', 'สัญญา', 'หอ', 'หมู่บ้าน', 'สิ', 'ริน'...   \n",
       "...         ...                                                ...   \n",
       "1098          3        ['หา', 'สัญญา', 'หอ', 'S9', 'รีบ', 'เดือน']   \n",
       "1099          3  ['หนังสือ', 'สอบ', 'ข้อ', 'มจพ', 'แนะนำ', 'แหล...   \n",
       "1100          3                          ['ประกาศ', 'ชื่อ', 'น้า']   \n",
       "1101          3  ['PnetPE', 'เรื่อง', 'เรียน', 'สังคม', 'พี่', ...   \n",
       "1102          1  ['ขาย', 'อนุญาติขาย', 'ตู้', 'เย็น', 'ราคา', '...   \n",
       "\n",
       "                                           text_replace  \n",
       "0       หา    สัญญา    หอ    มจพ    ย้าย    ปลาย    ...  \n",
       "1       ขาย    ตั๋วหนัง    black    panther    โรง  ...  \n",
       "2       อนุญาต    ขาย    ขาย    ตู้    เย็น    Midea...  \n",
       "3       XX    คน    เช่า    XX    อนุญาต    ประกาศ  ...  \n",
       "4       ขาย    สัญญา    หอ    หมู่บ้าน    สิ    ริน ...  \n",
       "...                                                 ...  \n",
       "1098          หา    สัญญา    หอ    S9    รีบ    เดือน    \n",
       "1099    หนังสือ    สอบ    ข้อ    มจพ    แนะนำ    แหล...  \n",
       "1100                            ประกาศ    ชื่อ    น้า    \n",
       "1101    PnetPE    เรื่อง    เรียน    สังคม    พี่   ...  \n",
       "1102    ขาย    อนุญาติขาย    ตู้    เย็น    ราคา    ...  \n",
       "\n",
       "[1103 rows x 3 columns]"
      ]
     },
     "execution_count": 4,
     "metadata": {},
     "output_type": "execute_result"
    }
   ],
   "source": [
    "def text_process(text):\n",
    "    text = re.sub(\"\\[|\\]|'|,\",\" \",text)\n",
    "    return text\n",
    "    \n",
    "df['text_replace'] = df['text'].apply(text_process)\n",
    "df"
   ]
  },
  {
   "cell_type": "code",
   "execution_count": 5,
   "metadata": {},
   "outputs": [],
   "source": [
    "X = df['text_replace']\n",
    "y = df[\"post_type\"]"
   ]
  },
  {
   "cell_type": "code",
   "execution_count": 6,
   "metadata": {},
   "outputs": [],
   "source": [
    "from sklearn.model_selection import train_test_split\n",
    "\n",
    "X_train, X_test, y_train, y_test = train_test_split(X, y,test_size=0.25, random_state=0)"
   ]
  },
  {
   "cell_type": "code",
   "execution_count": 14,
   "metadata": {},
   "outputs": [],
   "source": [
    "from sklearn.feature_extraction.text import TfidfVectorizer\n",
    "vectorizer = TfidfVectorizer(max_features=20,decode_error=\"ignore\")\n",
    "X_train_vectorized = vectorizer.fit_transform(X_train)"
   ]
  },
  {
   "attachments": {},
   "cell_type": "markdown",
   "metadata": {},
   "source": [
    "Built model"
   ]
  },
  {
   "cell_type": "code",
   "execution_count": 15,
   "metadata": {},
   "outputs": [
    {
     "name": "stdout",
     "output_type": "stream",
     "text": [
      "0.5217391304347826\n",
      "              precision    recall  f1-score   support\n",
      "\n",
      "           0       0.50      0.23      0.32        65\n",
      "           1       0.50      0.61      0.55        93\n",
      "           3       0.55      0.61      0.58       118\n",
      "\n",
      "    accuracy                           0.52       276\n",
      "   macro avg       0.52      0.48      0.48       276\n",
      "weighted avg       0.52      0.52      0.51       276\n",
      "\n"
     ]
    }
   ],
   "source": [
    "from sklearn.naive_bayes import MultinomialNB\n",
    "cls = MultinomialNB(alpha=1.0, fit_prior=True)\n",
    "# transform the list of text to tf-idf before passing it to the model\n",
    "cls.fit(vectorizer.fit_transform(X_train), y_train)\n",
    " \n",
    "from sklearn.metrics import classification_report, accuracy_score\n",
    " \n",
    "y_pred = cls.predict(vectorizer.fit_transform(X_test))\n",
    "print(accuracy_score(y_test, y_pred))\n",
    "print(classification_report(y_test, y_pred))"
   ]
  },
  {
   "cell_type": "code",
   "execution_count": 16,
   "metadata": {},
   "outputs": [],
   "source": [
    "import pickle\n",
    "\n",
    "filename = \"./model/check_type.sav\"\n",
    "filenamevec = \"./model/vectorizer.sav\"\n",
    "\n",
    "#save model\n",
    "pickle.dump(cls,open(filename,\"wb\"))\n",
    "pickle.dump(vectorizer,open(filenamevec,\"wb\"))\n"
   ]
  },
  {
   "cell_type": "code",
   "execution_count": null,
   "metadata": {},
   "outputs": [],
   "source": []
  }
 ],
 "metadata": {
  "kernelspec": {
   "display_name": "Python 3",
   "language": "python",
   "name": "python3"
  },
  "language_info": {
   "codemirror_mode": {
    "name": "ipython",
    "version": 3
   },
   "file_extension": ".py",
   "mimetype": "text/x-python",
   "name": "python",
   "nbconvert_exporter": "python",
   "pygments_lexer": "ipython3",
   "version": "3.11.0 (main, Oct 24 2022, 18:26:48) [MSC v.1933 64 bit (AMD64)]"
  },
  "orig_nbformat": 4,
  "vscode": {
   "interpreter": {
    "hash": "5238573367df39f7286bb46f9ff5f08f63a01a80960060ce41e3c79b190280fa"
   }
  }
 },
 "nbformat": 4,
 "nbformat_minor": 2
}
